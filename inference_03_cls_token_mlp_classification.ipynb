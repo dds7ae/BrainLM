{
 "cells": [
  {
   "cell_type": "code",
   "execution_count": 2,
   "metadata": {
    "pycharm": {
     "is_executing": true
    }
   },
   "outputs": [
    {
     "name": "stderr",
     "output_type": "stream",
     "text": [
      "/gpfs/gibbs/project/dijk/sr2464/conda_envs/brainlm/lib/python3.8/site-packages/tqdm/auto.py:21: TqdmWarning: IProgress not found. Please update jupyter and ipywidgets. See https://ipywidgets.readthedocs.io/en/stable/user_install.html\n",
      "  from .autonotebook import tqdm as notebook_tqdm\n"
     ]
    }
   ],
   "source": [
    "import os\n",
    "import math\n",
    "\n",
    "import umap\n",
    "import matplotlib.pyplot as plt\n",
    "import matplotlib.colors as mcol\n",
    "import seaborn as sns\n",
    "import numpy as np\n",
    "import pandas as pd\n",
    "from tqdm import tqdm\n",
    "# from sklearn.neural_network import MLPClassifier\n",
    "\n",
    "import torch\n",
    "import torch.nn as nn\n",
    "\n",
    "from datasets import load_from_disk, concatenate_datasets\n",
    "from brainlm_mae.modeling_brainlm import BrainLMForPretraining"
   ]
  },
  {
   "cell_type": "code",
   "execution_count": 3,
   "metadata": {},
   "outputs": [],
   "source": [
    "if not os.path.exists(\"inference_plots\"):\n",
    "    os.mkdir(\"inference_plots\")"
   ]
  },
  {
   "cell_type": "code",
   "execution_count": 4,
   "metadata": {},
   "outputs": [
    {
     "data": {
      "text/plain": [
       "device(type='cpu')"
      ]
     },
     "execution_count": 4,
     "metadata": {},
     "output_type": "execute_result"
    }
   ],
   "source": [
    "device = torch.device(\"cuda\" if torch.cuda.is_available() else \"cpu\")\n",
    "device"
   ]
  },
  {
   "cell_type": "code",
   "execution_count": null,
   "metadata": {
    "pycharm": {
     "name": "#%%\n"
    }
   },
   "outputs": [],
   "source": []
  },
  {
   "cell_type": "markdown",
   "metadata": {
    "pycharm": {
     "name": "#%%\n"
    }
   },
   "source": [
    "## Load Entire Dataset"
   ]
  },
  {
   "cell_type": "code",
   "execution_count": 5,
   "metadata": {
    "scrolled": false
   },
   "outputs": [
    {
     "name": "stdout",
     "output_type": "stream",
     "text": [
      "Dataset({\n",
      "    features: ['Raw_Recording', 'Voxelwise_RobustScaler_Normalized_Recording', 'Filename', 'Patient ID', 'Order', 'eid', 'Gender', 'Age.At.MHQ', 'PHQ9.Severity', 'Depressed.At.Baseline', 'Neuroticism', 'Self.Harm.Ever', 'Not.Worth.Living', 'PCL.Score', 'GAD7.Severity'],\n",
      "    num_rows: 61038\n",
      "})\n",
      "Dataset({\n",
      "    features: ['Raw_Recording', 'Voxelwise_RobustScaler_Normalized_Recording', 'Filename', 'Patient ID', 'Order', 'eid', 'Gender', 'Age.At.MHQ', 'PHQ9.Severity', 'Depressed.At.Baseline', 'Neuroticism', 'Self.Harm.Ever', 'Not.Worth.Living', 'PCL.Score', 'GAD7.Severity'],\n",
      "    num_rows: 7629\n",
      "})\n",
      "Dataset({\n",
      "    features: ['Raw_Recording', 'Voxelwise_RobustScaler_Normalized_Recording', 'Filename', 'Patient ID', 'Order', 'eid', 'Gender', 'Age.At.MHQ', 'PHQ9.Severity', 'Depressed.At.Baseline', 'Neuroticism', 'Self.Harm.Ever', 'Not.Worth.Living', 'PCL.Score', 'GAD7.Severity'],\n",
      "    num_rows: 7628\n",
      "})\n",
      "Dataset({\n",
      "    features: ['Index', 'X', 'Y', 'Z'],\n",
      "    num_rows: 424\n",
      "})\n"
     ]
    }
   ],
   "source": [
    "train_ds = load_from_disk(\"/home/sr2464/palmer_scratch/datasets/UKB_Large_rsfMRI_and_tffMRI_Arrow_WithRegression_v3_with_metadata/train_ukbiobank\")\n",
    "print(train_ds)\n",
    "val_ds = load_from_disk(\"/home/sr2464/palmer_scratch/datasets/UKB_Large_rsfMRI_and_tffMRI_Arrow_WithRegression_v3_with_metadata/val_ukbiobank\")\n",
    "print(val_ds)\n",
    "test_ds = load_from_disk(\"/home/sr2464/palmer_scratch/datasets/UKB_Large_rsfMRI_and_tffMRI_Arrow_WithRegression_v3_with_metadata/test_ukbiobank\")\n",
    "print(test_ds)\n",
    "coords_ds = load_from_disk(\"/home/sr2464/palmer_scratch/datasets/UKBioBank1000_Arrow_v4/Brain_Region_Coordinates\")\n",
    "print(coords_ds)"
   ]
  },
  {
   "cell_type": "code",
   "execution_count": 6,
   "metadata": {},
   "outputs": [
    {
     "data": {
      "text/plain": [
       "Dataset({\n",
       "    features: ['Raw_Recording', 'Voxelwise_RobustScaler_Normalized_Recording', 'Filename', 'Patient ID', 'Order', 'eid', 'Gender', 'Age.At.MHQ', 'PHQ9.Severity', 'Depressed.At.Baseline', 'Neuroticism', 'Self.Harm.Ever', 'Not.Worth.Living', 'PCL.Score', 'GAD7.Severity'],\n",
       "    num_rows: 76295\n",
       "})"
      ]
     },
     "execution_count": 6,
     "metadata": {},
     "output_type": "execute_result"
    }
   ],
   "source": [
    "concat_ds = concatenate_datasets([train_ds, val_ds, test_ds])\n",
    "concat_ds"
   ]
  },
  {
   "cell_type": "code",
   "execution_count": 7,
   "metadata": {},
   "outputs": [
    {
     "name": "stdout",
     "output_type": "stream",
     "text": [
      "1191089.dat_tf\n",
      "_tf\n",
      "18416.0\n",
      "1191089.0\n",
      "nan\n",
      "nan\n",
      "nan\n",
      "nan\n",
      "nan\n",
      "nan\n",
      "nan\n",
      "nan\n"
     ]
    }
   ],
   "source": [
    "example0 = concat_ds[10]\n",
    "print(example0['Filename'])\n",
    "print(example0['Patient ID'])\n",
    "print(example0['Order'])\n",
    "print(example0['eid'])\n",
    "print(example0['Gender'])\n",
    "print(example0['Age.At.MHQ'])\n",
    "print(example0['Depressed.At.Baseline'])\n",
    "print(example0['Neuroticism'])\n",
    "print(example0['Self.Harm.Ever'])\n",
    "print(example0['Not.Worth.Living'])\n",
    "print(example0['PCL.Score'])\n",
    "print(example0['GAD7.Severity'])"
   ]
  },
  {
   "cell_type": "code",
   "execution_count": null,
   "metadata": {},
   "outputs": [],
   "source": []
  },
  {
   "cell_type": "markdown",
   "metadata": {},
   "source": [
    "## Define MLP with WeightedCrossEntropy"
   ]
  },
  {
   "cell_type": "code",
   "execution_count": 8,
   "metadata": {},
   "outputs": [],
   "source": [
    "import random\n",
    "from typing import List\n",
    "\n",
    "import torch.nn.functional as F"
   ]
  },
  {
   "cell_type": "code",
   "execution_count": 9,
   "metadata": {},
   "outputs": [],
   "source": [
    "class MLP(nn.Module):\n",
    "    def __init__(self, input_size: int, hidden_size: int, output_size: int):\n",
    "        \"\"\"\n",
    "        Arguments:\n",
    "            random_state: random seed\n",
    "            max_iter: maximum number of epochs\n",
    "            input_size: input size\n",
    "            hidden_size: size for hidden layers in MLP\n",
    "            output_size: output size\n",
    "            \n",
    "        Assumed parameters:\n",
    "            activation: 'relu'\n",
    "            solver: 'adam'\n",
    "            alpha: weight decay of 1e-4\n",
    "            batch_size: min(200, n_samples)\n",
    "            learning_rate: 0.001\n",
    "            tolerance: 1e-4, stops if loss doesn't improve by 1e-4 for n_iter_no_change iterations\n",
    "            n_iter_no_change: 10\n",
    "        \"\"\"\n",
    "        super().__init__()\n",
    "        self.lin1 = nn.Linear(input_size, hidden_size)\n",
    "        self.act1 = nn.ReLU()\n",
    "        self.lin2 = nn.Linear(hidden_size, hidden_size)\n",
    "        self.act2 = nn.ReLU()\n",
    "        self.lin3 = nn.Linear(hidden_size, output_size)\n",
    "\n",
    "    def forward(self, x):\n",
    "        x = self.lin1(x)\n",
    "        x = self.act1(x)\n",
    "        x = self.lin2(x)\n",
    "        x = self.act2(x)\n",
    "        x = self.lin3(x)\n",
    "        return x\n",
    "\n",
    "    \n",
    "class SimpleDataset(torch.utils.data.Dataset):\n",
    "    def __init__(self, X, y):\n",
    "        self.X = X  # numpy array shape [num_examples, num_features]\n",
    "        self.y = torch.tensor(y, dtype=torch.float32)  # list length [num_examples]\n",
    "    \n",
    "    def __len__(self):\n",
    "        return self.X.shape[0]\n",
    "    \n",
    "    def __getitem__(self, idx):\n",
    "        sample = self.X[idx]\n",
    "        label = self.y[idx]\n",
    "        return sample, label\n",
    "\n",
    "\n",
    "class EarlyStopper:\n",
    "    def __init__(self, patience=10, delta=1e-5):\n",
    "        self.patience = patience\n",
    "        self.delta = delta\n",
    "        self.counter = 0\n",
    "        self.best_score = None\n",
    "        self.early_stop = False\n",
    "        self.val_loss_min = np.Inf\n",
    "\n",
    "    def __call__(self, loss_value):\n",
    "        score = -loss_value\n",
    "\n",
    "        if self.best_score is None:  # no prior best loss, set\n",
    "            self.best_score = score\n",
    "        elif score < self.best_score + self.delta:  # hasn't improved enough yet\n",
    "            self.counter += 1\n",
    "            if self.counter >= self.patience:\n",
    "                self.early_stop = True\n",
    "        else:  # improved enough, reset counter and score\n",
    "            self.best_score = score\n",
    "            self.counter = 0\n",
    "    \n",
    "        \n",
    "class MLPClassifier(nn.Module):\n",
    "    def __init__(self, \n",
    "                 random_state: int, \n",
    "                 max_iter: int, \n",
    "                 input_size: int,\n",
    "                 hidden_size: int, \n",
    "                 output_size: int,\n",
    "                ):\n",
    "        \"\"\"\n",
    "        Arguments:\n",
    "            random_state: random seed\n",
    "            max_iter: maximum number of epochs\n",
    "            input_size: input size\n",
    "            hidden_size: size for hidden layers in MLP\n",
    "            output_size: output size\n",
    "            \n",
    "        Assumed parameters:\n",
    "            activation: 'relu'\n",
    "            solver: 'adam'\n",
    "            alpha: weight decay of 1e-4\n",
    "            batch_size: min(200, n_samples)\n",
    "            learning_rate: 0.001\n",
    "            tolerance: 1e-5, stops if loss doesn't improve by 1e-4 for n_iter_no_change iterations\n",
    "            n_iter_no_change: 40\n",
    "        \"\"\"\n",
    "        super().__init__()\n",
    "        self.max_iter = max_iter\n",
    "        \n",
    "        # Set random seed\n",
    "        torch.manual_seed(random_state)\n",
    "        random.seed(random_state)\n",
    "        np.random.seed(random_state)\n",
    "        \n",
    "        self.mlp = MLP(input_size, hidden_size, output_size)\n",
    "    \n",
    "    def fit(self, train_X, train_y, pos_weight, learning_rate=0.001):\n",
    "        \"\"\"\n",
    "        Arguments:\n",
    "            - train_X: numpy array of shape [num_examples, num_features]\n",
    "            - train_y: numpy array of shape [num_examples]\n",
    "            - pos_weight: numpy array of positive sample weights, shape [num_classes],\n",
    "                weight should be = num_negative_instances / num_positive_instances of that class\n",
    "        \"\"\"\n",
    "        batch_size = min(train_X.shape[0], 250)\n",
    "        dataset = SimpleDataset(train_X, train_y)\n",
    "        train_loader = torch.utils.data.DataLoader(dataset, batch_size=batch_size, shuffle=True, num_workers=1)\n",
    "        \n",
    "        optimizer = torch.optim.Adam(self.mlp.parameters(), lr=learning_rate, weight_decay=1e-4)\n",
    "        criterion = torch.nn.BCEWithLogitsLoss(pos_weight=pos_weight)\n",
    "        early_stopper = EarlyStopper(patience=30, delta=1e-5)\n",
    "        # criterion should be called like: criterion(output, target), \n",
    "        #  where both output and target are shape [num_samples, num_classes=1]\n",
    "        \n",
    "        for epoch_idx in range(self.max_iter):\n",
    "            train_loss_total = 0.\n",
    "            num_ex = 0\n",
    "            for sample, labels in train_loader:\n",
    "                #print(\"sample.shape:\", sample.shape)  # [batch_size, num_features]\n",
    "                #print(\"label.shape:\", label.shape)  # [batch_size]\n",
    "                self.mlp.train()\n",
    "                optimizer.zero_grad()\n",
    "                \n",
    "                outputs = self.mlp(sample)\n",
    "                labels = labels.unsqueeze(-1)\n",
    "                #print(\"outputs.shape:\", outputs.shape)\n",
    "                #print(\"label.shape:\", label.shape)\n",
    "                #print(\"outputs[:5]:\", outputs[:5])\n",
    "                #print(\"label[:5]:\", label[:5])\n",
    "                \n",
    "                loss = criterion(outputs, labels)\n",
    "                loss.backward()\n",
    "                optimizer.step()\n",
    "                \n",
    "                train_loss_total += loss.item()\n",
    "                num_ex += sample.shape[0]\n",
    "            \n",
    "            train_loss_avg = train_loss_total / num_ex\n",
    "            print(f\"Iteration {epoch_idx + 1}, loss = {train_loss_avg:.8f}\")\n",
    "            early_stopper(train_loss_avg)\n",
    "            if early_stopper.early_stop:\n",
    "                print(\"Training loss did not improve more than tol=0.00001 for 30 consecutive epochs. Stopping.\")\n",
    "                break\n",
    "    \n",
    "    def score(self, test_X, test_y):\n",
    "        self.mlp.eval()\n",
    "        test_X = torch.tensor(test_X, dtype=torch.float32)  # shape [num_samples, num_features]\n",
    "        test_y = torch.tensor(test_y, dtype=torch.int64).squeeze()  # shape [num_samples]\n",
    "        #print(\"test_X.shape:\", test_X.shape)\n",
    "        #print(\"test_y.shape:\", test_y.shape)\n",
    "        \n",
    "        preds = self.mlp(test_X)\n",
    "        preds = preds.squeeze().detach()    # shape [num_samples]\n",
    "        #print(\"preds.shape:\", preds.shape)\n",
    "        #print(\"preds[:5]:\", preds[:5])\n",
    "        #print(\"test_y[:5]:\", test_y[:5])\n",
    "        preds = F.sigmoid(preds)\n",
    "        preds = preds > 0.5\n",
    "        preds = preds.long()\n",
    "        #print(\"preds[:5]:\", preds[:5])\n",
    "        accuracy = (preds == test_y).sum() / test_X.shape[0]\n",
    "        return accuracy.item()"
   ]
  },
  {
   "cell_type": "code",
   "execution_count": null,
   "metadata": {},
   "outputs": [],
   "source": []
  },
  {
   "cell_type": "code",
   "execution_count": null,
   "metadata": {},
   "outputs": [],
   "source": []
  },
  {
   "cell_type": "code",
   "execution_count": null,
   "metadata": {},
   "outputs": [],
   "source": []
  },
  {
   "cell_type": "markdown",
   "metadata": {},
   "source": [
    "## Reload PCA components of CLS tokens and raw data"
   ]
  },
  {
   "cell_type": "code",
   "execution_count": 10,
   "metadata": {},
   "outputs": [
    {
     "data": {
      "text/plain": [
       "(76295, 512)"
      ]
     },
     "execution_count": 10,
     "metadata": {},
     "output_type": "execute_result"
    }
   ],
   "source": [
    "# Best BrainLM model so far: /home/mr2238/BrainLM/inference_plots/dataset_v3/2023-07-17-19_00_00_ckpt-500/\n",
    "#  all_cls_200recordinglength.npy\n",
    "#  pca_reduced_cls_tokens_200components.npy\n",
    "# Raw recordings:\n",
    "#  recordings normalized: in concat_ds, column \n",
    "#  PCA of raw recordings: /home/mr2238/BrainLM/inference_plots/dataset_v3/pca_reduced_raw_data_200length_200components.npy\n",
    "all_cls_tokens = np.load(\"/home/mr2238/BrainLM/inference_plots/dataset_v3/2023-07-17-19_00_00_ckpt-500/all_cls_200recordinglength.npy\")\n",
    "all_cls_tokens.shape"
   ]
  },
  {
   "cell_type": "code",
   "execution_count": 12,
   "metadata": {},
   "outputs": [
    {
     "data": {
      "text/plain": [
       "(76295, 200)"
      ]
     },
     "execution_count": 12,
     "metadata": {},
     "output_type": "execute_result"
    }
   ],
   "source": [
    "cls_token_pca_components = np.load(\"/home/mr2238/BrainLM/inference_plots/dataset_v3/2023-07-17-19_00_00_ckpt-500/pca_reduced_cls_tokens_200components.npy\")\n",
    "cls_token_pca_components.shape"
   ]
  },
  {
   "cell_type": "code",
   "execution_count": 13,
   "metadata": {},
   "outputs": [
    {
     "data": {
      "text/plain": [
       "Dataset({\n",
       "    features: ['Raw_Recording', 'Voxelwise_RobustScaler_Normalized_Recording', 'Filename', 'Patient ID', 'Order', 'eid', 'Gender', 'Age.At.MHQ', 'PHQ9.Severity', 'Depressed.At.Baseline', 'Neuroticism', 'Self.Harm.Ever', 'Not.Worth.Living', 'PCL.Score', 'GAD7.Severity', 'cls_token_pca_components'],\n",
       "    num_rows: 76295\n",
       "})"
      ]
     },
     "execution_count": 13,
     "metadata": {},
     "output_type": "execute_result"
    }
   ],
   "source": [
    "total_num_ex = cls_token_pca_components.shape[0]\n",
    "cls_token_pca_components_list = [cls_token_pca_components[idx] for idx in range(total_num_ex)]\n",
    "concat_ds = concat_ds.add_column(name=\"cls_token_pca_components\", column=cls_token_pca_components_list)\n",
    "concat_ds"
   ]
  },
  {
   "cell_type": "code",
   "execution_count": 14,
   "metadata": {},
   "outputs": [
    {
     "data": {
      "text/plain": [
       "Dataset({\n",
       "    features: ['Raw_Recording', 'Voxelwise_RobustScaler_Normalized_Recording', 'Filename', 'Patient ID', 'Order', 'eid', 'Gender', 'Age.At.MHQ', 'PHQ9.Severity', 'Depressed.At.Baseline', 'Neuroticism', 'Self.Harm.Ever', 'Not.Worth.Living', 'PCL.Score', 'GAD7.Severity', 'cls_token_pca_components', 'whole_cls_token'],\n",
       "    num_rows: 76295\n",
       "})"
      ]
     },
     "execution_count": 14,
     "metadata": {},
     "output_type": "execute_result"
    }
   ],
   "source": [
    "# Add whole CLS token to ds as well\n",
    "total_num_ex = all_cls_tokens.shape[0]\n",
    "all_cls_tokens_list = [all_cls_tokens[idx] for idx in range(total_num_ex)]\n",
    "concat_ds = concat_ds.add_column(name=\"whole_cls_token\", column=all_cls_tokens_list)\n",
    "concat_ds"
   ]
  },
  {
   "cell_type": "code",
   "execution_count": 16,
   "metadata": {},
   "outputs": [],
   "source": [
    "# recording_col_name = \"Subtract_Mean_Divide_Global_STD_Normalized_Recording\"\n",
    "# all_recordings = np.load(\"inference_plots/all_{}_490len.npy\".format(recording_col_name))\n",
    "# all_recordings.shape"
   ]
  },
  {
   "cell_type": "code",
   "execution_count": 17,
   "metadata": {},
   "outputs": [
    {
     "data": {
      "text/plain": [
       "(76295, 200)"
      ]
     },
     "execution_count": 17,
     "metadata": {},
     "output_type": "execute_result"
    }
   ],
   "source": [
    "recording_pca_components = np.load(\"/home/mr2238/BrainLM/inference_plots/dataset_v3/pca_reduced_raw_data_200length_200components.npy\")\n",
    "recording_pca_components.shape"
   ]
  },
  {
   "cell_type": "code",
   "execution_count": 18,
   "metadata": {},
   "outputs": [
    {
     "data": {
      "text/plain": [
       "Dataset({\n",
       "    features: ['Raw_Recording', 'Voxelwise_RobustScaler_Normalized_Recording', 'Filename', 'Patient ID', 'Order', 'eid', 'Gender', 'Age.At.MHQ', 'PHQ9.Severity', 'Depressed.At.Baseline', 'Neuroticism', 'Self.Harm.Ever', 'Not.Worth.Living', 'PCL.Score', 'GAD7.Severity', 'cls_token_pca_components', 'whole_cls_token', 'recording_pca_components'],\n",
       "    num_rows: 76295\n",
       "})"
      ]
     },
     "execution_count": 18,
     "metadata": {},
     "output_type": "execute_result"
    }
   ],
   "source": [
    "recording_pca_components_list = [recording_pca_components[idx] for idx in range(total_num_ex)]\n",
    "concat_ds = concat_ds.add_column(name=\"recording_pca_components\", column=recording_pca_components_list)\n",
    "concat_ds"
   ]
  },
  {
   "cell_type": "code",
   "execution_count": 19,
   "metadata": {},
   "outputs": [
    {
     "data": {
      "text/plain": [
       "(200,)"
      ]
     },
     "execution_count": 19,
     "metadata": {},
     "output_type": "execute_result"
    }
   ],
   "source": [
    "np.array(concat_ds[0][\"cls_token_pca_components\"], dtype=np.float32).shape"
   ]
  },
  {
   "cell_type": "code",
   "execution_count": 20,
   "metadata": {},
   "outputs": [
    {
     "name": "stdout",
     "output_type": "stream",
     "text": [
      "[-0.5865330696105957, -0.2947590947151184, 0.1324397772550583, -1.0456269979476929, 0.8647788166999817]\n",
      "[-27.499038696289062, 10.373053550720215, -30.58742332458496, -25.046045303344727, 29.680246353149414]\n"
     ]
    }
   ],
   "source": [
    "print(concat_ds[0][\"cls_token_pca_components\"][:5])\n",
    "print(concat_ds[0][\"recording_pca_components\"][:5])"
   ]
  },
  {
   "cell_type": "code",
   "execution_count": null,
   "metadata": {},
   "outputs": [],
   "source": []
  },
  {
   "cell_type": "code",
   "execution_count": null,
   "metadata": {},
   "outputs": [],
   "source": []
  },
  {
   "cell_type": "code",
   "execution_count": 21,
   "metadata": {},
   "outputs": [
    {
     "name": "stdout",
     "output_type": "stream",
     "text": [
      "[nan, nan, nan, 0.0, 1.0, 0.0, nan, nan, 0.0, 0.0]\n",
      "[nan, nan, nan, 52.0, 72.0, 75.0, nan, nan, 72.0, 63.0]\n",
      "[nan, nan, nan, 3.0, 1.0, 0.0, nan, nan, 0.0, 10.0]\n",
      "[nan, nan, nan, 0.0, 0.0, 1.0, nan, nan, 0.0, 1.0]\n",
      "[nan, nan, nan, 5.0, nan, 1.0, nan, nan, 4.0, nan]\n",
      "[nan, nan, nan, 0.0, 0.0, 0.0, nan, nan, 0.0, 0.0]\n",
      "[nan, nan, nan, 0.0, 1.0, 0.0, nan, nan, 0.0, 0.0]\n",
      "[nan, nan, nan, 7.0, 11.0, 7.0, nan, nan, 4.0, 14.0]\n",
      "[nan, nan, nan, 2.0, 3.0, 4.0, nan, nan, 0.0, 10.0]\n"
     ]
    }
   ],
   "source": [
    "print(concat_ds[\"Gender\"][:10])\n",
    "print(concat_ds[\"Age.At.MHQ\"][:10])\n",
    "print(concat_ds[\"PHQ9.Severity\"][:10])\n",
    "print(concat_ds[\"Depressed.At.Baseline\"][:10])\n",
    "print(concat_ds[\"Neuroticism\"][:10])\n",
    "print(concat_ds[\"Self.Harm.Ever\"][:10])\n",
    "print(concat_ds[\"Not.Worth.Living\"][:10])\n",
    "print(concat_ds[\"PCL.Score\"][:10])\n",
    "print(concat_ds[\"GAD7.Severity\"][:10])"
   ]
  },
  {
   "cell_type": "code",
   "execution_count": 22,
   "metadata": {
    "scrolled": true
   },
   "outputs": [
    {
     "name": "stdout",
     "output_type": "stream",
     "text": [
      "Gender: [ 0.  1. nan]\n",
      "Age.At.MHQ: [47. 48. 49. 50. 51. 52. 53. 54. 55. 56. 57. 58. 59. 60. 61. 62. 63. 64.\n",
      " 65. 66. 67. 68. 69. 70. 71. 72. 73. 74. 75. 76. 77. 78. 79. 80. nan]\n",
      "PHQ9.Severity: [ 0.  1.  2.  3.  4.  5.  6.  7.  8.  9. 10. 11. 12. 13. 14. 15. 16. 17.\n",
      " 18. 19. 20. 21. 22. 23. 24. 25. 26. 27. nan]\n",
      "Depressed.At.Baseline: [ 0.  1. nan]\n",
      "Neuroticism: [ 0.  1.  2.  3.  4.  5.  6.  7.  8.  9. 10. 11. 12. nan]\n",
      "Self.Harm.Ever: [ 0.  1. nan]\n",
      "Not.Worth.Living: [ 0.  1. nan]\n",
      "PCL.Score: [ 1.  2.  3.  4.  5.  6.  7.  8.  9. 10. 11. 12. 13. 14. 15. 16. 17. 18.\n",
      " 19. 20. 21. 22. 23. 24. 25. 26. 27. 28. 29. nan]\n",
      "GAD7.Severity: [ 0.  1.  2.  3.  4.  5.  6.  7.  8.  9. 10. 11. 12. 13. 14. 15. 16. 17.\n",
      " 18. 19. 20. 21. nan]\n"
     ]
    }
   ],
   "source": [
    "print(\"Gender:\", np.unique(np.array(concat_ds[\"Gender\"])))\n",
    "print(\"Age.At.MHQ:\", np.unique(np.array(concat_ds[\"Age.At.MHQ\"])))\n",
    "print(\"PHQ9.Severity:\", np.unique(np.array(concat_ds[\"PHQ9.Severity\"])))\n",
    "print(\"Depressed.At.Baseline:\", np.unique(np.array(concat_ds[\"Depressed.At.Baseline\"])))\n",
    "print(\"Neuroticism:\", np.unique(np.array(concat_ds[\"Neuroticism\"])))\n",
    "print(\"Self.Harm.Ever:\", np.unique(np.array(concat_ds[\"Self.Harm.Ever\"])))\n",
    "print(\"Not.Worth.Living:\", np.unique(np.array(concat_ds[\"Not.Worth.Living\"])))\n",
    "print(\"PCL.Score:\", np.unique(np.array(concat_ds[\"PCL.Score\"])))\n",
    "print(\"GAD7.Severity:\", np.unique(np.array(concat_ds[\"GAD7.Severity\"])))"
   ]
  },
  {
   "cell_type": "code",
   "execution_count": 23,
   "metadata": {},
   "outputs": [
    {
     "data": {
      "text/plain": [
       "(array([ 0.,  1., nan]), array([25965, 11191, 39139]))"
      ]
     },
     "execution_count": 23,
     "metadata": {},
     "output_type": "execute_result"
    }
   ],
   "source": [
    "np.unique(np.array(concat_ds[\"Not.Worth.Living\"]), return_counts=True)"
   ]
  },
  {
   "cell_type": "code",
   "execution_count": null,
   "metadata": {},
   "outputs": [],
   "source": []
  },
  {
   "cell_type": "markdown",
   "metadata": {},
   "source": [
    "## Run MLP Classifier on Gender"
   ]
  },
  {
   "cell_type": "code",
   "execution_count": 24,
   "metadata": {},
   "outputs": [],
   "source": [
    "variable_of_interest = \"Gender\""
   ]
  },
  {
   "cell_type": "code",
   "execution_count": 25,
   "metadata": {},
   "outputs": [
    {
     "data": {
      "text/plain": [
       "Dataset({\n",
       "    features: ['Raw_Recording', 'Voxelwise_RobustScaler_Normalized_Recording', 'Filename', 'Patient ID', 'Order', 'eid', 'Gender', 'Age.At.MHQ', 'PHQ9.Severity', 'Depressed.At.Baseline', 'Neuroticism', 'Self.Harm.Ever', 'Not.Worth.Living', 'PCL.Score', 'GAD7.Severity', 'cls_token_pca_components', 'whole_cls_token', 'recording_pca_components'],\n",
       "    num_rows: 37156\n",
       "})"
      ]
     },
     "execution_count": 25,
     "metadata": {},
     "output_type": "execute_result"
    }
   ],
   "source": [
    "# Select rows of concat_dataset where label is not nan\n",
    "full_label_list = concat_ds[variable_of_interest]\n",
    "non_nan_indices = [idx for idx in range(len(full_label_list)) if not math.isnan(full_label_list[idx])]\n",
    "# print(non_nan_indices[:10])\n",
    "# print(full_label_list[:10])\n",
    "non_nan_ds = concat_ds.select(non_nan_indices)\n",
    "non_nan_ds = non_nan_ds.shuffle(seed=42)\n",
    "non_nan_ds"
   ]
  },
  {
   "cell_type": "code",
   "execution_count": 26,
   "metadata": {},
   "outputs": [
    {
     "name": "stdout",
     "output_type": "stream",
     "text": [
      "(37156, 200)\n",
      "(37156, 200)\n",
      "(37156, 512)\n"
     ]
    },
    {
     "data": {
      "text/plain": [
       "[0, 0, 1, 0, 1, 0, 0, 0, 1, 1]"
      ]
     },
     "execution_count": 26,
     "metadata": {},
     "output_type": "execute_result"
    }
   ],
   "source": [
    "raw_data_pca_nonnan = np.array(non_nan_ds[\"recording_pca_components\"], dtype=np.float32)\n",
    "print(raw_data_pca_nonnan.shape)\n",
    "cls_token_pca_nonnan = np.array(non_nan_ds[\"cls_token_pca_components\"], dtype=np.float32)\n",
    "print(cls_token_pca_nonnan.shape)\n",
    "whole_cls_token = np.array(non_nan_ds[\"whole_cls_token\"], dtype=np.float32)\n",
    "print(whole_cls_token.shape)\n",
    "\n",
    "labels = non_nan_ds[variable_of_interest]\n",
    "labels = [int(num) for num in labels]\n",
    "labels[:10]"
   ]
  },
  {
   "cell_type": "code",
   "execution_count": 27,
   "metadata": {},
   "outputs": [
    {
     "name": "stdout",
     "output_type": "stream",
     "text": [
      "(29724, 200)\n",
      "(7432, 200)\n"
     ]
    }
   ],
   "source": [
    "# Run on raw data\n",
    "split_idx = int(raw_data_pca_nonnan.shape[0] * 0.8)\n",
    "train_X_raw_data = raw_data_pca_nonnan[:split_idx]\n",
    "test_X_raw_data = raw_data_pca_nonnan[split_idx:]\n",
    "print(train_X_raw_data.shape)\n",
    "print(test_X_raw_data.shape)\n",
    "train_y_raw_data = labels[:split_idx]\n",
    "test_y_raw_data = labels[split_idx:]"
   ]
  },
  {
   "cell_type": "code",
   "execution_count": 28,
   "metadata": {},
   "outputs": [
    {
     "name": "stdout",
     "output_type": "stream",
     "text": [
      "13608 positives\n",
      "16116 negatives\n",
      "29724 total\n",
      "pos_weight: tensor(1.1843)\n"
     ]
    }
   ],
   "source": [
    "num_positive_examples = sum(train_y_raw_data)\n",
    "num_neg_examples = len(train_y_raw_data) - num_positive_examples\n",
    "pos_weight = num_neg_examples / num_positive_examples\n",
    "pos_weight = torch.tensor(pos_weight, dtype=torch.float32)\n",
    "print(num_positive_examples, \"positives\")\n",
    "print(num_neg_examples, \"negatives\")\n",
    "print(len(train_y_raw_data), \"total\")\n",
    "print(\"pos_weight:\", pos_weight)"
   ]
  },
  {
   "cell_type": "code",
   "execution_count": 29,
   "metadata": {},
   "outputs": [
    {
     "data": {
      "text/plain": [
       "array([-46.49019   ,  -6.9693494 , -44.529865  , -28.447311  ,\n",
       "       -17.217026  ,   0.47021937,  14.024554  , -16.150738  ,\n",
       "         8.224347  ,   0.1882209 ], dtype=float32)"
      ]
     },
     "execution_count": 29,
     "metadata": {},
     "output_type": "execute_result"
    }
   ],
   "source": [
    "train_X_raw_data[0, :10]"
   ]
  },
  {
   "cell_type": "code",
   "execution_count": 30,
   "metadata": {
    "scrolled": true
   },
   "outputs": [
    {
     "name": "stdout",
     "output_type": "stream",
     "text": [
      "Iteration 1, loss = 0.00281133\n",
      "Iteration 2, loss = 0.00252307\n",
      "Iteration 3, loss = 0.00235583\n",
      "Iteration 4, loss = 0.00218348\n",
      "Iteration 5, loss = 0.00200794\n",
      "Iteration 6, loss = 0.00182901\n",
      "Iteration 7, loss = 0.00165237\n",
      "Iteration 8, loss = 0.00147952\n",
      "Iteration 9, loss = 0.00133505\n",
      "Iteration 10, loss = 0.00116827\n",
      "Iteration 11, loss = 0.00104912\n",
      "Iteration 12, loss = 0.00091731\n",
      "Iteration 13, loss = 0.00082304\n",
      "Iteration 14, loss = 0.00071563\n",
      "Iteration 15, loss = 0.00061727\n",
      "Iteration 16, loss = 0.00054355\n",
      "Iteration 17, loss = 0.00046012\n",
      "Iteration 18, loss = 0.00041369\n",
      "Iteration 19, loss = 0.00035027\n",
      "Iteration 20, loss = 0.00031400\n",
      "Iteration 21, loss = 0.00026681\n",
      "Iteration 22, loss = 0.00022584\n",
      "Iteration 23, loss = 0.00020806\n",
      "Iteration 24, loss = 0.00017900\n",
      "Iteration 25, loss = 0.00020111\n",
      "Iteration 26, loss = 0.00021100\n",
      "Iteration 27, loss = 0.00020453\n",
      "Iteration 28, loss = 0.00019026\n",
      "Iteration 29, loss = 0.00021633\n",
      "Iteration 30, loss = 0.00026378\n",
      "Iteration 31, loss = 0.00022573\n",
      "Iteration 32, loss = 0.00019294\n",
      "Iteration 33, loss = 0.00014424\n",
      "Iteration 34, loss = 0.00008600\n",
      "Iteration 35, loss = 0.00004189\n",
      "Iteration 36, loss = 0.00002309\n",
      "Iteration 37, loss = 0.00001715\n",
      "Iteration 38, loss = 0.00001475\n",
      "Iteration 39, loss = 0.00001312\n",
      "Iteration 40, loss = 0.00001195\n",
      "Iteration 41, loss = 0.00001102\n",
      "Iteration 42, loss = 0.00001019\n",
      "Iteration 43, loss = 0.00000956\n",
      "Iteration 44, loss = 0.00000898\n",
      "Iteration 45, loss = 0.00000849\n",
      "Iteration 46, loss = 0.00000800\n",
      "Iteration 47, loss = 0.00000763\n",
      "Iteration 48, loss = 0.00000728\n",
      "Iteration 49, loss = 0.00000697\n",
      "Iteration 50, loss = 0.00000666\n",
      "Iteration 51, loss = 0.00000642\n",
      "Iteration 52, loss = 0.00000617\n",
      "Iteration 53, loss = 0.00000595\n",
      "Iteration 54, loss = 0.00000576\n",
      "Iteration 55, loss = 0.00000560\n",
      "Iteration 56, loss = 0.00000544\n",
      "Iteration 57, loss = 0.00000531\n",
      "Iteration 58, loss = 0.00000522\n",
      "Iteration 59, loss = 0.00000514\n",
      "Iteration 60, loss = 0.00000501\n",
      "Iteration 61, loss = 0.00000499\n",
      "Iteration 62, loss = 0.00000495\n",
      "Iteration 63, loss = 0.00000496\n",
      "Iteration 64, loss = 0.00000488\n",
      "Iteration 65, loss = 0.00000496\n",
      "Iteration 66, loss = 0.00000528\n",
      "Iteration 67, loss = 0.00000905\n",
      "Iteration 68, loss = 0.00303241\n",
      "Iteration 69, loss = 0.00163951\n",
      "Iteration 70, loss = 0.00098047\n",
      "Training loss did not improve more than tol=0.00001 for 30 consecutive epochs. Stopping.\n"
     ]
    },
    {
     "name": "stderr",
     "output_type": "stream",
     "text": [
      "/gpfs/gibbs/project/dijk/sr2464/conda_envs/brainlm/lib/python3.8/site-packages/torch/nn/functional.py:1960: UserWarning: nn.functional.sigmoid is deprecated. Use torch.sigmoid instead.\n",
      "  warnings.warn(\"nn.functional.sigmoid is deprecated. Use torch.sigmoid instead.\")\n"
     ]
    },
    {
     "data": {
      "text/plain": [
       "61.437"
      ]
     },
     "execution_count": 30,
     "metadata": {},
     "output_type": "execute_result"
    }
   ],
   "source": [
    "clf = MLPClassifier(random_state=1234, max_iter=200, input_size=200, hidden_size=100, output_size=1)\n",
    "clf.fit(train_X_raw_data, train_y_raw_data, pos_weight, learning_rate=0.001)\n",
    "round(clf.score(test_X_raw_data, test_y_raw_data) * 100, 3)"
   ]
  },
  {
   "cell_type": "code",
   "execution_count": null,
   "metadata": {},
   "outputs": [],
   "source": []
  },
  {
   "cell_type": "code",
   "execution_count": 31,
   "metadata": {},
   "outputs": [
    {
     "name": "stdout",
     "output_type": "stream",
     "text": [
      "(29724, 200)\n",
      "(7432, 200)\n"
     ]
    }
   ],
   "source": [
    "# Run on CLS tokens\n",
    "split_idx = int(cls_token_pca_nonnan.shape[0] * 0.8)\n",
    "train_X_cls_token = cls_token_pca_nonnan[:split_idx]\n",
    "test_X_cls_token = cls_token_pca_nonnan[split_idx:]\n",
    "print(train_X_cls_token.shape)\n",
    "print(test_X_cls_token.shape)\n",
    "train_y_cls_token = labels[:split_idx]\n",
    "test_y_cls_token = labels[split_idx:]"
   ]
  },
  {
   "cell_type": "code",
   "execution_count": 32,
   "metadata": {},
   "outputs": [
    {
     "name": "stdout",
     "output_type": "stream",
     "text": [
      "13608 positives\n",
      "16116 negatives\n",
      "29724 total\n",
      "pos_weight: tensor(1.1843)\n"
     ]
    }
   ],
   "source": [
    "num_positive_examples = sum(train_y_raw_data)\n",
    "num_neg_examples = len(train_y_raw_data) - num_positive_examples\n",
    "pos_weight = num_neg_examples / num_positive_examples\n",
    "pos_weight = torch.tensor(pos_weight, dtype=torch.float32)\n",
    "print(num_positive_examples, \"positives\")\n",
    "print(num_neg_examples, \"negatives\")\n",
    "print(len(train_y_raw_data), \"total\")\n",
    "print(\"pos_weight:\", pos_weight)"
   ]
  },
  {
   "cell_type": "code",
   "execution_count": 33,
   "metadata": {},
   "outputs": [
    {
     "data": {
      "text/plain": [
       "array([-4.44571   , -0.86119646, -0.49196237,  1.001361  , -0.5260579 ,\n",
       "       -0.1556529 ,  0.7409144 , -0.53513235,  0.35432345,  0.27557766],\n",
       "      dtype=float32)"
      ]
     },
     "execution_count": 33,
     "metadata": {},
     "output_type": "execute_result"
    }
   ],
   "source": [
    "train_X_cls_token[0, :10]"
   ]
  },
  {
   "cell_type": "code",
   "execution_count": 34,
   "metadata": {
    "scrolled": true
   },
   "outputs": [
    {
     "name": "stdout",
     "output_type": "stream",
     "text": [
      "Iteration 1, loss = 0.00276116\n",
      "Iteration 2, loss = 0.00231719\n",
      "Iteration 3, loss = 0.00222312\n",
      "Iteration 4, loss = 0.00217633\n",
      "Iteration 5, loss = 0.00214246\n",
      "Iteration 6, loss = 0.00211137\n",
      "Iteration 7, loss = 0.00209136\n",
      "Iteration 8, loss = 0.00205818\n",
      "Iteration 9, loss = 0.00202903\n",
      "Iteration 10, loss = 0.00200176\n",
      "Iteration 11, loss = 0.00198166\n",
      "Iteration 12, loss = 0.00193914\n",
      "Iteration 13, loss = 0.00190948\n",
      "Iteration 14, loss = 0.00188771\n",
      "Iteration 15, loss = 0.00185817\n",
      "Iteration 16, loss = 0.00182981\n",
      "Iteration 17, loss = 0.00179558\n",
      "Iteration 18, loss = 0.00176865\n",
      "Iteration 19, loss = 0.00172774\n",
      "Iteration 20, loss = 0.00169150\n",
      "Iteration 21, loss = 0.00166674\n",
      "Iteration 22, loss = 0.00162546\n",
      "Iteration 23, loss = 0.00159935\n",
      "Iteration 24, loss = 0.00156839\n",
      "Iteration 25, loss = 0.00155482\n",
      "Iteration 26, loss = 0.00150691\n",
      "Iteration 27, loss = 0.00146857\n",
      "Iteration 28, loss = 0.00143095\n",
      "Iteration 29, loss = 0.00141270\n",
      "Iteration 30, loss = 0.00138078\n",
      "Iteration 31, loss = 0.00136054\n",
      "Iteration 32, loss = 0.00131534\n",
      "Iteration 33, loss = 0.00129063\n",
      "Iteration 34, loss = 0.00127843\n",
      "Iteration 35, loss = 0.00122983\n",
      "Iteration 36, loss = 0.00120530\n",
      "Iteration 37, loss = 0.00116591\n",
      "Iteration 38, loss = 0.00114048\n",
      "Iteration 39, loss = 0.00111178\n",
      "Iteration 40, loss = 0.00107102\n",
      "Iteration 41, loss = 0.00107233\n",
      "Iteration 42, loss = 0.00102910\n",
      "Iteration 43, loss = 0.00100157\n",
      "Iteration 44, loss = 0.00097416\n",
      "Iteration 45, loss = 0.00094139\n",
      "Iteration 46, loss = 0.00091406\n",
      "Iteration 47, loss = 0.00087640\n",
      "Iteration 48, loss = 0.00086558\n",
      "Iteration 49, loss = 0.00083192\n",
      "Iteration 50, loss = 0.00082713\n",
      "Iteration 51, loss = 0.00079508\n",
      "Iteration 52, loss = 0.00080792\n",
      "Iteration 53, loss = 0.00076665\n",
      "Iteration 54, loss = 0.00074569\n",
      "Iteration 55, loss = 0.00069906\n",
      "Iteration 56, loss = 0.00069489\n",
      "Iteration 57, loss = 0.00065755\n",
      "Iteration 58, loss = 0.00063168\n",
      "Iteration 59, loss = 0.00063230\n",
      "Iteration 60, loss = 0.00062493\n",
      "Iteration 61, loss = 0.00060809\n",
      "Iteration 62, loss = 0.00056298\n",
      "Iteration 63, loss = 0.00054074\n",
      "Iteration 64, loss = 0.00051304\n",
      "Iteration 65, loss = 0.00053285\n",
      "Iteration 66, loss = 0.00052700\n",
      "Iteration 67, loss = 0.00048041\n",
      "Iteration 68, loss = 0.00050203\n",
      "Iteration 69, loss = 0.00047295\n",
      "Iteration 70, loss = 0.00049362\n",
      "Iteration 71, loss = 0.00044039\n",
      "Iteration 72, loss = 0.00042621\n",
      "Iteration 73, loss = 0.00043700\n",
      "Iteration 74, loss = 0.00039892\n",
      "Iteration 75, loss = 0.00038467\n",
      "Iteration 76, loss = 0.00037250\n",
      "Iteration 77, loss = 0.00038055\n",
      "Iteration 78, loss = 0.00035401\n",
      "Iteration 79, loss = 0.00033562\n",
      "Iteration 80, loss = 0.00031145\n",
      "Iteration 81, loss = 0.00031276\n",
      "Iteration 82, loss = 0.00032083\n",
      "Iteration 83, loss = 0.00032600\n",
      "Iteration 84, loss = 0.00033215\n",
      "Iteration 85, loss = 0.00029527\n",
      "Iteration 86, loss = 0.00027803\n",
      "Iteration 87, loss = 0.00027223\n",
      "Iteration 88, loss = 0.00025880\n",
      "Iteration 89, loss = 0.00029375\n",
      "Iteration 90, loss = 0.00033445\n",
      "Iteration 91, loss = 0.00028326\n",
      "Iteration 92, loss = 0.00024313\n",
      "Iteration 93, loss = 0.00026286\n",
      "Iteration 94, loss = 0.00024204\n",
      "Iteration 95, loss = 0.00023816\n",
      "Iteration 96, loss = 0.00024753\n",
      "Iteration 97, loss = 0.00024143\n",
      "Iteration 98, loss = 0.00021854\n",
      "Iteration 99, loss = 0.00027409\n",
      "Iteration 100, loss = 0.00029068\n",
      "Iteration 101, loss = 0.00021373\n",
      "Iteration 102, loss = 0.00017839\n",
      "Iteration 103, loss = 0.00019694\n",
      "Iteration 104, loss = 0.00020690\n",
      "Iteration 105, loss = 0.00019454\n",
      "Iteration 106, loss = 0.00016430\n",
      "Iteration 107, loss = 0.00017425\n",
      "Iteration 108, loss = 0.00022453\n",
      "Iteration 109, loss = 0.00024892\n",
      "Iteration 110, loss = 0.00025763\n",
      "Iteration 111, loss = 0.00024200\n",
      "Iteration 112, loss = 0.00015874\n",
      "Iteration 113, loss = 0.00020773\n",
      "Iteration 114, loss = 0.00027253\n",
      "Iteration 115, loss = 0.00015723\n",
      "Iteration 116, loss = 0.00015011\n",
      "Iteration 117, loss = 0.00012653\n",
      "Iteration 118, loss = 0.00009239\n",
      "Iteration 119, loss = 0.00007747\n",
      "Iteration 120, loss = 0.00010759\n",
      "Iteration 121, loss = 0.00021974\n",
      "Iteration 122, loss = 0.00032512\n",
      "Iteration 123, loss = 0.00023343\n",
      "Iteration 124, loss = 0.00028095\n",
      "Iteration 125, loss = 0.00026040\n",
      "Iteration 126, loss = 0.00013818\n",
      "Iteration 127, loss = 0.00008897\n",
      "Iteration 128, loss = 0.00006482\n",
      "Iteration 129, loss = 0.00004483\n",
      "Iteration 130, loss = 0.00003829\n",
      "Iteration 131, loss = 0.00003540\n",
      "Iteration 132, loss = 0.00003306\n",
      "Iteration 133, loss = 0.00003215\n",
      "Iteration 134, loss = 0.00003265\n",
      "Iteration 135, loss = 0.00003963\n",
      "Iteration 136, loss = 0.00006978\n",
      "Iteration 137, loss = 0.00068888\n",
      "Iteration 138, loss = 0.00038697\n",
      "Iteration 139, loss = 0.00037856\n",
      "Iteration 140, loss = 0.00022155\n",
      "Iteration 141, loss = 0.00013516\n",
      "Iteration 142, loss = 0.00010732\n",
      "Iteration 143, loss = 0.00008103\n",
      "Iteration 144, loss = 0.00006876\n",
      "Iteration 145, loss = 0.00006566\n",
      "Iteration 146, loss = 0.00005125\n",
      "Iteration 147, loss = 0.00003831\n",
      "Iteration 148, loss = 0.00003019\n",
      "Iteration 149, loss = 0.00002964\n",
      "Iteration 150, loss = 0.00002829\n",
      "Iteration 151, loss = 0.00002842\n",
      "Iteration 152, loss = 0.00003235\n",
      "Iteration 153, loss = 0.00053604\n",
      "Iteration 154, loss = 0.00051821\n",
      "Iteration 155, loss = 0.00024049\n",
      "Iteration 156, loss = 0.00020090\n",
      "Iteration 157, loss = 0.00012891\n",
      "Iteration 158, loss = 0.00021827\n",
      "Iteration 159, loss = 0.00021195\n",
      "Iteration 160, loss = 0.00020427\n",
      "Iteration 161, loss = 0.00013454\n",
      "Iteration 162, loss = 0.00016132\n",
      "Training loss did not improve more than tol=0.00001 for 30 consecutive epochs. Stopping.\n"
     ]
    },
    {
     "data": {
      "text/plain": [
       "68.878"
      ]
     },
     "execution_count": 34,
     "metadata": {},
     "output_type": "execute_result"
    }
   ],
   "source": [
    "clf = MLPClassifier(random_state=1234, max_iter=200, input_size=200, hidden_size=100, output_size=1)\n",
    "clf.fit(train_X_cls_token, train_y_cls_token, pos_weight, learning_rate=0.001)\n",
    "round(clf.score(test_X_cls_token, test_y_cls_token) * 100, 3)"
   ]
  },
  {
   "cell_type": "code",
   "execution_count": null,
   "metadata": {},
   "outputs": [],
   "source": []
  },
  {
   "cell_type": "code",
   "execution_count": 35,
   "metadata": {},
   "outputs": [
    {
     "name": "stdout",
     "output_type": "stream",
     "text": [
      "(29724, 512)\n",
      "(7432, 512)\n"
     ]
    }
   ],
   "source": [
    "# Run on whole CLS tokens\n",
    "split_idx = int(whole_cls_token.shape[0] * 0.8)\n",
    "train_X_cls_token = whole_cls_token[:split_idx]\n",
    "test_X_cls_token = whole_cls_token[split_idx:]\n",
    "print(train_X_cls_token.shape)\n",
    "print(test_X_cls_token.shape)\n",
    "train_y_cls_token = labels[:split_idx]\n",
    "test_y_cls_token = labels[split_idx:]"
   ]
  },
  {
   "cell_type": "code",
   "execution_count": 36,
   "metadata": {},
   "outputs": [
    {
     "name": "stdout",
     "output_type": "stream",
     "text": [
      "13608 positives\n",
      "16116 negatives\n",
      "29724 total\n",
      "pos_weight: tensor(1.1843)\n"
     ]
    }
   ],
   "source": [
    "num_positive_examples = sum(train_y_cls_token)\n",
    "num_neg_examples = len(train_y_cls_token) - num_positive_examples\n",
    "pos_weight = num_neg_examples / num_positive_examples\n",
    "pos_weight = torch.tensor(pos_weight, dtype=torch.float32)\n",
    "print(num_positive_examples, \"positives\")\n",
    "print(num_neg_examples, \"negatives\")\n",
    "print(len(train_y_raw_data), \"total\")\n",
    "print(\"pos_weight:\", pos_weight)"
   ]
  },
  {
   "cell_type": "code",
   "execution_count": 37,
   "metadata": {},
   "outputs": [
    {
     "data": {
      "text/plain": [
       "array([-0.55948734, -0.8076543 ,  0.8432963 , -0.38548863,  1.3483922 ,\n",
       "       -0.6400193 ,  1.1421213 ,  0.9573835 ,  1.5216708 ,  0.44831607],\n",
       "      dtype=float32)"
      ]
     },
     "execution_count": 37,
     "metadata": {},
     "output_type": "execute_result"
    }
   ],
   "source": [
    "train_X_cls_token[0, :10]"
   ]
  },
  {
   "cell_type": "code",
   "execution_count": 39,
   "metadata": {
    "scrolled": true
   },
   "outputs": [
    {
     "name": "stdout",
     "output_type": "stream",
     "text": [
      "Iteration 1, loss = 0.00300766\n",
      "Iteration 2, loss = 0.00296709\n",
      "Iteration 3, loss = 0.00288212\n",
      "Iteration 4, loss = 0.00282354\n",
      "Iteration 5, loss = 0.00276916\n",
      "Iteration 6, loss = 0.00274751\n",
      "Iteration 7, loss = 0.00271770\n",
      "Iteration 8, loss = 0.00270260\n",
      "Iteration 9, loss = 0.00266314\n",
      "Iteration 10, loss = 0.00265825\n",
      "Iteration 11, loss = 0.00267982\n",
      "Iteration 12, loss = 0.00262590\n",
      "Iteration 13, loss = 0.00263042\n",
      "Iteration 14, loss = 0.00258108\n",
      "Iteration 15, loss = 0.00255700\n",
      "Iteration 16, loss = 0.00260076\n",
      "Iteration 17, loss = 0.00254704\n",
      "Iteration 18, loss = 0.00251148\n",
      "Iteration 19, loss = 0.00255310\n",
      "Iteration 20, loss = 0.00253636\n",
      "Iteration 21, loss = 0.00251740\n",
      "Iteration 22, loss = 0.00251200\n",
      "Iteration 23, loss = 0.00247540\n",
      "Iteration 24, loss = 0.00247821\n",
      "Iteration 25, loss = 0.00248407\n",
      "Iteration 26, loss = 0.00248504\n",
      "Iteration 27, loss = 0.00245899\n",
      "Iteration 28, loss = 0.00248206\n",
      "Iteration 29, loss = 0.00245513\n",
      "Iteration 30, loss = 0.00244979\n",
      "Iteration 31, loss = 0.00244079\n",
      "Iteration 32, loss = 0.00248554\n",
      "Iteration 33, loss = 0.00241501\n",
      "Iteration 34, loss = 0.00249479\n",
      "Iteration 35, loss = 0.00243362\n",
      "Iteration 36, loss = 0.00242445\n",
      "Iteration 37, loss = 0.00247452\n",
      "Iteration 38, loss = 0.00243293\n",
      "Iteration 39, loss = 0.00239802\n",
      "Iteration 40, loss = 0.00241978\n",
      "Iteration 41, loss = 0.00238105\n",
      "Iteration 42, loss = 0.00238487\n",
      "Iteration 43, loss = 0.00242683\n",
      "Iteration 44, loss = 0.00241306\n",
      "Iteration 45, loss = 0.00238759\n",
      "Iteration 46, loss = 0.00239484\n",
      "Iteration 47, loss = 0.00236306\n",
      "Iteration 48, loss = 0.00239944\n",
      "Iteration 49, loss = 0.00241134\n",
      "Iteration 50, loss = 0.00240148\n",
      "Iteration 51, loss = 0.00238313\n",
      "Iteration 52, loss = 0.00234333\n",
      "Iteration 53, loss = 0.00243457\n",
      "Iteration 54, loss = 0.00237664\n",
      "Iteration 55, loss = 0.00235760\n",
      "Iteration 56, loss = 0.00238929\n",
      "Iteration 57, loss = 0.00237850\n",
      "Iteration 58, loss = 0.00236764\n",
      "Iteration 59, loss = 0.00232401\n",
      "Iteration 60, loss = 0.00238687\n",
      "Iteration 61, loss = 0.00232437\n",
      "Iteration 62, loss = 0.00231919\n",
      "Iteration 63, loss = 0.00238561\n",
      "Iteration 64, loss = 0.00235056\n",
      "Iteration 65, loss = 0.00235400\n",
      "Iteration 66, loss = 0.00232784\n",
      "Iteration 67, loss = 0.00234469\n",
      "Iteration 68, loss = 0.00231934\n",
      "Iteration 69, loss = 0.00236325\n",
      "Iteration 70, loss = 0.00233509\n",
      "Iteration 71, loss = 0.00230640\n",
      "Iteration 72, loss = 0.00231633\n",
      "Iteration 73, loss = 0.00232434\n",
      "Iteration 74, loss = 0.00231853\n",
      "Iteration 75, loss = 0.00229386\n",
      "Iteration 76, loss = 0.00232663\n",
      "Iteration 77, loss = 0.00230824\n",
      "Iteration 78, loss = 0.00238322\n",
      "Iteration 79, loss = 0.00230793\n",
      "Iteration 80, loss = 0.00235187\n",
      "Iteration 81, loss = 0.00229458\n",
      "Iteration 82, loss = 0.00229617\n",
      "Iteration 83, loss = 0.00231164\n",
      "Iteration 84, loss = 0.00230283\n",
      "Iteration 85, loss = 0.00233656\n",
      "Iteration 86, loss = 0.00228418\n",
      "Iteration 87, loss = 0.00228954\n",
      "Iteration 88, loss = 0.00232993\n",
      "Iteration 89, loss = 0.00228563\n",
      "Iteration 90, loss = 0.00229423\n",
      "Iteration 91, loss = 0.00227636\n",
      "Iteration 92, loss = 0.00229463\n",
      "Iteration 93, loss = 0.00227755\n",
      "Iteration 94, loss = 0.00226999\n",
      "Iteration 95, loss = 0.00230444\n",
      "Iteration 96, loss = 0.00227254\n",
      "Iteration 97, loss = 0.00228217\n",
      "Iteration 98, loss = 0.00230854\n",
      "Iteration 99, loss = 0.00228085\n",
      "Iteration 100, loss = 0.00227340\n",
      "Iteration 101, loss = 0.00225960\n",
      "Iteration 102, loss = 0.00228738\n",
      "Iteration 103, loss = 0.00232859\n",
      "Iteration 104, loss = 0.00227652\n",
      "Iteration 105, loss = 0.00226557\n",
      "Iteration 106, loss = 0.00230452\n",
      "Iteration 107, loss = 0.00230010\n",
      "Iteration 108, loss = 0.00226550\n",
      "Iteration 109, loss = 0.00230597\n",
      "Iteration 110, loss = 0.00224703\n",
      "Iteration 111, loss = 0.00230704\n",
      "Iteration 112, loss = 0.00231361\n",
      "Iteration 113, loss = 0.00226162\n",
      "Iteration 114, loss = 0.00223858\n",
      "Iteration 115, loss = 0.00228821\n",
      "Iteration 116, loss = 0.00225558\n",
      "Iteration 117, loss = 0.00228524\n",
      "Iteration 118, loss = 0.00224887\n",
      "Iteration 119, loss = 0.00229896\n",
      "Iteration 120, loss = 0.00225786\n",
      "Iteration 121, loss = 0.00223073\n",
      "Iteration 122, loss = 0.00230133\n",
      "Iteration 123, loss = 0.00228417\n",
      "Iteration 124, loss = 0.00232651\n",
      "Iteration 125, loss = 0.00222916\n",
      "Iteration 126, loss = 0.00224261\n",
      "Iteration 127, loss = 0.00225365\n",
      "Iteration 128, loss = 0.00227776\n",
      "Iteration 129, loss = 0.00224515\n",
      "Iteration 130, loss = 0.00224596\n",
      "Iteration 131, loss = 0.00228933\n",
      "Iteration 132, loss = 0.00222495\n",
      "Iteration 133, loss = 0.00228667\n",
      "Iteration 134, loss = 0.00224524\n",
      "Iteration 135, loss = 0.00227821\n",
      "Iteration 136, loss = 0.00234133\n",
      "Iteration 137, loss = 0.00221151\n",
      "Iteration 138, loss = 0.00223324\n",
      "Iteration 139, loss = 0.00224208\n",
      "Iteration 140, loss = 0.00222272\n",
      "Iteration 141, loss = 0.00221018\n",
      "Iteration 142, loss = 0.00226563\n",
      "Iteration 143, loss = 0.00226105\n",
      "Iteration 144, loss = 0.00223297\n",
      "Iteration 145, loss = 0.00219955\n",
      "Iteration 146, loss = 0.00220099\n",
      "Iteration 147, loss = 0.00224977\n",
      "Iteration 148, loss = 0.00222659\n",
      "Iteration 149, loss = 0.00223981\n",
      "Iteration 150, loss = 0.00222267\n",
      "Iteration 151, loss = 0.00221949\n",
      "Iteration 152, loss = 0.00222481\n",
      "Iteration 153, loss = 0.00221911\n",
      "Iteration 154, loss = 0.00226854\n",
      "Iteration 155, loss = 0.00221524\n",
      "Iteration 156, loss = 0.00223784\n",
      "Iteration 157, loss = 0.00220120\n",
      "Iteration 158, loss = 0.00223537\n",
      "Iteration 159, loss = 0.00232210\n",
      "Iteration 160, loss = 0.00221666\n",
      "Iteration 161, loss = 0.00219639\n",
      "Iteration 162, loss = 0.00224361\n",
      "Iteration 163, loss = 0.00222292\n",
      "Iteration 164, loss = 0.00219298\n",
      "Iteration 165, loss = 0.00220418\n",
      "Iteration 166, loss = 0.00220935\n",
      "Iteration 167, loss = 0.00226808\n",
      "Iteration 168, loss = 0.00221321\n",
      "Iteration 169, loss = 0.00226036\n",
      "Iteration 170, loss = 0.00220376\n",
      "Iteration 171, loss = 0.00220464\n",
      "Iteration 172, loss = 0.00225538\n",
      "Iteration 173, loss = 0.00219875\n",
      "Iteration 174, loss = 0.00221805\n",
      "Iteration 175, loss = 0.00224560\n",
      "Training loss did not improve more than tol=0.00001 for 30 consecutive epochs. Stopping.\n"
     ]
    },
    {
     "data": {
      "text/plain": [
       "74.919"
      ]
     },
     "execution_count": 39,
     "metadata": {},
     "output_type": "execute_result"
    }
   ],
   "source": [
    "clf = MLPClassifier(random_state=1234, max_iter=200, input_size=512, hidden_size=100, output_size=1)\n",
    "clf.fit(train_X_cls_token, train_y_cls_token, pos_weight, learning_rate=0.001)\n",
    "round(clf.score(test_X_cls_token, test_y_cls_token) * 100, 3)"
   ]
  },
  {
   "cell_type": "code",
   "execution_count": null,
   "metadata": {},
   "outputs": [],
   "source": []
  },
  {
   "cell_type": "code",
   "execution_count": null,
   "metadata": {},
   "outputs": [],
   "source": []
  },
  {
   "cell_type": "code",
   "execution_count": null,
   "metadata": {},
   "outputs": [],
   "source": []
  },
  {
   "cell_type": "markdown",
   "metadata": {},
   "source": [
    "## Run KNN Classifier on Depression_at_Baseline"
   ]
  },
  {
   "cell_type": "code",
   "execution_count": 40,
   "metadata": {},
   "outputs": [],
   "source": [
    "variable_of_interest = \"Depressed.At.Baseline\""
   ]
  },
  {
   "cell_type": "code",
   "execution_count": 41,
   "metadata": {},
   "outputs": [
    {
     "data": {
      "text/plain": [
       "Dataset({\n",
       "    features: ['Raw_Recording', 'Voxelwise_RobustScaler_Normalized_Recording', 'Filename', 'Patient ID', 'Order', 'eid', 'Gender', 'Age.At.MHQ', 'PHQ9.Severity', 'Depressed.At.Baseline', 'Neuroticism', 'Self.Harm.Ever', 'Not.Worth.Living', 'PCL.Score', 'GAD7.Severity', 'cls_token_pca_components', 'whole_cls_token', 'recording_pca_components'],\n",
       "    num_rows: 36134\n",
       "})"
      ]
     },
     "execution_count": 41,
     "metadata": {},
     "output_type": "execute_result"
    }
   ],
   "source": [
    "# Select rows of concat_dataset where label is not nan\n",
    "full_label_list = concat_ds[variable_of_interest]\n",
    "non_nan_indices = [idx for idx in range(len(full_label_list)) if not math.isnan(full_label_list[idx])]\n",
    "# print(non_nan_indices[:10])\n",
    "# print(full_label_list[:10])\n",
    "non_nan_ds = concat_ds.select(non_nan_indices)\n",
    "non_nan_ds = non_nan_ds.shuffle(seed=42)\n",
    "non_nan_ds"
   ]
  },
  {
   "cell_type": "code",
   "execution_count": 42,
   "metadata": {},
   "outputs": [
    {
     "name": "stdout",
     "output_type": "stream",
     "text": [
      "(36134, 200)\n",
      "(36134, 200)\n",
      "(36134, 512)\n"
     ]
    },
    {
     "data": {
      "text/plain": [
       "[0, 0, 0, 0, 0, 1, 0, 0, 0, 0]"
      ]
     },
     "execution_count": 42,
     "metadata": {},
     "output_type": "execute_result"
    }
   ],
   "source": [
    "raw_data_pca_nonnan = np.array(non_nan_ds[\"recording_pca_components\"], dtype=np.float32)\n",
    "print(raw_data_pca_nonnan.shape)\n",
    "cls_token_pca_nonnan = np.array(non_nan_ds[\"cls_token_pca_components\"], dtype=np.float32)\n",
    "print(cls_token_pca_nonnan.shape)\n",
    "whole_cls_token = np.array(non_nan_ds[\"whole_cls_token\"], dtype=np.float32)\n",
    "print(whole_cls_token.shape)\n",
    "\n",
    "labels = non_nan_ds[variable_of_interest]\n",
    "labels = [int(num) for num in labels]\n",
    "labels[:10]"
   ]
  },
  {
   "cell_type": "code",
   "execution_count": 43,
   "metadata": {},
   "outputs": [
    {
     "name": "stdout",
     "output_type": "stream",
     "text": [
      "(28907, 200)\n",
      "(7227, 200)\n"
     ]
    }
   ],
   "source": [
    "# Run on raw data\n",
    "split_idx = int(raw_data_pca_nonnan.shape[0] * 0.8)\n",
    "train_X_raw_data = raw_data_pca_nonnan[:split_idx]\n",
    "test_X_raw_data = raw_data_pca_nonnan[split_idx:]\n",
    "print(train_X_raw_data.shape)\n",
    "print(test_X_raw_data.shape)\n",
    "train_y_raw_data = labels[:split_idx]\n",
    "test_y_raw_data = labels[split_idx:]"
   ]
  },
  {
   "cell_type": "code",
   "execution_count": 44,
   "metadata": {},
   "outputs": [
    {
     "name": "stdout",
     "output_type": "stream",
     "text": [
      "5609 positives\n",
      "23298 negatives\n",
      "28907 total\n",
      "pos_weight: tensor(4.1537)\n"
     ]
    }
   ],
   "source": [
    "num_positive_examples = sum(train_y_raw_data)\n",
    "num_neg_examples = len(train_y_raw_data) - num_positive_examples\n",
    "pos_weight = num_neg_examples / num_positive_examples\n",
    "pos_weight = torch.tensor(pos_weight, dtype=torch.float32)\n",
    "print(num_positive_examples, \"positives\")\n",
    "print(num_neg_examples, \"negatives\")\n",
    "print(len(train_y_raw_data), \"total\")\n",
    "print(\"pos_weight:\", pos_weight)"
   ]
  },
  {
   "cell_type": "code",
   "execution_count": 45,
   "metadata": {},
   "outputs": [
    {
     "data": {
      "text/plain": [
       "array([-27.752443 ,  -1.9527817,  15.93868  , -16.917395 , -27.497398 ,\n",
       "        27.616974 ,  -3.8510146,   6.2229595,   2.5564923,  -7.5470734],\n",
       "      dtype=float32)"
      ]
     },
     "execution_count": 45,
     "metadata": {},
     "output_type": "execute_result"
    }
   ],
   "source": [
    "train_X_raw_data[0, :10]"
   ]
  },
  {
   "cell_type": "code",
   "execution_count": 46,
   "metadata": {
    "scrolled": true
   },
   "outputs": [
    {
     "name": "stdout",
     "output_type": "stream",
     "text": [
      "Iteration 1, loss = 0.00457400\n",
      "Iteration 2, loss = 0.00430167\n",
      "Iteration 3, loss = 0.00406359\n",
      "Iteration 4, loss = 0.00373123\n",
      "Iteration 5, loss = 0.00336288\n",
      "Iteration 6, loss = 0.00296351\n",
      "Iteration 7, loss = 0.00255734\n",
      "Iteration 8, loss = 0.00223335\n",
      "Iteration 9, loss = 0.00189104\n",
      "Iteration 10, loss = 0.00159181\n",
      "Iteration 11, loss = 0.00134139\n",
      "Iteration 12, loss = 0.00118634\n",
      "Iteration 13, loss = 0.00102404\n",
      "Iteration 14, loss = 0.00082248\n",
      "Iteration 15, loss = 0.00070300\n",
      "Iteration 16, loss = 0.00057093\n",
      "Iteration 17, loss = 0.00047535\n",
      "Iteration 18, loss = 0.00040806\n",
      "Iteration 19, loss = 0.00033782\n",
      "Iteration 20, loss = 0.00028395\n",
      "Iteration 21, loss = 0.00022448\n",
      "Iteration 22, loss = 0.00016848\n",
      "Iteration 23, loss = 0.00012167\n",
      "Iteration 24, loss = 0.00008389\n",
      "Iteration 25, loss = 0.00006476\n",
      "Iteration 26, loss = 0.00005377\n",
      "Iteration 27, loss = 0.00004619\n",
      "Iteration 28, loss = 0.00004036\n",
      "Iteration 29, loss = 0.00003603\n",
      "Iteration 30, loss = 0.00003228\n",
      "Iteration 31, loss = 0.00002892\n",
      "Iteration 32, loss = 0.00002628\n",
      "Iteration 33, loss = 0.00002388\n",
      "Iteration 34, loss = 0.00002161\n",
      "Iteration 35, loss = 0.00002003\n",
      "Iteration 36, loss = 0.00001836\n",
      "Iteration 37, loss = 0.00001672\n",
      "Iteration 38, loss = 0.00001552\n",
      "Iteration 39, loss = 0.00001450\n",
      "Iteration 40, loss = 0.00001336\n",
      "Iteration 41, loss = 0.00001258\n",
      "Iteration 42, loss = 0.00001176\n",
      "Iteration 43, loss = 0.00001106\n",
      "Iteration 44, loss = 0.00001039\n",
      "Iteration 45, loss = 0.00000991\n",
      "Iteration 46, loss = 0.00000927\n",
      "Iteration 47, loss = 0.00000886\n",
      "Iteration 48, loss = 0.00000843\n",
      "Iteration 49, loss = 0.00000804\n",
      "Iteration 50, loss = 0.00000771\n",
      "Iteration 51, loss = 0.00000740\n",
      "Iteration 52, loss = 0.00000727\n",
      "Iteration 53, loss = 0.00000689\n",
      "Iteration 54, loss = 0.00000665\n",
      "Iteration 55, loss = 0.00000659\n",
      "Iteration 56, loss = 0.00000651\n",
      "Iteration 57, loss = 0.00000639\n",
      "Iteration 58, loss = 0.00000666\n",
      "Iteration 59, loss = 0.00000716\n",
      "Iteration 60, loss = 0.00493456\n",
      "Iteration 61, loss = 0.00311286\n",
      "Iteration 62, loss = 0.00190864\n",
      "Iteration 63, loss = 0.00119563\n",
      "Iteration 64, loss = 0.00080990\n",
      "Iteration 65, loss = 0.00052902\n",
      "Iteration 66, loss = 0.00034445\n",
      "Iteration 67, loss = 0.00023099\n",
      "Iteration 68, loss = 0.00015587\n",
      "Iteration 69, loss = 0.00011067\n",
      "Iteration 70, loss = 0.00008467\n",
      "Iteration 71, loss = 0.00006771\n",
      "Iteration 72, loss = 0.00005608\n",
      "Iteration 73, loss = 0.00004733\n",
      "Iteration 74, loss = 0.00004025\n",
      "Iteration 75, loss = 0.00003495\n",
      "Iteration 76, loss = 0.00003057\n",
      "Iteration 77, loss = 0.00002702\n",
      "Iteration 78, loss = 0.00002400\n",
      "Iteration 79, loss = 0.00002141\n",
      "Training loss did not improve more than tol=0.00001 for 30 consecutive epochs. Stopping.\n"
     ]
    },
    {
     "data": {
      "text/plain": [
       "69.033"
      ]
     },
     "execution_count": 46,
     "metadata": {},
     "output_type": "execute_result"
    }
   ],
   "source": [
    "clf = MLPClassifier(random_state=1234, max_iter=200, input_size=200, hidden_size=100, output_size=1)\n",
    "clf.fit(train_X_raw_data, train_y_raw_data, pos_weight, learning_rate=0.001)\n",
    "round(clf.score(test_X_raw_data, test_y_raw_data) * 100, 3)"
   ]
  },
  {
   "cell_type": "code",
   "execution_count": 47,
   "metadata": {},
   "outputs": [
    {
     "name": "stdout",
     "output_type": "stream",
     "text": [
      "(28907, 200)\n",
      "(7227, 200)\n"
     ]
    }
   ],
   "source": [
    "# Run on CLS tokens\n",
    "split_idx = int(cls_token_pca_nonnan.shape[0] * 0.8)\n",
    "train_X_cls_token = cls_token_pca_nonnan[:split_idx]\n",
    "test_X_cls_token = cls_token_pca_nonnan[split_idx:]\n",
    "print(train_X_cls_token.shape)\n",
    "print(test_X_cls_token.shape)\n",
    "train_y_cls_token = labels[:split_idx]\n",
    "test_y_cls_token = labels[split_idx:]"
   ]
  },
  {
   "cell_type": "code",
   "execution_count": 48,
   "metadata": {},
   "outputs": [
    {
     "name": "stdout",
     "output_type": "stream",
     "text": [
      "5609 positives\n",
      "23298 negatives\n",
      "28907 total\n",
      "pos_weight: tensor(4.1537)\n"
     ]
    }
   ],
   "source": [
    "num_positive_examples = sum(train_y_cls_token)\n",
    "num_neg_examples = len(train_y_cls_token) - num_positive_examples\n",
    "pos_weight = num_neg_examples / num_positive_examples\n",
    "pos_weight = torch.tensor(pos_weight, dtype=torch.float32)\n",
    "print(num_positive_examples, \"positives\")\n",
    "print(num_neg_examples, \"negatives\")\n",
    "print(len(train_y_raw_data), \"total\")\n",
    "print(\"pos_weight:\", pos_weight)"
   ]
  },
  {
   "cell_type": "code",
   "execution_count": 49,
   "metadata": {},
   "outputs": [
    {
     "data": {
      "text/plain": [
       "array([-4.0550914 ,  0.10491114, -0.07129294,  0.28047138, -0.3171592 ,\n",
       "        0.27682567, -0.6286486 ,  0.13380419, -0.3632379 ,  0.51952714],\n",
       "      dtype=float32)"
      ]
     },
     "execution_count": 49,
     "metadata": {},
     "output_type": "execute_result"
    }
   ],
   "source": [
    "train_X_cls_token[0, :10]"
   ]
  },
  {
   "cell_type": "code",
   "execution_count": 50,
   "metadata": {
    "scrolled": true
   },
   "outputs": [
    {
     "name": "stdout",
     "output_type": "stream",
     "text": [
      "Iteration 1, loss = 0.00448286\n",
      "Iteration 2, loss = 0.00446480\n",
      "Iteration 3, loss = 0.00444316\n",
      "Iteration 4, loss = 0.00440066\n",
      "Iteration 5, loss = 0.00436944\n",
      "Iteration 6, loss = 0.00431785\n",
      "Iteration 7, loss = 0.00424877\n",
      "Iteration 8, loss = 0.00418452\n",
      "Iteration 9, loss = 0.00408701\n",
      "Iteration 10, loss = 0.00399363\n",
      "Iteration 11, loss = 0.00387466\n",
      "Iteration 12, loss = 0.00375999\n",
      "Iteration 13, loss = 0.00364744\n",
      "Iteration 14, loss = 0.00350559\n",
      "Iteration 15, loss = 0.00340155\n",
      "Iteration 16, loss = 0.00327563\n",
      "Iteration 17, loss = 0.00313407\n",
      "Iteration 18, loss = 0.00301977\n",
      "Iteration 19, loss = 0.00289122\n",
      "Iteration 20, loss = 0.00277593\n",
      "Iteration 21, loss = 0.00265308\n",
      "Iteration 22, loss = 0.00255368\n",
      "Iteration 23, loss = 0.00242223\n",
      "Iteration 24, loss = 0.00234402\n",
      "Iteration 25, loss = 0.00221459\n",
      "Iteration 26, loss = 0.00211026\n",
      "Iteration 27, loss = 0.00204011\n",
      "Iteration 28, loss = 0.00195577\n",
      "Iteration 29, loss = 0.00186469\n",
      "Iteration 30, loss = 0.00173524\n",
      "Iteration 31, loss = 0.00168594\n",
      "Iteration 32, loss = 0.00163655\n",
      "Iteration 33, loss = 0.00158496\n",
      "Iteration 34, loss = 0.00147182\n",
      "Iteration 35, loss = 0.00139024\n",
      "Iteration 36, loss = 0.00142425\n",
      "Iteration 37, loss = 0.00131542\n",
      "Iteration 38, loss = 0.00124194\n",
      "Iteration 39, loss = 0.00120177\n",
      "Iteration 40, loss = 0.00113069\n",
      "Iteration 41, loss = 0.00111801\n",
      "Iteration 42, loss = 0.00106502\n",
      "Iteration 43, loss = 0.00102918\n",
      "Iteration 44, loss = 0.00096221\n",
      "Iteration 45, loss = 0.00094827\n",
      "Iteration 46, loss = 0.00089549\n",
      "Iteration 47, loss = 0.00082313\n",
      "Iteration 48, loss = 0.00093930\n",
      "Iteration 49, loss = 0.00083772\n",
      "Iteration 50, loss = 0.00083206\n",
      "Iteration 51, loss = 0.00075226\n",
      "Iteration 52, loss = 0.00071176\n",
      "Iteration 53, loss = 0.00064865\n",
      "Iteration 54, loss = 0.00064391\n",
      "Iteration 55, loss = 0.00066276\n",
      "Iteration 56, loss = 0.00068523\n",
      "Iteration 57, loss = 0.00061211\n",
      "Iteration 58, loss = 0.00053366\n",
      "Iteration 59, loss = 0.00054774\n",
      "Iteration 60, loss = 0.00058737\n",
      "Iteration 61, loss = 0.00057444\n",
      "Iteration 62, loss = 0.00056727\n",
      "Iteration 63, loss = 0.00054628\n",
      "Iteration 64, loss = 0.00048535\n",
      "Iteration 65, loss = 0.00043761\n",
      "Iteration 66, loss = 0.00039749\n",
      "Iteration 67, loss = 0.00040433\n",
      "Iteration 68, loss = 0.00041030\n",
      "Iteration 69, loss = 0.00039689\n",
      "Iteration 70, loss = 0.00040953\n",
      "Iteration 71, loss = 0.00038653\n",
      "Iteration 72, loss = 0.00032801\n",
      "Iteration 73, loss = 0.00034097\n",
      "Iteration 74, loss = 0.00043655\n",
      "Iteration 75, loss = 0.00043957\n",
      "Iteration 76, loss = 0.00041787\n",
      "Iteration 77, loss = 0.00029800\n",
      "Iteration 78, loss = 0.00051382\n",
      "Iteration 79, loss = 0.00049155\n",
      "Iteration 80, loss = 0.00037699\n",
      "Iteration 81, loss = 0.00028011\n",
      "Iteration 82, loss = 0.00023107\n",
      "Iteration 83, loss = 0.00015120\n",
      "Iteration 84, loss = 0.00012720\n",
      "Iteration 85, loss = 0.00012048\n",
      "Iteration 86, loss = 0.00011408\n",
      "Iteration 87, loss = 0.00009512\n",
      "Iteration 88, loss = 0.00007716\n",
      "Iteration 89, loss = 0.00007134\n",
      "Iteration 90, loss = 0.00006552\n",
      "Iteration 91, loss = 0.00005907\n",
      "Iteration 92, loss = 0.00005656\n",
      "Iteration 93, loss = 0.00005782\n",
      "Iteration 94, loss = 0.00007632\n",
      "Iteration 95, loss = 0.00137631\n",
      "Iteration 96, loss = 0.00139322\n",
      "Iteration 97, loss = 0.00071804\n",
      "Iteration 98, loss = 0.00040776\n",
      "Iteration 99, loss = 0.00022939\n",
      "Iteration 100, loss = 0.00014694\n",
      "Iteration 101, loss = 0.00010225\n",
      "Iteration 102, loss = 0.00008167\n",
      "Iteration 103, loss = 0.00006979\n",
      "Iteration 104, loss = 0.00006134\n",
      "Iteration 105, loss = 0.00005541\n",
      "Iteration 106, loss = 0.00005193\n",
      "Iteration 107, loss = 0.00004783\n",
      "Iteration 108, loss = 0.00004553\n",
      "Iteration 109, loss = 0.00004282\n",
      "Iteration 110, loss = 0.00004082\n",
      "Iteration 111, loss = 0.00003932\n",
      "Iteration 112, loss = 0.00004043\n",
      "Iteration 113, loss = 0.00004802\n",
      "Iteration 114, loss = 0.00008639\n",
      "Iteration 115, loss = 0.00232999\n",
      "Iteration 116, loss = 0.00082210\n",
      "Iteration 117, loss = 0.00043204\n",
      "Iteration 118, loss = 0.00028396\n",
      "Iteration 119, loss = 0.00020127\n",
      "Iteration 120, loss = 0.00013665\n",
      "Iteration 121, loss = 0.00009298\n",
      "Iteration 122, loss = 0.00006722\n",
      "Iteration 123, loss = 0.00005243\n",
      "Iteration 124, loss = 0.00004465\n",
      "Iteration 125, loss = 0.00004111\n",
      "Iteration 126, loss = 0.00003911\n",
      "Iteration 127, loss = 0.00003698\n",
      "Iteration 128, loss = 0.00003523\n",
      "Iteration 129, loss = 0.00003408\n",
      "Iteration 130, loss = 0.00003432\n",
      "Iteration 131, loss = 0.00003644\n",
      "Iteration 132, loss = 0.00003395\n",
      "Iteration 133, loss = 0.00003414\n",
      "Iteration 134, loss = 0.00003529\n",
      "Iteration 135, loss = 0.00003890\n",
      "Iteration 136, loss = 0.00060176\n",
      "Iteration 137, loss = 0.00236609\n",
      "Iteration 138, loss = 0.00070906\n",
      "Iteration 139, loss = 0.00034213\n",
      "Training loss did not improve more than tol=0.00001 for 30 consecutive epochs. Stopping.\n"
     ]
    },
    {
     "data": {
      "text/plain": [
       "66.791"
      ]
     },
     "execution_count": 50,
     "metadata": {},
     "output_type": "execute_result"
    }
   ],
   "source": [
    "clf = MLPClassifier(random_state=1234, max_iter=200, input_size=200, hidden_size=100, output_size=1)\n",
    "clf.fit(train_X_cls_token, train_y_cls_token, pos_weight, learning_rate=0.001)\n",
    "round(clf.score(test_X_cls_token, test_y_cls_token) * 100, 3)"
   ]
  },
  {
   "cell_type": "code",
   "execution_count": null,
   "metadata": {},
   "outputs": [],
   "source": []
  },
  {
   "cell_type": "code",
   "execution_count": 51,
   "metadata": {},
   "outputs": [
    {
     "name": "stdout",
     "output_type": "stream",
     "text": [
      "(28907, 512)\n",
      "(7227, 512)\n"
     ]
    }
   ],
   "source": [
    "# Run on whole CLS tokens\n",
    "split_idx = int(whole_cls_token.shape[0] * 0.8)\n",
    "train_X_cls_token = whole_cls_token[:split_idx]\n",
    "test_X_cls_token = whole_cls_token[split_idx:]\n",
    "print(train_X_cls_token.shape)\n",
    "print(test_X_cls_token.shape)\n",
    "train_y_cls_token = labels[:split_idx]\n",
    "test_y_cls_token = labels[split_idx:]"
   ]
  },
  {
   "cell_type": "code",
   "execution_count": 52,
   "metadata": {},
   "outputs": [
    {
     "name": "stdout",
     "output_type": "stream",
     "text": [
      "5609 positives\n",
      "23298 negatives\n",
      "28907 total\n",
      "pos_weight: tensor(4.1537)\n"
     ]
    }
   ],
   "source": [
    "num_positive_examples = sum(train_y_cls_token)\n",
    "num_neg_examples = len(train_y_cls_token) - num_positive_examples\n",
    "pos_weight = num_neg_examples / num_positive_examples\n",
    "pos_weight = torch.tensor(pos_weight, dtype=torch.float32)\n",
    "print(num_positive_examples, \"positives\")\n",
    "print(num_neg_examples, \"negatives\")\n",
    "print(len(train_y_raw_data), \"total\")\n",
    "print(\"pos_weight:\", pos_weight)"
   ]
  },
  {
   "cell_type": "code",
   "execution_count": 53,
   "metadata": {},
   "outputs": [
    {
     "data": {
      "text/plain": [
       "array([-0.50639653, -0.7314293 ,  0.93138945, -0.4126634 ,  1.5093479 ,\n",
       "       -0.5733331 ,  1.307188  ,  0.87171364,  1.5900366 ,  0.3580955 ],\n",
       "      dtype=float32)"
      ]
     },
     "execution_count": 53,
     "metadata": {},
     "output_type": "execute_result"
    }
   ],
   "source": [
    "train_X_cls_token[0, :10]"
   ]
  },
  {
   "cell_type": "code",
   "execution_count": 54,
   "metadata": {
    "scrolled": true
   },
   "outputs": [
    {
     "name": "stdout",
     "output_type": "stream",
     "text": [
      "Iteration 1, loss = 0.00448808\n",
      "Iteration 2, loss = 0.00448696\n",
      "Iteration 3, loss = 0.00448430\n",
      "Iteration 4, loss = 0.00448430\n",
      "Iteration 5, loss = 0.00448512\n",
      "Iteration 6, loss = 0.00448423\n",
      "Iteration 7, loss = 0.00448334\n",
      "Iteration 8, loss = 0.00448415\n",
      "Iteration 9, loss = 0.00448302\n",
      "Iteration 10, loss = 0.00448356\n",
      "Iteration 11, loss = 0.00448348\n",
      "Iteration 12, loss = 0.00448447\n",
      "Iteration 13, loss = 0.00448331\n",
      "Iteration 14, loss = 0.00448325\n",
      "Iteration 15, loss = 0.00448424\n",
      "Iteration 16, loss = 0.00448398\n",
      "Iteration 17, loss = 0.00448394\n",
      "Iteration 18, loss = 0.00448527\n",
      "Iteration 19, loss = 0.00448394\n",
      "Iteration 20, loss = 0.00448504\n",
      "Iteration 21, loss = 0.00448280\n",
      "Iteration 22, loss = 0.00448259\n",
      "Iteration 23, loss = 0.00448487\n",
      "Iteration 24, loss = 0.00448423\n",
      "Iteration 25, loss = 0.00448536\n",
      "Iteration 26, loss = 0.00448452\n",
      "Iteration 27, loss = 0.00448417\n",
      "Iteration 28, loss = 0.00448269\n",
      "Iteration 29, loss = 0.00448469\n",
      "Iteration 30, loss = 0.00448426\n",
      "Iteration 31, loss = 0.00448261\n",
      "Training loss did not improve more than tol=0.00001 for 30 consecutive epochs. Stopping.\n"
     ]
    },
    {
     "data": {
      "text/plain": [
       "79.217"
      ]
     },
     "execution_count": 54,
     "metadata": {},
     "output_type": "execute_result"
    }
   ],
   "source": [
    "clf = MLPClassifier(random_state=1234, max_iter=200, input_size=512, hidden_size=100, output_size=1)\n",
    "clf.fit(train_X_cls_token, train_y_cls_token, pos_weight, learning_rate=0.001)\n",
    "round(clf.score(test_X_cls_token, test_y_cls_token) * 100, 3)"
   ]
  },
  {
   "cell_type": "code",
   "execution_count": null,
   "metadata": {},
   "outputs": [],
   "source": []
  },
  {
   "cell_type": "code",
   "execution_count": null,
   "metadata": {},
   "outputs": [],
   "source": []
  },
  {
   "cell_type": "markdown",
   "metadata": {},
   "source": [
    "## Run KNN on Self.Harm.Ever"
   ]
  },
  {
   "cell_type": "code",
   "execution_count": 55,
   "metadata": {},
   "outputs": [],
   "source": [
    "variable_of_interest = \"Self.Harm.Ever\""
   ]
  },
  {
   "cell_type": "code",
   "execution_count": 56,
   "metadata": {},
   "outputs": [
    {
     "data": {
      "text/plain": [
       "Dataset({\n",
       "    features: ['Raw_Recording', 'Voxelwise_RobustScaler_Normalized_Recording', 'Filename', 'Patient ID', 'Order', 'eid', 'Gender', 'Age.At.MHQ', 'PHQ9.Severity', 'Depressed.At.Baseline', 'Neuroticism', 'Self.Harm.Ever', 'Not.Worth.Living', 'PCL.Score', 'GAD7.Severity', 'cls_token_pca_components', 'whole_cls_token', 'recording_pca_components'],\n",
       "    num_rows: 37048\n",
       "})"
      ]
     },
     "execution_count": 56,
     "metadata": {},
     "output_type": "execute_result"
    }
   ],
   "source": [
    "# Select rows of concat_dataset where label is not nan\n",
    "full_label_list = concat_ds[variable_of_interest]\n",
    "non_nan_indices = [idx for idx in range(len(full_label_list)) if not math.isnan(full_label_list[idx])]\n",
    "# print(non_nan_indices[:10])\n",
    "# print(full_label_list[:10])\n",
    "non_nan_ds = concat_ds.select(non_nan_indices)\n",
    "non_nan_ds = non_nan_ds.shuffle(seed=42)\n",
    "non_nan_ds"
   ]
  },
  {
   "cell_type": "code",
   "execution_count": 57,
   "metadata": {},
   "outputs": [
    {
     "name": "stdout",
     "output_type": "stream",
     "text": [
      "(37048, 200)\n",
      "(37048, 200)\n",
      "(37048, 512)\n"
     ]
    },
    {
     "data": {
      "text/plain": [
       "[0, 0, 0, 0, 0, 0, 0, 0, 0, 0]"
      ]
     },
     "execution_count": 57,
     "metadata": {},
     "output_type": "execute_result"
    }
   ],
   "source": [
    "raw_data_pca_nonnan = np.array(non_nan_ds[\"recording_pca_components\"], dtype=np.float32)\n",
    "print(raw_data_pca_nonnan.shape)\n",
    "cls_token_pca_nonnan = np.array(non_nan_ds[\"cls_token_pca_components\"], dtype=np.float32)\n",
    "print(cls_token_pca_nonnan.shape)\n",
    "whole_cls_token = np.array(non_nan_ds[\"whole_cls_token\"], dtype=np.float32)\n",
    "print(whole_cls_token.shape)\n",
    "\n",
    "labels = non_nan_ds[variable_of_interest]\n",
    "labels = [int(num) for num in labels]\n",
    "labels[:10]"
   ]
  },
  {
   "cell_type": "code",
   "execution_count": 58,
   "metadata": {},
   "outputs": [
    {
     "name": "stdout",
     "output_type": "stream",
     "text": [
      "(29638, 200)\n",
      "(7410, 200)\n"
     ]
    }
   ],
   "source": [
    "# Run on CLS tokens\n",
    "split_idx = int(cls_token_pca_nonnan.shape[0] * 0.8)\n",
    "train_X_cls_token = cls_token_pca_nonnan[:split_idx]\n",
    "test_X_cls_token = cls_token_pca_nonnan[split_idx:]\n",
    "print(train_X_cls_token.shape)\n",
    "print(test_X_cls_token.shape)\n",
    "train_y_cls_token = labels[:split_idx]\n",
    "test_y_cls_token = labels[split_idx:]"
   ]
  },
  {
   "cell_type": "code",
   "execution_count": 59,
   "metadata": {},
   "outputs": [
    {
     "name": "stdout",
     "output_type": "stream",
     "text": [
      "1266 positives\n",
      "28372 negatives\n",
      "28907 total\n",
      "pos_weight: tensor(22.4107)\n"
     ]
    }
   ],
   "source": [
    "num_positive_examples = sum(train_y_cls_token)\n",
    "num_neg_examples = len(train_y_cls_token) - num_positive_examples\n",
    "pos_weight = num_neg_examples / num_positive_examples\n",
    "pos_weight = torch.tensor(pos_weight, dtype=torch.float32)\n",
    "print(num_positive_examples, \"positives\")\n",
    "print(num_neg_examples, \"negatives\")\n",
    "print(len(train_y_raw_data), \"total\")\n",
    "print(\"pos_weight:\", pos_weight)"
   ]
  },
  {
   "cell_type": "code",
   "execution_count": 60,
   "metadata": {},
   "outputs": [
    {
     "data": {
      "text/plain": [
       "array([-2.729769  ,  0.98524106, -0.39734557, -0.6080432 ,  0.18143505,\n",
       "       -0.36860886,  0.12589368, -0.11459521, -0.63993025, -0.58845013],\n",
       "      dtype=float32)"
      ]
     },
     "execution_count": 60,
     "metadata": {},
     "output_type": "execute_result"
    }
   ],
   "source": [
    "train_X_cls_token[0, :10]"
   ]
  },
  {
   "cell_type": "code",
   "execution_count": 61,
   "metadata": {
    "scrolled": true
   },
   "outputs": [
    {
     "name": "stdout",
     "output_type": "stream",
     "text": [
      "Iteration 1, loss = 0.00531949\n",
      "Iteration 2, loss = 0.00525923\n",
      "Iteration 3, loss = 0.00517280\n",
      "Iteration 4, loss = 0.00508361\n",
      "Iteration 5, loss = 0.00495632\n",
      "Iteration 6, loss = 0.00479038\n",
      "Iteration 7, loss = 0.00458784\n",
      "Iteration 8, loss = 0.00434005\n",
      "Iteration 9, loss = 0.00404872\n",
      "Iteration 10, loss = 0.00372824\n",
      "Iteration 11, loss = 0.00330336\n",
      "Iteration 12, loss = 0.00295873\n",
      "Iteration 13, loss = 0.00259296\n",
      "Iteration 14, loss = 0.00228787\n",
      "Iteration 15, loss = 0.00202829\n",
      "Iteration 16, loss = 0.00172923\n",
      "Iteration 17, loss = 0.00153153\n",
      "Iteration 18, loss = 0.00136040\n",
      "Iteration 19, loss = 0.00120677\n",
      "Iteration 20, loss = 0.00118128\n",
      "Iteration 21, loss = 0.00097176\n",
      "Iteration 22, loss = 0.00092645\n",
      "Iteration 23, loss = 0.00076914\n",
      "Iteration 24, loss = 0.00065086\n",
      "Iteration 25, loss = 0.00081603\n",
      "Iteration 26, loss = 0.00068835\n",
      "Iteration 27, loss = 0.00061990\n",
      "Iteration 28, loss = 0.00052585\n",
      "Iteration 29, loss = 0.00045698\n",
      "Iteration 30, loss = 0.00044885\n",
      "Iteration 31, loss = 0.00037853\n",
      "Iteration 32, loss = 0.00029034\n",
      "Iteration 33, loss = 0.00028138\n",
      "Iteration 34, loss = 0.00027168\n",
      "Iteration 35, loss = 0.00025925\n",
      "Iteration 36, loss = 0.00049082\n",
      "Iteration 37, loss = 0.00067704\n",
      "Iteration 38, loss = 0.00090815\n",
      "Iteration 39, loss = 0.00062966\n",
      "Iteration 40, loss = 0.00041387\n",
      "Iteration 41, loss = 0.00021316\n",
      "Iteration 42, loss = 0.00012228\n",
      "Iteration 43, loss = 0.00008804\n",
      "Iteration 44, loss = 0.00006646\n",
      "Iteration 45, loss = 0.00005509\n",
      "Iteration 46, loss = 0.00004631\n",
      "Iteration 47, loss = 0.00004032\n",
      "Iteration 48, loss = 0.00003494\n",
      "Iteration 49, loss = 0.00003098\n",
      "Iteration 50, loss = 0.00002767\n",
      "Iteration 51, loss = 0.00002522\n",
      "Iteration 52, loss = 0.00002307\n",
      "Iteration 53, loss = 0.00002110\n",
      "Iteration 54, loss = 0.00001955\n",
      "Iteration 55, loss = 0.00001781\n",
      "Iteration 56, loss = 0.00001638\n",
      "Iteration 57, loss = 0.00001560\n",
      "Iteration 58, loss = 0.00001492\n",
      "Iteration 59, loss = 0.00001417\n",
      "Iteration 60, loss = 0.00001353\n",
      "Iteration 61, loss = 0.00001323\n",
      "Iteration 62, loss = 0.00001272\n",
      "Iteration 63, loss = 0.00001251\n",
      "Iteration 64, loss = 0.00001230\n",
      "Iteration 65, loss = 0.00001204\n",
      "Iteration 66, loss = 0.00001199\n",
      "Iteration 67, loss = 0.00001201\n",
      "Iteration 68, loss = 0.00001171\n",
      "Iteration 69, loss = 0.00001185\n",
      "Iteration 70, loss = 0.00001177\n",
      "Iteration 71, loss = 0.00001189\n",
      "Iteration 72, loss = 0.00001220\n",
      "Iteration 73, loss = 0.00001266\n",
      "Iteration 74, loss = 0.00001240\n",
      "Iteration 75, loss = 0.00001370\n",
      "Iteration 76, loss = 0.00001460\n",
      "Iteration 77, loss = 0.00253064\n",
      "Iteration 78, loss = 0.00188184\n",
      "Iteration 79, loss = 0.00075311\n",
      "Iteration 80, loss = 0.00041915\n",
      "Iteration 81, loss = 0.00024188\n",
      "Iteration 82, loss = 0.00016373\n",
      "Iteration 83, loss = 0.00011090\n",
      "Iteration 84, loss = 0.00008268\n",
      "Iteration 85, loss = 0.00006548\n",
      "Iteration 86, loss = 0.00005314\n",
      "Training loss did not improve more than tol=0.00001 for 30 consecutive epochs. Stopping.\n"
     ]
    },
    {
     "data": {
      "text/plain": [
       "91.7"
      ]
     },
     "execution_count": 61,
     "metadata": {},
     "output_type": "execute_result"
    }
   ],
   "source": [
    "clf = MLPClassifier(random_state=1234, max_iter=200, input_size=200, hidden_size=100, output_size=1)\n",
    "clf.fit(train_X_cls_token, train_y_cls_token, pos_weight, learning_rate=0.001)\n",
    "round(clf.score(test_X_cls_token, test_y_cls_token) * 100, 3)"
   ]
  },
  {
   "cell_type": "code",
   "execution_count": null,
   "metadata": {},
   "outputs": [],
   "source": []
  },
  {
   "cell_type": "code",
   "execution_count": 83,
   "metadata": {},
   "outputs": [
    {
     "name": "stdout",
     "output_type": "stream",
     "text": [
      "(29724, 512)\n",
      "(7432, 512)\n"
     ]
    }
   ],
   "source": [
    "# Run on whole CLS tokens\n",
    "split_idx = int(whole_cls_token.shape[0] * 0.8)\n",
    "train_X_cls_token = whole_cls_token[:split_idx]\n",
    "test_X_cls_token = whole_cls_token[split_idx:]\n",
    "print(train_X_cls_token.shape)\n",
    "print(test_X_cls_token.shape)\n",
    "train_y_cls_token = labels[:split_idx]\n",
    "test_y_cls_token = labels[split_idx:]"
   ]
  },
  {
   "cell_type": "code",
   "execution_count": 84,
   "metadata": {},
   "outputs": [
    {
     "name": "stdout",
     "output_type": "stream",
     "text": [
      "9014 positives\n",
      "20710 negatives\n",
      "29724 total\n",
      "pos_weight: tensor(2.2975)\n"
     ]
    }
   ],
   "source": [
    "num_positive_examples = sum(train_y_cls_token)\n",
    "num_neg_examples = len(train_y_cls_token) - num_positive_examples\n",
    "pos_weight = num_neg_examples / num_positive_examples\n",
    "pos_weight = torch.tensor(pos_weight, dtype=torch.float32)\n",
    "print(num_positive_examples, \"positives\")\n",
    "print(num_neg_examples, \"negatives\")\n",
    "print(len(train_y_raw_data), \"total\")\n",
    "print(\"pos_weight:\", pos_weight)"
   ]
  },
  {
   "cell_type": "code",
   "execution_count": 64,
   "metadata": {
    "scrolled": true
   },
   "outputs": [
    {
     "name": "stdout",
     "output_type": "stream",
     "text": [
      "Iteration 1, loss = 0.00534777\n",
      "Iteration 2, loss = 0.00533292\n",
      "Iteration 3, loss = 0.00533061\n",
      "Iteration 4, loss = 0.00533008\n",
      "Iteration 5, loss = 0.00532232\n",
      "Iteration 6, loss = 0.00533563\n",
      "Iteration 7, loss = 0.00532436\n",
      "Iteration 8, loss = 0.00533551\n",
      "Iteration 9, loss = 0.00533570\n",
      "Iteration 10, loss = 0.00532439\n",
      "Iteration 11, loss = 0.00533716\n",
      "Iteration 12, loss = 0.00533097\n",
      "Iteration 13, loss = 0.00532595\n",
      "Iteration 14, loss = 0.00532846\n",
      "Iteration 15, loss = 0.00532892\n",
      "Iteration 16, loss = 0.00532937\n",
      "Iteration 17, loss = 0.00533445\n",
      "Iteration 18, loss = 0.00533394\n",
      "Iteration 19, loss = 0.00533381\n",
      "Iteration 20, loss = 0.00532936\n",
      "Iteration 21, loss = 0.00533154\n",
      "Iteration 22, loss = 0.00533331\n",
      "Iteration 23, loss = 0.00532556\n",
      "Iteration 24, loss = 0.00533534\n",
      "Iteration 25, loss = 0.00533200\n",
      "Iteration 26, loss = 0.00532387\n",
      "Iteration 27, loss = 0.00533199\n",
      "Iteration 28, loss = 0.00533209\n",
      "Iteration 29, loss = 0.00532877\n",
      "Iteration 30, loss = 0.00532551\n",
      "Iteration 31, loss = 0.00532471\n",
      "Iteration 32, loss = 0.00532619\n",
      "Iteration 33, loss = 0.00532738\n",
      "Iteration 34, loss = 0.00532233\n",
      "Iteration 35, loss = 0.00531968\n",
      "Training loss did not improve more than tol=0.00001 for 30 consecutive epochs. Stopping.\n"
     ]
    },
    {
     "data": {
      "text/plain": [
       "4.265"
      ]
     },
     "execution_count": 64,
     "metadata": {},
     "output_type": "execute_result"
    }
   ],
   "source": [
    "clf = MLPClassifier(random_state=1234, max_iter=200, input_size=512, hidden_size=100, output_size=1)\n",
    "clf.fit(train_X_cls_token, train_y_cls_token, pos_weight, learning_rate=0.001)\n",
    "round(clf.score(test_X_cls_token, test_y_cls_token) * 100, 3)"
   ]
  },
  {
   "cell_type": "code",
   "execution_count": null,
   "metadata": {},
   "outputs": [],
   "source": []
  },
  {
   "cell_type": "code",
   "execution_count": 65,
   "metadata": {},
   "outputs": [
    {
     "name": "stdout",
     "output_type": "stream",
     "text": [
      "(29638, 200)\n",
      "(7410, 200)\n"
     ]
    }
   ],
   "source": [
    "# Run on raw data\n",
    "split_idx = int(raw_data_pca_nonnan.shape[0] * 0.8)\n",
    "train_X_raw_data = raw_data_pca_nonnan[:split_idx]\n",
    "test_X_raw_data = raw_data_pca_nonnan[split_idx:]\n",
    "print(train_X_raw_data.shape)\n",
    "print(test_X_raw_data.shape)\n",
    "train_y_raw_data = labels[:split_idx]\n",
    "test_y_raw_data = labels[split_idx:]"
   ]
  },
  {
   "cell_type": "code",
   "execution_count": 66,
   "metadata": {},
   "outputs": [
    {
     "name": "stdout",
     "output_type": "stream",
     "text": [
      "1266 positives\n",
      "28372 negatives\n",
      "29638 total\n",
      "pos_weight: tensor(22.4107)\n"
     ]
    }
   ],
   "source": [
    "num_positive_examples = sum(train_y_raw_data)\n",
    "num_neg_examples = len(train_y_raw_data) - num_positive_examples\n",
    "pos_weight = num_neg_examples / num_positive_examples\n",
    "pos_weight = torch.tensor(pos_weight, dtype=torch.float32)\n",
    "print(num_positive_examples, \"positives\")\n",
    "print(num_neg_examples, \"negatives\")\n",
    "print(len(train_y_raw_data), \"total\")\n",
    "print(\"pos_weight:\", pos_weight)"
   ]
  },
  {
   "cell_type": "code",
   "execution_count": 67,
   "metadata": {},
   "outputs": [
    {
     "data": {
      "text/plain": [
       "array([-49.608303 ,  13.449668 ,   3.423456 , -10.528745 , -14.761459 ,\n",
       "        24.146687 ,   3.298543 ,   6.3007097,  12.420247 ,   2.5742261],\n",
       "      dtype=float32)"
      ]
     },
     "execution_count": 67,
     "metadata": {},
     "output_type": "execute_result"
    }
   ],
   "source": [
    "train_X_raw_data[0, :10]"
   ]
  },
  {
   "cell_type": "code",
   "execution_count": 68,
   "metadata": {
    "scrolled": true
   },
   "outputs": [
    {
     "name": "stdout",
     "output_type": "stream",
     "text": [
      "Iteration 1, loss = 0.00547587\n",
      "Iteration 2, loss = 0.00473934\n",
      "Iteration 3, loss = 0.00408906\n",
      "Iteration 4, loss = 0.00330417\n",
      "Iteration 5, loss = 0.00247387\n",
      "Iteration 6, loss = 0.00177360\n",
      "Iteration 7, loss = 0.00121447\n",
      "Iteration 8, loss = 0.00088921\n",
      "Iteration 9, loss = 0.00063170\n",
      "Iteration 10, loss = 0.00046634\n",
      "Iteration 11, loss = 0.00035466\n",
      "Iteration 12, loss = 0.00026998\n",
      "Iteration 13, loss = 0.00015383\n",
      "Iteration 14, loss = 0.00008462\n",
      "Iteration 15, loss = 0.00005422\n",
      "Iteration 16, loss = 0.00003923\n",
      "Iteration 17, loss = 0.00003077\n",
      "Iteration 18, loss = 0.00002514\n",
      "Iteration 19, loss = 0.00002121\n",
      "Iteration 20, loss = 0.00001807\n",
      "Iteration 21, loss = 0.00001558\n",
      "Iteration 22, loss = 0.00001352\n",
      "Iteration 23, loss = 0.00001200\n",
      "Iteration 24, loss = 0.00001064\n",
      "Iteration 25, loss = 0.00000943\n",
      "Iteration 26, loss = 0.00000850\n",
      "Iteration 27, loss = 0.00000765\n",
      "Iteration 28, loss = 0.00000697\n",
      "Iteration 29, loss = 0.00000631\n",
      "Iteration 30, loss = 0.00000574\n",
      "Iteration 31, loss = 0.00000529\n",
      "Iteration 32, loss = 0.00000486\n",
      "Iteration 33, loss = 0.00000451\n",
      "Iteration 34, loss = 0.00000417\n",
      "Iteration 35, loss = 0.00000386\n",
      "Iteration 36, loss = 0.00000362\n",
      "Iteration 37, loss = 0.00000338\n",
      "Iteration 38, loss = 0.00000318\n",
      "Iteration 39, loss = 0.00000297\n",
      "Iteration 40, loss = 0.00000283\n",
      "Iteration 41, loss = 0.00000268\n",
      "Iteration 42, loss = 0.00000253\n",
      "Iteration 43, loss = 0.00000241\n",
      "Iteration 44, loss = 0.00000230\n",
      "Iteration 45, loss = 0.00000221\n",
      "Iteration 46, loss = 0.00000212\n",
      "Iteration 47, loss = 0.00000205\n",
      "Iteration 48, loss = 0.00000198\n",
      "Iteration 49, loss = 0.00000192\n",
      "Iteration 50, loss = 0.00000187\n",
      "Iteration 51, loss = 0.00000181\n",
      "Iteration 52, loss = 0.00000178\n",
      "Iteration 53, loss = 0.00000174\n",
      "Iteration 54, loss = 0.00000172\n",
      "Iteration 55, loss = 0.00000170\n",
      "Iteration 56, loss = 0.00000176\n",
      "Iteration 57, loss = 0.00000167\n",
      "Iteration 58, loss = 0.00000172\n",
      "Iteration 59, loss = 0.00196142\n",
      "Iteration 60, loss = 0.00368298\n",
      "Iteration 61, loss = 0.00182462\n",
      "Iteration 62, loss = 0.00101163\n",
      "Iteration 63, loss = 0.00055555\n",
      "Iteration 64, loss = 0.00029851\n",
      "Iteration 65, loss = 0.00018335\n",
      "Iteration 66, loss = 0.00015367\n",
      "Iteration 67, loss = 0.00006814\n",
      "Training loss did not improve more than tol=0.00001 for 30 consecutive epochs. Stopping.\n"
     ]
    },
    {
     "data": {
      "text/plain": [
       "92.659"
      ]
     },
     "execution_count": 68,
     "metadata": {},
     "output_type": "execute_result"
    }
   ],
   "source": [
    "clf = MLPClassifier(random_state=1234, max_iter=200, input_size=200, hidden_size=100, output_size=1)\n",
    "clf.fit(train_X_raw_data, train_y_raw_data, pos_weight, learning_rate=0.001)\n",
    "round(clf.score(test_X_raw_data, test_y_raw_data) * 100, 3)"
   ]
  },
  {
   "cell_type": "code",
   "execution_count": null,
   "metadata": {},
   "outputs": [],
   "source": []
  },
  {
   "cell_type": "code",
   "execution_count": null,
   "metadata": {},
   "outputs": [],
   "source": []
  },
  {
   "cell_type": "markdown",
   "metadata": {},
   "source": [
    "## Run KNN on Not.Worth.Living"
   ]
  },
  {
   "cell_type": "code",
   "execution_count": 69,
   "metadata": {},
   "outputs": [],
   "source": [
    "variable_of_interest = \"Not.Worth.Living\""
   ]
  },
  {
   "cell_type": "code",
   "execution_count": 70,
   "metadata": {},
   "outputs": [
    {
     "name": "stderr",
     "output_type": "stream",
     "text": [
      "Loading cached shuffled indices for dataset at /home/sr2464/palmer_scratch/datasets/UKB_Large_rsfMRI_and_tffMRI_Arrow_WithRegression_v3_with_metadata/train_ukbiobank/cache-d8ca8d5320239fd9.arrow\n"
     ]
    },
    {
     "data": {
      "text/plain": [
       "Dataset({\n",
       "    features: ['Raw_Recording', 'Voxelwise_RobustScaler_Normalized_Recording', 'Filename', 'Patient ID', 'Order', 'eid', 'Gender', 'Age.At.MHQ', 'PHQ9.Severity', 'Depressed.At.Baseline', 'Neuroticism', 'Self.Harm.Ever', 'Not.Worth.Living', 'PCL.Score', 'GAD7.Severity', 'cls_token_pca_components', 'whole_cls_token', 'recording_pca_components'],\n",
       "    num_rows: 37156\n",
       "})"
      ]
     },
     "execution_count": 70,
     "metadata": {},
     "output_type": "execute_result"
    }
   ],
   "source": [
    "# Select rows of concat_dataset where label is not nan\n",
    "full_label_list = concat_ds[variable_of_interest]\n",
    "non_nan_indices = [idx for idx in range(len(full_label_list)) if not math.isnan(full_label_list[idx])]\n",
    "# print(non_nan_indices[:10])\n",
    "# print(full_label_list[:10])\n",
    "non_nan_ds = concat_ds.select(non_nan_indices)\n",
    "non_nan_ds = non_nan_ds.shuffle(seed=42)\n",
    "non_nan_ds"
   ]
  },
  {
   "cell_type": "code",
   "execution_count": 71,
   "metadata": {},
   "outputs": [
    {
     "name": "stdout",
     "output_type": "stream",
     "text": [
      "(37156, 200)\n",
      "(37156, 200)\n",
      "(37156, 512)\n"
     ]
    },
    {
     "data": {
      "text/plain": [
       "[0, 1, 0, 0, 0, 0, 0, 0, 0, 0]"
      ]
     },
     "execution_count": 71,
     "metadata": {},
     "output_type": "execute_result"
    }
   ],
   "source": [
    "raw_data_pca_nonnan = np.array(non_nan_ds[\"recording_pca_components\"], dtype=np.float32)\n",
    "print(raw_data_pca_nonnan.shape)\n",
    "cls_token_pca_nonnan = np.array(non_nan_ds[\"cls_token_pca_components\"], dtype=np.float32)\n",
    "print(cls_token_pca_nonnan.shape)\n",
    "whole_cls_token = np.array(non_nan_ds[\"whole_cls_token\"], dtype=np.float32)\n",
    "print(whole_cls_token.shape)\n",
    "\n",
    "labels = non_nan_ds[variable_of_interest]\n",
    "labels = [int(num) for num in labels]\n",
    "labels[:10]"
   ]
  },
  {
   "cell_type": "code",
   "execution_count": 72,
   "metadata": {},
   "outputs": [
    {
     "name": "stdout",
     "output_type": "stream",
     "text": [
      "(29724, 200)\n",
      "(7432, 200)\n"
     ]
    }
   ],
   "source": [
    "# Run on CLS tokens\n",
    "split_idx = int(cls_token_pca_nonnan.shape[0] * 0.8)\n",
    "train_X_cls_token = cls_token_pca_nonnan[:split_idx]\n",
    "test_X_cls_token = cls_token_pca_nonnan[split_idx:]\n",
    "print(train_X_cls_token.shape)\n",
    "print(test_X_cls_token.shape)\n",
    "train_y_cls_token = labels[:split_idx]\n",
    "test_y_cls_token = labels[split_idx:]"
   ]
  },
  {
   "cell_type": "code",
   "execution_count": 73,
   "metadata": {},
   "outputs": [
    {
     "name": "stdout",
     "output_type": "stream",
     "text": [
      "9014 positives\n",
      "20710 negatives\n",
      "29638 total\n",
      "pos_weight: tensor(2.2975)\n"
     ]
    }
   ],
   "source": [
    "num_positive_examples = sum(train_y_cls_token)\n",
    "num_neg_examples = len(train_y_cls_token) - num_positive_examples\n",
    "pos_weight = num_neg_examples / num_positive_examples\n",
    "pos_weight = torch.tensor(pos_weight, dtype=torch.float32)\n",
    "print(num_positive_examples, \"positives\")\n",
    "print(num_neg_examples, \"negatives\")\n",
    "print(len(train_y_raw_data), \"total\")\n",
    "print(\"pos_weight:\", pos_weight)"
   ]
  },
  {
   "cell_type": "code",
   "execution_count": 74,
   "metadata": {},
   "outputs": [
    {
     "data": {
      "text/plain": [
       "array([-49.608303 ,  13.449668 ,   3.423456 , -10.528745 , -14.761459 ,\n",
       "        24.146687 ,   3.298543 ,   6.3007097,  12.420247 ,   2.5742261],\n",
       "      dtype=float32)"
      ]
     },
     "execution_count": 74,
     "metadata": {},
     "output_type": "execute_result"
    }
   ],
   "source": [
    "train_X_raw_data[0, :10]"
   ]
  },
  {
   "cell_type": "code",
   "execution_count": 75,
   "metadata": {
    "scrolled": true
   },
   "outputs": [
    {
     "name": "stdout",
     "output_type": "stream",
     "text": [
      "Iteration 1, loss = 0.00386414\n",
      "Iteration 2, loss = 0.00385036\n",
      "Iteration 3, loss = 0.00383675\n",
      "Iteration 4, loss = 0.00381619\n",
      "Iteration 5, loss = 0.00379961\n",
      "Iteration 6, loss = 0.00377229\n",
      "Iteration 7, loss = 0.00374215\n",
      "Iteration 8, loss = 0.00370291\n",
      "Iteration 9, loss = 0.00365133\n",
      "Iteration 10, loss = 0.00358683\n",
      "Iteration 11, loss = 0.00351842\n",
      "Iteration 12, loss = 0.00344800\n",
      "Iteration 13, loss = 0.00337361\n",
      "Iteration 14, loss = 0.00328715\n",
      "Iteration 15, loss = 0.00321726\n",
      "Iteration 16, loss = 0.00314335\n",
      "Iteration 17, loss = 0.00306498\n",
      "Iteration 18, loss = 0.00297001\n",
      "Iteration 19, loss = 0.00288122\n",
      "Iteration 20, loss = 0.00280603\n",
      "Iteration 21, loss = 0.00272209\n",
      "Iteration 22, loss = 0.00264820\n",
      "Iteration 23, loss = 0.00255514\n",
      "Iteration 24, loss = 0.00248840\n",
      "Iteration 25, loss = 0.00241085\n",
      "Iteration 26, loss = 0.00234415\n",
      "Iteration 27, loss = 0.00227581\n",
      "Iteration 28, loss = 0.00218893\n",
      "Iteration 29, loss = 0.00215187\n",
      "Iteration 30, loss = 0.00206139\n",
      "Iteration 31, loss = 0.00199988\n",
      "Iteration 32, loss = 0.00195305\n",
      "Iteration 33, loss = 0.00190879\n",
      "Iteration 34, loss = 0.00183070\n",
      "Iteration 35, loss = 0.00184887\n",
      "Iteration 36, loss = 0.00174008\n",
      "Iteration 37, loss = 0.00167250\n",
      "Iteration 38, loss = 0.00163890\n",
      "Iteration 39, loss = 0.00159798\n",
      "Iteration 40, loss = 0.00153851\n",
      "Iteration 41, loss = 0.00154988\n",
      "Iteration 42, loss = 0.00149626\n",
      "Iteration 43, loss = 0.00140344\n",
      "Iteration 44, loss = 0.00137480\n",
      "Iteration 45, loss = 0.00134393\n",
      "Iteration 46, loss = 0.00132076\n",
      "Iteration 47, loss = 0.00128471\n",
      "Iteration 48, loss = 0.00127879\n",
      "Iteration 49, loss = 0.00124117\n",
      "Iteration 50, loss = 0.00119333\n",
      "Iteration 51, loss = 0.00115309\n",
      "Iteration 52, loss = 0.00112540\n",
      "Iteration 53, loss = 0.00112099\n",
      "Iteration 54, loss = 0.00105863\n",
      "Iteration 55, loss = 0.00105544\n",
      "Iteration 56, loss = 0.00100766\n",
      "Iteration 57, loss = 0.00097438\n",
      "Iteration 58, loss = 0.00094340\n",
      "Iteration 59, loss = 0.00096545\n",
      "Iteration 60, loss = 0.00095242\n",
      "Iteration 61, loss = 0.00091294\n",
      "Iteration 62, loss = 0.00088610\n",
      "Iteration 63, loss = 0.00085240\n",
      "Iteration 64, loss = 0.00082576\n",
      "Iteration 65, loss = 0.00078478\n",
      "Iteration 66, loss = 0.00080681\n",
      "Iteration 67, loss = 0.00074793\n",
      "Iteration 68, loss = 0.00073415\n",
      "Iteration 69, loss = 0.00076163\n",
      "Iteration 70, loss = 0.00073749\n",
      "Iteration 71, loss = 0.00069130\n",
      "Iteration 72, loss = 0.00072135\n",
      "Iteration 73, loss = 0.00067619\n",
      "Iteration 74, loss = 0.00065367\n",
      "Iteration 75, loss = 0.00068349\n",
      "Iteration 76, loss = 0.00069031\n",
      "Iteration 77, loss = 0.00068246\n",
      "Iteration 78, loss = 0.00060921\n",
      "Iteration 79, loss = 0.00054921\n",
      "Iteration 80, loss = 0.00053649\n",
      "Iteration 81, loss = 0.00058310\n",
      "Iteration 82, loss = 0.00059122\n",
      "Iteration 83, loss = 0.00057504\n",
      "Iteration 84, loss = 0.00056694\n",
      "Iteration 85, loss = 0.00052845\n",
      "Iteration 86, loss = 0.00047835\n",
      "Iteration 87, loss = 0.00047018\n",
      "Iteration 88, loss = 0.00050501\n",
      "Iteration 89, loss = 0.00047249\n",
      "Iteration 90, loss = 0.00047431\n",
      "Iteration 91, loss = 0.00044450\n",
      "Iteration 92, loss = 0.00045354\n",
      "Iteration 93, loss = 0.00045670\n",
      "Iteration 94, loss = 0.00050212\n",
      "Iteration 95, loss = 0.00042514\n",
      "Iteration 96, loss = 0.00038433\n",
      "Iteration 97, loss = 0.00037757\n",
      "Iteration 98, loss = 0.00039422\n",
      "Iteration 99, loss = 0.00040062\n",
      "Iteration 100, loss = 0.00046788\n",
      "Iteration 101, loss = 0.00045403\n",
      "Iteration 102, loss = 0.00043214\n",
      "Iteration 103, loss = 0.00039789\n",
      "Iteration 104, loss = 0.00035249\n",
      "Iteration 105, loss = 0.00034487\n",
      "Iteration 106, loss = 0.00036600\n",
      "Iteration 107, loss = 0.00039480\n",
      "Iteration 108, loss = 0.00045636\n",
      "Iteration 109, loss = 0.00037061\n",
      "Iteration 110, loss = 0.00030593\n",
      "Iteration 111, loss = 0.00024244\n",
      "Iteration 112, loss = 0.00021742\n",
      "Iteration 113, loss = 0.00020270\n",
      "Iteration 114, loss = 0.00019846\n",
      "Iteration 115, loss = 0.00024217\n",
      "Iteration 116, loss = 0.00043165\n",
      "Iteration 117, loss = 0.00079930\n",
      "Iteration 118, loss = 0.00055215\n",
      "Iteration 119, loss = 0.00031081\n",
      "Iteration 120, loss = 0.00026105\n",
      "Iteration 121, loss = 0.00019818\n",
      "Iteration 122, loss = 0.00019158\n",
      "Iteration 123, loss = 0.00014643\n",
      "Iteration 124, loss = 0.00013227\n",
      "Iteration 125, loss = 0.00011642\n",
      "Iteration 126, loss = 0.00012157\n",
      "Iteration 127, loss = 0.00013666\n",
      "Iteration 128, loss = 0.00015469\n",
      "Iteration 129, loss = 0.00072267\n",
      "Iteration 130, loss = 0.00099098\n",
      "Iteration 131, loss = 0.00056474\n",
      "Iteration 132, loss = 0.00036210\n",
      "Iteration 133, loss = 0.00020478\n",
      "Iteration 134, loss = 0.00016015\n",
      "Iteration 135, loss = 0.00012107\n",
      "Iteration 136, loss = 0.00010392\n",
      "Iteration 137, loss = 0.00009547\n",
      "Iteration 138, loss = 0.00009262\n",
      "Iteration 139, loss = 0.00009023\n",
      "Iteration 140, loss = 0.00008723\n",
      "Iteration 141, loss = 0.00008853\n",
      "Iteration 142, loss = 0.00010037\n",
      "Iteration 143, loss = 0.00067561\n",
      "Iteration 144, loss = 0.00112593\n",
      "Iteration 145, loss = 0.00065744\n",
      "Iteration 146, loss = 0.00031991\n",
      "Iteration 147, loss = 0.00021416\n",
      "Iteration 148, loss = 0.00014034\n",
      "Iteration 149, loss = 0.00010580\n",
      "Iteration 150, loss = 0.00009150\n",
      "Iteration 151, loss = 0.00008381\n",
      "Iteration 152, loss = 0.00008103\n",
      "Iteration 153, loss = 0.00007637\n",
      "Iteration 154, loss = 0.00007285\n",
      "Iteration 155, loss = 0.00007119\n",
      "Iteration 156, loss = 0.00008328\n",
      "Iteration 157, loss = 0.00010666\n",
      "Iteration 158, loss = 0.00062229\n",
      "Iteration 159, loss = 0.00116539\n",
      "Iteration 160, loss = 0.00058031\n",
      "Iteration 161, loss = 0.00029092\n",
      "Iteration 162, loss = 0.00016500\n",
      "Iteration 163, loss = 0.00011219\n",
      "Iteration 164, loss = 0.00008973\n",
      "Iteration 165, loss = 0.00007984\n",
      "Iteration 166, loss = 0.00007389\n",
      "Iteration 167, loss = 0.00006845\n",
      "Iteration 168, loss = 0.00006681\n",
      "Iteration 169, loss = 0.00006417\n",
      "Iteration 170, loss = 0.00006462\n",
      "Iteration 171, loss = 0.00006391\n",
      "Iteration 172, loss = 0.00006233\n",
      "Iteration 173, loss = 0.00006452\n",
      "Iteration 174, loss = 0.00008724\n",
      "Iteration 175, loss = 0.00125182\n",
      "Iteration 176, loss = 0.00098083\n",
      "Iteration 177, loss = 0.00045242\n",
      "Iteration 178, loss = 0.00026402\n",
      "Iteration 179, loss = 0.00015350\n",
      "Iteration 180, loss = 0.00009995\n",
      "Iteration 181, loss = 0.00008101\n",
      "Iteration 182, loss = 0.00007322\n",
      "Iteration 183, loss = 0.00006631\n",
      "Iteration 184, loss = 0.00006363\n",
      "Iteration 185, loss = 0.00005996\n",
      "Iteration 186, loss = 0.00005898\n",
      "Iteration 187, loss = 0.00005809\n",
      "Iteration 188, loss = 0.00005757\n",
      "Iteration 189, loss = 0.00006146\n",
      "Iteration 190, loss = 0.00008626\n",
      "Iteration 191, loss = 0.00111609\n",
      "Iteration 192, loss = 0.00096600\n",
      "Iteration 193, loss = 0.00039401\n",
      "Iteration 194, loss = 0.00020350\n",
      "Iteration 195, loss = 0.00014184\n",
      "Iteration 196, loss = 0.00009514\n",
      "Iteration 197, loss = 0.00007465\n",
      "Iteration 198, loss = 0.00006599\n",
      "Iteration 199, loss = 0.00006226\n",
      "Iteration 200, loss = 0.00005905\n"
     ]
    },
    {
     "data": {
      "text/plain": [
       "57.683"
      ]
     },
     "execution_count": 75,
     "metadata": {},
     "output_type": "execute_result"
    }
   ],
   "source": [
    "clf = MLPClassifier(random_state=1234, max_iter=200, input_size=200, hidden_size=100, output_size=1)\n",
    "clf.fit(train_X_cls_token, train_y_cls_token, pos_weight, learning_rate=0.001)\n",
    "round(clf.score(test_X_cls_token, test_y_cls_token) * 100, 3)"
   ]
  },
  {
   "cell_type": "code",
   "execution_count": null,
   "metadata": {},
   "outputs": [],
   "source": []
  },
  {
   "cell_type": "code",
   "execution_count": 76,
   "metadata": {},
   "outputs": [
    {
     "name": "stdout",
     "output_type": "stream",
     "text": [
      "(29724, 512)\n",
      "(7432, 512)\n"
     ]
    }
   ],
   "source": [
    "# Run on whole CLS tokens\n",
    "split_idx = int(whole_cls_token.shape[0] * 0.8)\n",
    "train_X_cls_token = whole_cls_token[:split_idx]\n",
    "test_X_cls_token = whole_cls_token[split_idx:]\n",
    "print(train_X_cls_token.shape)\n",
    "print(test_X_cls_token.shape)\n",
    "train_y_cls_token = labels[:split_idx]\n",
    "test_y_cls_token = labels[split_idx:]"
   ]
  },
  {
   "cell_type": "code",
   "execution_count": 77,
   "metadata": {},
   "outputs": [
    {
     "name": "stdout",
     "output_type": "stream",
     "text": [
      "9014 positives\n",
      "20710 negatives\n",
      "29638 total\n",
      "pos_weight: tensor(2.2975)\n"
     ]
    }
   ],
   "source": [
    "num_positive_examples = sum(train_y_cls_token)\n",
    "num_neg_examples = len(train_y_cls_token) - num_positive_examples\n",
    "pos_weight = num_neg_examples / num_positive_examples\n",
    "pos_weight = torch.tensor(pos_weight, dtype=torch.float32)\n",
    "print(num_positive_examples, \"positives\")\n",
    "print(num_neg_examples, \"negatives\")\n",
    "print(len(train_y_raw_data), \"total\")\n",
    "print(\"pos_weight:\", pos_weight)"
   ]
  },
  {
   "cell_type": "code",
   "execution_count": 78,
   "metadata": {
    "scrolled": true
   },
   "outputs": [
    {
     "name": "stdout",
     "output_type": "stream",
     "text": [
      "Iteration 1, loss = 0.00386912\n",
      "Iteration 2, loss = 0.00386874\n",
      "Iteration 3, loss = 0.00386639\n",
      "Iteration 4, loss = 0.00386762\n",
      "Iteration 5, loss = 0.00386635\n",
      "Iteration 6, loss = 0.00386522\n",
      "Iteration 7, loss = 0.00386724\n",
      "Iteration 8, loss = 0.00386505\n",
      "Iteration 9, loss = 0.00386603\n",
      "Iteration 10, loss = 0.00386607\n",
      "Iteration 11, loss = 0.00386442\n",
      "Iteration 12, loss = 0.00386765\n",
      "Iteration 13, loss = 0.00386518\n",
      "Iteration 14, loss = 0.00386355\n",
      "Iteration 15, loss = 0.00386188\n",
      "Iteration 16, loss = 0.00386242\n",
      "Iteration 17, loss = 0.00386526\n",
      "Iteration 18, loss = 0.00386200\n",
      "Iteration 19, loss = 0.00386089\n",
      "Iteration 20, loss = 0.00386156\n",
      "Iteration 21, loss = 0.00386061\n",
      "Iteration 22, loss = 0.00386017\n",
      "Iteration 23, loss = 0.00385923\n",
      "Iteration 24, loss = 0.00386097\n",
      "Iteration 25, loss = 0.00386205\n",
      "Iteration 26, loss = 0.00386023\n",
      "Iteration 27, loss = 0.00386086\n",
      "Iteration 28, loss = 0.00385938\n",
      "Iteration 29, loss = 0.00385941\n",
      "Iteration 30, loss = 0.00385785\n",
      "Iteration 31, loss = 0.00385824\n",
      "Iteration 32, loss = 0.00385885\n",
      "Iteration 33, loss = 0.00385822\n",
      "Iteration 34, loss = 0.00385968\n",
      "Iteration 35, loss = 0.00385721\n",
      "Iteration 36, loss = 0.00385703\n",
      "Iteration 37, loss = 0.00385672\n",
      "Iteration 38, loss = 0.00385796\n",
      "Iteration 39, loss = 0.00385743\n",
      "Iteration 40, loss = 0.00385772\n",
      "Iteration 41, loss = 0.00385742\n",
      "Iteration 42, loss = 0.00385907\n",
      "Iteration 43, loss = 0.00385741\n",
      "Iteration 44, loss = 0.00385437\n",
      "Iteration 45, loss = 0.00385799\n",
      "Iteration 46, loss = 0.00385656\n",
      "Iteration 47, loss = 0.00385569\n",
      "Iteration 48, loss = 0.00385823\n",
      "Iteration 49, loss = 0.00385662\n",
      "Iteration 50, loss = 0.00385554\n",
      "Iteration 51, loss = 0.00385476\n",
      "Iteration 52, loss = 0.00385747\n",
      "Iteration 53, loss = 0.00385722\n",
      "Iteration 54, loss = 0.00385896\n",
      "Iteration 55, loss = 0.00385590\n",
      "Iteration 56, loss = 0.00385473\n",
      "Iteration 57, loss = 0.00385572\n",
      "Iteration 58, loss = 0.00385396\n",
      "Iteration 59, loss = 0.00385542\n",
      "Iteration 60, loss = 0.00385394\n",
      "Training loss did not improve more than tol=0.00001 for 30 consecutive epochs. Stopping.\n"
     ]
    },
    {
     "data": {
      "text/plain": [
       "63.011"
      ]
     },
     "execution_count": 78,
     "metadata": {},
     "output_type": "execute_result"
    }
   ],
   "source": [
    "clf = MLPClassifier(random_state=1234, max_iter=200, input_size=512, hidden_size=100, output_size=1)\n",
    "clf.fit(train_X_cls_token, train_y_cls_token, pos_weight, learning_rate=0.001)\n",
    "round(clf.score(test_X_cls_token, test_y_cls_token) * 100, 3)"
   ]
  },
  {
   "cell_type": "code",
   "execution_count": null,
   "metadata": {},
   "outputs": [],
   "source": []
  },
  {
   "cell_type": "code",
   "execution_count": 79,
   "metadata": {},
   "outputs": [
    {
     "name": "stdout",
     "output_type": "stream",
     "text": [
      "(29724, 200)\n",
      "(7432, 200)\n"
     ]
    }
   ],
   "source": [
    "# Run on raw data\n",
    "split_idx = int(raw_data_pca_nonnan.shape[0] * 0.8)\n",
    "train_X_raw_data = raw_data_pca_nonnan[:split_idx]\n",
    "test_X_raw_data = raw_data_pca_nonnan[split_idx:]\n",
    "print(train_X_raw_data.shape)\n",
    "print(test_X_raw_data.shape)\n",
    "train_y_raw_data = labels[:split_idx]\n",
    "test_y_raw_data = labels[split_idx:]"
   ]
  },
  {
   "cell_type": "code",
   "execution_count": 80,
   "metadata": {},
   "outputs": [
    {
     "name": "stdout",
     "output_type": "stream",
     "text": [
      "9014 positives\n",
      "20710 negatives\n",
      "29724 total\n",
      "pos_weight: tensor(2.2975)\n"
     ]
    }
   ],
   "source": [
    "num_positive_examples = sum(train_y_raw_data)\n",
    "num_neg_examples = len(train_y_raw_data) - num_positive_examples\n",
    "pos_weight = num_neg_examples / num_positive_examples\n",
    "pos_weight = torch.tensor(pos_weight, dtype=torch.float32)\n",
    "print(num_positive_examples, \"positives\")\n",
    "print(num_neg_examples, \"negatives\")\n",
    "print(len(train_y_raw_data), \"total\")\n",
    "print(\"pos_weight:\", pos_weight)"
   ]
  },
  {
   "cell_type": "code",
   "execution_count": 81,
   "metadata": {},
   "outputs": [
    {
     "data": {
      "text/plain": [
       "array([-46.49019   ,  -6.9693494 , -44.529865  , -28.447311  ,\n",
       "       -17.217026  ,   0.47021937,  14.024554  , -16.150738  ,\n",
       "         8.224347  ,   0.1882209 ], dtype=float32)"
      ]
     },
     "execution_count": 81,
     "metadata": {},
     "output_type": "execute_result"
    }
   ],
   "source": [
    "train_X_raw_data[0, :10]"
   ]
  },
  {
   "cell_type": "code",
   "execution_count": 82,
   "metadata": {
    "scrolled": true
   },
   "outputs": [
    {
     "name": "stdout",
     "output_type": "stream",
     "text": [
      "Iteration 1, loss = 0.00392885\n",
      "Iteration 2, loss = 0.00373737\n",
      "Iteration 3, loss = 0.00357905\n",
      "Iteration 4, loss = 0.00336706\n",
      "Iteration 5, loss = 0.00312664\n",
      "Iteration 6, loss = 0.00284627\n",
      "Iteration 7, loss = 0.00255931\n",
      "Iteration 8, loss = 0.00231338\n",
      "Iteration 9, loss = 0.00207599\n",
      "Iteration 10, loss = 0.00183750\n",
      "Iteration 11, loss = 0.00160573\n",
      "Iteration 12, loss = 0.00142137\n",
      "Iteration 13, loss = 0.00125967\n",
      "Iteration 14, loss = 0.00111212\n",
      "Iteration 15, loss = 0.00096995\n",
      "Iteration 16, loss = 0.00081980\n",
      "Iteration 17, loss = 0.00071726\n",
      "Iteration 18, loss = 0.00061473\n",
      "Iteration 19, loss = 0.00055633\n",
      "Iteration 20, loss = 0.00049653\n",
      "Iteration 21, loss = 0.00041248\n",
      "Iteration 22, loss = 0.00033714\n",
      "Iteration 23, loss = 0.00027824\n",
      "Iteration 24, loss = 0.00022153\n",
      "Iteration 25, loss = 0.00017779\n",
      "Iteration 26, loss = 0.00013486\n",
      "Iteration 27, loss = 0.00010689\n",
      "Iteration 28, loss = 0.00008044\n",
      "Iteration 29, loss = 0.00006571\n",
      "Iteration 30, loss = 0.00005707\n",
      "Iteration 31, loss = 0.00004927\n",
      "Iteration 32, loss = 0.00004310\n",
      "Iteration 33, loss = 0.00003883\n",
      "Iteration 34, loss = 0.00003521\n",
      "Iteration 35, loss = 0.00003185\n",
      "Iteration 36, loss = 0.00002882\n",
      "Iteration 37, loss = 0.00002619\n",
      "Iteration 38, loss = 0.00002426\n",
      "Iteration 39, loss = 0.00002215\n",
      "Iteration 40, loss = 0.00002070\n",
      "Iteration 41, loss = 0.00001924\n",
      "Iteration 42, loss = 0.00001792\n",
      "Iteration 43, loss = 0.00001670\n",
      "Iteration 44, loss = 0.00001570\n",
      "Iteration 45, loss = 0.00001487\n",
      "Iteration 46, loss = 0.00001388\n",
      "Iteration 47, loss = 0.00001310\n",
      "Iteration 48, loss = 0.00001241\n",
      "Iteration 49, loss = 0.00001190\n",
      "Iteration 50, loss = 0.00001128\n",
      "Iteration 51, loss = 0.00001095\n",
      "Iteration 52, loss = 0.00001076\n",
      "Iteration 53, loss = 0.00001025\n",
      "Iteration 54, loss = 0.00001021\n",
      "Iteration 55, loss = 0.00001125\n",
      "Iteration 56, loss = 0.00359942\n",
      "Iteration 57, loss = 0.00342440\n",
      "Iteration 58, loss = 0.00190833\n",
      "Iteration 59, loss = 0.00128338\n",
      "Iteration 60, loss = 0.00089649\n",
      "Iteration 61, loss = 0.00065244\n",
      "Iteration 62, loss = 0.00048222\n",
      "Iteration 63, loss = 0.00035503\n",
      "Iteration 64, loss = 0.00026372\n",
      "Iteration 65, loss = 0.00019132\n",
      "Iteration 66, loss = 0.00014917\n",
      "Iteration 67, loss = 0.00011172\n",
      "Iteration 68, loss = 0.00008690\n",
      "Iteration 69, loss = 0.00007067\n",
      "Iteration 70, loss = 0.00005953\n",
      "Iteration 71, loss = 0.00005075\n",
      "Iteration 72, loss = 0.00004425\n",
      "Training loss did not improve more than tol=0.00001 for 30 consecutive epochs. Stopping.\n"
     ]
    },
    {
     "data": {
      "text/plain": [
       "59.338"
      ]
     },
     "execution_count": 82,
     "metadata": {},
     "output_type": "execute_result"
    }
   ],
   "source": [
    "clf = MLPClassifier(random_state=1234, max_iter=200, input_size=200, hidden_size=100, output_size=1)\n",
    "clf.fit(train_X_raw_data, train_y_raw_data, pos_weight, learning_rate=0.001)\n",
    "round(clf.score(test_X_raw_data, test_y_raw_data) * 100, 3)"
   ]
  },
  {
   "cell_type": "code",
   "execution_count": null,
   "metadata": {},
   "outputs": [],
   "source": []
  },
  {
   "cell_type": "code",
   "execution_count": null,
   "metadata": {},
   "outputs": [],
   "source": []
  },
  {
   "cell_type": "code",
   "execution_count": null,
   "metadata": {},
   "outputs": [],
   "source": []
  },
  {
   "cell_type": "code",
   "execution_count": null,
   "metadata": {},
   "outputs": [],
   "source": []
  },
  {
   "cell_type": "code",
   "execution_count": null,
   "metadata": {
    "pycharm": {
     "name": "#%%\n"
    }
   },
   "outputs": [],
   "source": []
  }
 ],
 "metadata": {
  "kernelspec": {
   "display_name": "Python 3 (ipykernel)",
   "language": "python",
   "name": "python3"
  },
  "language_info": {
   "codemirror_mode": {
    "name": "ipython",
    "version": 3
   },
   "file_extension": ".py",
   "mimetype": "text/x-python",
   "name": "python",
   "nbconvert_exporter": "python",
   "pygments_lexer": "ipython3",
   "version": "3.8.16"
  }
 },
 "nbformat": 4,
 "nbformat_minor": 1
}
