{
 "cells": [
  {
   "cell_type": "code",
   "execution_count": 1,
   "metadata": {
    "pycharm": {
     "is_executing": true
    }
   },
   "outputs": [
    {
     "name": "stderr",
     "output_type": "stream",
     "text": [
      "/gpfs/gibbs/project/dijk/sr2464/conda_envs/brainlm/lib/python3.8/site-packages/tqdm/auto.py:21: TqdmWarning: IProgress not found. Please update jupyter and ipywidgets. See https://ipywidgets.readthedocs.io/en/stable/user_install.html\n",
      "  from .autonotebook import tqdm as notebook_tqdm\n"
     ]
    }
   ],
   "source": [
    "import os\n",
    "import math\n",
    "\n",
    "import umap\n",
    "import matplotlib.pyplot as plt\n",
    "import matplotlib.colors as mcol\n",
    "import seaborn as sns\n",
    "import numpy as np\n",
    "import pandas as pd\n",
    "from tqdm import tqdm\n",
    "from sklearn.neighbors import KNeighborsClassifier\n",
    "\n",
    "import torch\n",
    "import torch.nn as nn\n",
    "\n",
    "from datasets import load_from_disk, concatenate_datasets\n",
    "from brainlm_mae.modeling_brainlm import BrainLMForPretraining"
   ]
  },
  {
   "cell_type": "code",
   "execution_count": 2,
   "metadata": {},
   "outputs": [],
   "source": [
    "if not os.path.exists(\"inference_plots\"):\n",
    "    os.mkdir(\"inference_plots\")"
   ]
  },
  {
   "cell_type": "code",
   "execution_count": 3,
   "metadata": {},
   "outputs": [
    {
     "data": {
      "text/plain": [
       "device(type='cpu')"
      ]
     },
     "execution_count": 3,
     "metadata": {},
     "output_type": "execute_result"
    }
   ],
   "source": [
    "device = torch.device(\"cuda\" if torch.cuda.is_available() else \"cpu\")\n",
    "device"
   ]
  },
  {
   "cell_type": "code",
   "execution_count": null,
   "metadata": {
    "pycharm": {
     "name": "#%%\n"
    }
   },
   "outputs": [],
   "source": []
  },
  {
   "cell_type": "markdown",
   "metadata": {
    "pycharm": {
     "name": "#%%\n"
    }
   },
   "source": [
    "## Load Entire Dataset"
   ]
  },
  {
   "cell_type": "code",
   "execution_count": 4,
   "metadata": {
    "scrolled": false
   },
   "outputs": [
    {
     "name": "stdout",
     "output_type": "stream",
     "text": [
      "Dataset({\n",
      "    features: ['Raw_Recording', 'All_Patient_All_Voxel_Normalized_Recording', 'Per_Patient_All_Voxel_Normalized_Recording', 'Per_Patient_Per_Voxel_Normalized_Recording', 'Per_Voxel_All_Patient_Normalized_Recording', 'Subtract_Mean_Normalized_Recording', 'Subtract_Mean_Divide_Global_STD_Normalized_Recording', 'Subtract_Mean_Divide_Global_99thPercent_Normalized_Recording', 'Filename', 'Patient ID', 'Order', 'eid', 'Gender', 'Age.At.MHQ', 'PHQ9.Severity', 'Depressed.At.Baseline', 'Neuroticism', 'Self.Harm.Ever', 'Not.Worth.Living', 'PCL.Score', 'GAD7.Severity'],\n",
      "    num_rows: 800\n",
      "})\n",
      "Dataset({\n",
      "    features: ['Raw_Recording', 'All_Patient_All_Voxel_Normalized_Recording', 'Per_Patient_All_Voxel_Normalized_Recording', 'Per_Patient_Per_Voxel_Normalized_Recording', 'Per_Voxel_All_Patient_Normalized_Recording', 'Subtract_Mean_Normalized_Recording', 'Subtract_Mean_Divide_Global_STD_Normalized_Recording', 'Subtract_Mean_Divide_Global_99thPercent_Normalized_Recording', 'Filename', 'Patient ID', 'Order', 'eid', 'Gender', 'Age.At.MHQ', 'PHQ9.Severity', 'Depressed.At.Baseline', 'Neuroticism', 'Self.Harm.Ever', 'Not.Worth.Living', 'PCL.Score', 'GAD7.Severity'],\n",
      "    num_rows: 100\n",
      "})\n",
      "Dataset({\n",
      "    features: ['Raw_Recording', 'All_Patient_All_Voxel_Normalized_Recording', 'Per_Patient_All_Voxel_Normalized_Recording', 'Per_Patient_Per_Voxel_Normalized_Recording', 'Per_Voxel_All_Patient_Normalized_Recording', 'Subtract_Mean_Normalized_Recording', 'Subtract_Mean_Divide_Global_STD_Normalized_Recording', 'Subtract_Mean_Divide_Global_99thPercent_Normalized_Recording', 'Filename', 'Patient ID', 'Order', 'eid', 'Gender', 'Age.At.MHQ', 'PHQ9.Severity', 'Depressed.At.Baseline', 'Neuroticism', 'Self.Harm.Ever', 'Not.Worth.Living', 'PCL.Score', 'GAD7.Severity'],\n",
      "    num_rows: 100\n",
      "})\n",
      "Dataset({\n",
      "    features: ['Index', 'X', 'Y', 'Z'],\n",
      "    num_rows: 424\n",
      "})\n"
     ]
    }
   ],
   "source": [
    "train_ds = load_from_disk(\"/home/sr2464/palmer_scratch/datasets/UKBioBank1000_Arrow_v4/train_ukbiobank1000\")\n",
    "print(train_ds)\n",
    "val_ds = load_from_disk(\"/home/sr2464/palmer_scratch/datasets/UKBioBank1000_Arrow_v4/val_ukbiobank1000\")\n",
    "print(val_ds)\n",
    "test_ds = load_from_disk(\"/home/sr2464/palmer_scratch/datasets/UKBioBank1000_Arrow_v4/test_ukbiobank1000\")\n",
    "print(test_ds)\n",
    "coords_ds = load_from_disk(\"/home/sr2464/palmer_scratch/datasets/UKBioBank1000_Arrow_v4/Brain_Region_Coordinates\")\n",
    "print(coords_ds)"
   ]
  },
  {
   "cell_type": "code",
   "execution_count": 5,
   "metadata": {},
   "outputs": [
    {
     "data": {
      "text/plain": [
       "Dataset({\n",
       "    features: ['Raw_Recording', 'All_Patient_All_Voxel_Normalized_Recording', 'Per_Patient_All_Voxel_Normalized_Recording', 'Per_Patient_Per_Voxel_Normalized_Recording', 'Per_Voxel_All_Patient_Normalized_Recording', 'Subtract_Mean_Normalized_Recording', 'Subtract_Mean_Divide_Global_STD_Normalized_Recording', 'Subtract_Mean_Divide_Global_99thPercent_Normalized_Recording', 'Filename', 'Patient ID', 'Order', 'eid', 'Gender', 'Age.At.MHQ', 'PHQ9.Severity', 'Depressed.At.Baseline', 'Neuroticism', 'Self.Harm.Ever', 'Not.Worth.Living', 'PCL.Score', 'GAD7.Severity'],\n",
       "    num_rows: 1000\n",
       "})"
      ]
     },
     "execution_count": 5,
     "metadata": {},
     "output_type": "execute_result"
    }
   ],
   "source": [
    "concat_ds = concatenate_datasets([train_ds, val_ds, test_ds])\n",
    "concat_ds"
   ]
  },
  {
   "cell_type": "code",
   "execution_count": 6,
   "metadata": {},
   "outputs": [
    {
     "name": "stdout",
     "output_type": "stream",
     "text": [
      "1000011.dat\n",
      "\n",
      "16248\n",
      "1000011\n",
      "1.0\n",
      "76.0\n",
      "0.0\n",
      "3.0\n",
      "0.0\n",
      "0.0\n",
      "10.0\n",
      "3.0\n"
     ]
    }
   ],
   "source": [
    "example0 = concat_ds[0]\n",
    "print(example0['Filename'])\n",
    "print(example0['Patient ID'])\n",
    "print(example0['Order'])\n",
    "print(example0['eid'])\n",
    "print(example0['Gender'])\n",
    "print(example0['Age.At.MHQ'])\n",
    "print(example0['Depressed.At.Baseline'])\n",
    "print(example0['Neuroticism'])\n",
    "print(example0['Self.Harm.Ever'])\n",
    "print(example0['Not.Worth.Living'])\n",
    "print(example0['PCL.Score'])\n",
    "print(example0['GAD7.Severity'])"
   ]
  },
  {
   "cell_type": "code",
   "execution_count": null,
   "metadata": {},
   "outputs": [],
   "source": []
  },
  {
   "cell_type": "markdown",
   "metadata": {},
   "source": [
    "## Reload CLS tokens and raw data if needed"
   ]
  },
  {
   "cell_type": "code",
   "execution_count": 42,
   "metadata": {},
   "outputs": [
    {
     "data": {
      "text/plain": [
       "(1000, 256)"
      ]
     },
     "execution_count": 42,
     "metadata": {},
     "output_type": "execute_result"
    }
   ],
   "source": [
    "all_cls_tokens = np.load(\"inference_plots/all_cls_tokens_200recordinglength.npy\")\n",
    "all_cls_tokens.shape"
   ]
  },
  {
   "cell_type": "code",
   "execution_count": 43,
   "metadata": {},
   "outputs": [
    {
     "data": {
      "text/plain": [
       "(1000, 84800)"
      ]
     },
     "execution_count": 43,
     "metadata": {},
     "output_type": "execute_result"
    }
   ],
   "source": [
    "recording_col_name = \"Subtract_Mean_Divide_Global_STD_Normalized_Recording\"\n",
    "all_recordings = np.load(\"inference_plots/all_{}.npy\".format(recording_col_name))\n",
    "all_recordings.shape"
   ]
  },
  {
   "cell_type": "code",
   "execution_count": 44,
   "metadata": {},
   "outputs": [
    {
     "name": "stdout",
     "output_type": "stream",
     "text": [
      "(1000, 50)\n",
      "(1000, 50)\n"
     ]
    }
   ],
   "source": [
    "raw_data_pca_reduced = np.load(\"inference_plots/pca_reduced_raw_data_50components.png.npy\")\n",
    "cls_tokens_pca_reduced = np.load(\"inference_plots/pca_reduced_cls_tokens_50components.png.npy\")\n",
    "print(raw_data_pca_reduced.shape)\n",
    "print(cls_tokens_pca_reduced.shape)"
   ]
  },
  {
   "cell_type": "code",
   "execution_count": 45,
   "metadata": {},
   "outputs": [
    {
     "name": "stdout",
     "output_type": "stream",
     "text": [
      "(1000, 10)\n",
      "(1000, 10)\n"
     ]
    }
   ],
   "source": [
    "raw_data_pca_reduced_10components = raw_data_pca_reduced[:, :10]\n",
    "cls_tokens_pca_reduced_10_components = cls_tokens_pca_reduced[:, :10]\n",
    "print(raw_data_pca_reduced_10components.shape)\n",
    "print(cls_tokens_pca_reduced_10_components.shape)"
   ]
  },
  {
   "cell_type": "code",
   "execution_count": 46,
   "metadata": {},
   "outputs": [
    {
     "name": "stdout",
     "output_type": "stream",
     "text": [
      "[  3.6791153  43.49763    -8.094716   12.79285   -18.954952   22.041622\n",
      " -36.941082  -28.353394  -10.202997    4.0116863]\n",
      "[-0.4117697  -0.01193752 -0.03786373 -0.06954364 -0.15222041  0.02873909\n",
      " -0.01182826  0.08061408 -0.08338942 -0.05359326]\n"
     ]
    }
   ],
   "source": [
    "print(raw_data_pca_reduced_10components[0])\n",
    "print(cls_tokens_pca_reduced_10_components[0])"
   ]
  },
  {
   "cell_type": "code",
   "execution_count": null,
   "metadata": {},
   "outputs": [],
   "source": []
  },
  {
   "cell_type": "code",
   "execution_count": 47,
   "metadata": {},
   "outputs": [
    {
     "name": "stdout",
     "output_type": "stream",
     "text": [
      "[1.0, 1.0, 0.0, 0.0, 0.0, 1.0, 0.0, 1.0, nan, 0.0]\n",
      "[76.0, 61.0, 52.0, 55.0, 53.0, 55.0, 72.0, 71.0, nan, 66.0]\n",
      "[2.0, 0.0, 1.0, 13.0, 4.0, 1.0, 1.0, 0.0, nan, 2.0]\n",
      "[0.0, 0.0, 0.0, 1.0, 0.0, 0.0, 0.0, 0.0, nan, nan]\n",
      "[3.0, 4.0, 1.0, 6.0, 5.0, 0.0, nan, 1.0, nan, nan]\n",
      "[0.0, 0.0, 0.0, 1.0, 0.0, 0.0, 0.0, 0.0, nan, 1.0]\n",
      "[0.0, 0.0, 0.0, 1.0, 1.0, 0.0, 1.0, 0.0, nan, 0.0]\n",
      "[10.0, 4.0, 9.0, 14.0, 5.0, 4.0, 4.0, 4.0, nan, 15.0]\n",
      "[3.0, 0.0, 1.0, 5.0, 2.0, 0.0, 0.0, 0.0, nan, 4.0]\n"
     ]
    }
   ],
   "source": [
    "print(concat_ds[\"Gender\"][:10])\n",
    "print(concat_ds[\"Age.At.MHQ\"][:10])\n",
    "print(concat_ds[\"PHQ9.Severity\"][:10])\n",
    "print(concat_ds[\"Depressed.At.Baseline\"][:10])\n",
    "print(concat_ds[\"Neuroticism\"][:10])\n",
    "print(concat_ds[\"Self.Harm.Ever\"][:10])\n",
    "print(concat_ds[\"Not.Worth.Living\"][:10])\n",
    "print(concat_ds[\"PCL.Score\"][:10])\n",
    "print(concat_ds[\"GAD7.Severity\"][:10])"
   ]
  },
  {
   "cell_type": "code",
   "execution_count": 48,
   "metadata": {
    "scrolled": true
   },
   "outputs": [
    {
     "name": "stdout",
     "output_type": "stream",
     "text": [
      "Gender: [ 0.  1. nan]\n",
      "Age.At.MHQ: [47. 48. 49. 50. 51. 52. 53. 54. 55. 56. 57. 58. 59. 60. 61. 62. 63. 64.\n",
      " 65. 66. 67. 68. 69. 70. 71. 72. 73. 74. 75. 76. 77. 78. 79. nan]\n",
      "PHQ9.Severity: [ 0.  1.  2.  3.  4.  5.  6.  7.  8.  9. 10. 11. 12. 13. 14. 17. 18. 21.\n",
      " 25. nan]\n",
      "Depressed.At.Baseline: [ 0.  1. nan]\n",
      "Neuroticism: [ 0.  1.  2.  3.  4.  5.  6.  7.  8.  9. 10. 11. 12. nan]\n",
      "Self.Harm.Ever: [ 0.  1. nan]\n",
      "Not.Worth.Living: [ 0.  1. nan]\n",
      "PCL.Score: [ 2.  3.  4.  5.  6.  7.  8.  9. 10. 11. 12. 13. 14. 15. 16. 17. 18. 19.\n",
      " 20. 25. nan]\n",
      "GAD7.Severity: [ 0.  1.  2.  3.  4.  5.  6.  7.  8.  9. 10. 11. 13. 15. 17. 18. 19. 21.\n",
      " nan]\n"
     ]
    }
   ],
   "source": [
    "print(\"Gender:\", np.unique(np.array(concat_ds[\"Gender\"])))\n",
    "print(\"Age.At.MHQ:\", np.unique(np.array(concat_ds[\"Age.At.MHQ\"])))\n",
    "print(\"PHQ9.Severity:\", np.unique(np.array(concat_ds[\"PHQ9.Severity\"])))\n",
    "print(\"Depressed.At.Baseline:\", np.unique(np.array(concat_ds[\"Depressed.At.Baseline\"])))\n",
    "print(\"Neuroticism:\", np.unique(np.array(concat_ds[\"Neuroticism\"])))\n",
    "print(\"Self.Harm.Ever:\", np.unique(np.array(concat_ds[\"Self.Harm.Ever\"])))\n",
    "print(\"Not.Worth.Living:\", np.unique(np.array(concat_ds[\"Not.Worth.Living\"])))\n",
    "print(\"PCL.Score:\", np.unique(np.array(concat_ds[\"PCL.Score\"])))\n",
    "print(\"GAD7.Severity:\", np.unique(np.array(concat_ds[\"GAD7.Severity\"])))"
   ]
  },
  {
   "cell_type": "code",
   "execution_count": 49,
   "metadata": {},
   "outputs": [
    {
     "data": {
      "text/plain": [
       "(array([ 0.,  1., nan]), array([503, 224, 273]))"
      ]
     },
     "execution_count": 49,
     "metadata": {},
     "output_type": "execute_result"
    }
   ],
   "source": [
    "np.unique(np.array(concat_ds[\"Not.Worth.Living\"]), return_counts=True)"
   ]
  },
  {
   "cell_type": "code",
   "execution_count": null,
   "metadata": {},
   "outputs": [],
   "source": []
  },
  {
   "cell_type": "markdown",
   "metadata": {},
   "source": [
    "## Run KNN Classifier on Gender"
   ]
  },
  {
   "cell_type": "code",
   "execution_count": 79,
   "metadata": {},
   "outputs": [],
   "source": [
    "variable_of_interest = \"Gender\""
   ]
  },
  {
   "cell_type": "code",
   "execution_count": 80,
   "metadata": {},
   "outputs": [
    {
     "data": {
      "text/plain": [
       "Dataset({\n",
       "    features: ['Raw_Recording', 'All_Patient_All_Voxel_Normalized_Recording', 'Per_Patient_All_Voxel_Normalized_Recording', 'Per_Patient_Per_Voxel_Normalized_Recording', 'Per_Voxel_All_Patient_Normalized_Recording', 'Subtract_Mean_Normalized_Recording', 'Subtract_Mean_Divide_Global_STD_Normalized_Recording', 'Subtract_Mean_Divide_Global_99thPercent_Normalized_Recording', 'Filename', 'Patient ID', 'Order', 'eid', 'Gender', 'Age.At.MHQ', 'PHQ9.Severity', 'Depressed.At.Baseline', 'Neuroticism', 'Self.Harm.Ever', 'Not.Worth.Living', 'PCL.Score', 'GAD7.Severity'],\n",
       "    num_rows: 727\n",
       "})"
      ]
     },
     "execution_count": 80,
     "metadata": {},
     "output_type": "execute_result"
    }
   ],
   "source": [
    "# Select rows of concat_dataset where label is not nan\n",
    "full_label_list = concat_ds[variable_of_interest]\n",
    "non_nan_indices = [idx for idx in range(len(full_label_list)) if not math.isnan(full_label_list[idx])]\n",
    "# print(non_nan_indices[:10])\n",
    "# print(full_label_list[:10])\n",
    "non_nan_ds = concat_ds.select(non_nan_indices)\n",
    "non_nan_ds"
   ]
  },
  {
   "cell_type": "code",
   "execution_count": 81,
   "metadata": {},
   "outputs": [
    {
     "data": {
      "text/plain": [
       "(727, 10)"
      ]
     },
     "execution_count": 81,
     "metadata": {},
     "output_type": "execute_result"
    }
   ],
   "source": [
    "raw_data_pca_nonnan = raw_data_pca_reduced_10components[np.array(non_nan_indices)]\n",
    "raw_data_pca_nonnan.shape"
   ]
  },
  {
   "cell_type": "code",
   "execution_count": 82,
   "metadata": {},
   "outputs": [
    {
     "data": {
      "text/plain": [
       "(727, 10)"
      ]
     },
     "execution_count": 82,
     "metadata": {},
     "output_type": "execute_result"
    }
   ],
   "source": [
    "cls_tokens_pca_nonnan = cls_tokens_pca_reduced_10_components[np.array(non_nan_indices)]\n",
    "cls_tokens_pca_nonnan.shape"
   ]
  },
  {
   "cell_type": "code",
   "execution_count": 83,
   "metadata": {},
   "outputs": [
    {
     "data": {
      "text/plain": [
       "[1, 1, 0, 0, 0, 1, 0, 1, 0, 0]"
      ]
     },
     "execution_count": 83,
     "metadata": {},
     "output_type": "execute_result"
    }
   ],
   "source": [
    "labels = non_nan_ds[variable_of_interest]\n",
    "labels = [int(num) for num in labels]\n",
    "labels[:10]"
   ]
  },
  {
   "cell_type": "code",
   "execution_count": 86,
   "metadata": {},
   "outputs": [
    {
     "name": "stdout",
     "output_type": "stream",
     "text": [
      "(581, 10)\n",
      "(146, 10)\n"
     ]
    }
   ],
   "source": [
    "# Run on raw data\n",
    "split_idx = int(raw_data_pca_nonnan.shape[0] * 0.8)\n",
    "train_X_raw_data = raw_data_pca_nonnan[:split_idx]\n",
    "test_X_raw_data = raw_data_pca_nonnan[split_idx:]\n",
    "print(train_X_raw_data.shape)\n",
    "print(test_X_raw_data.shape)\n",
    "train_y_raw_data = labels[:split_idx]\n",
    "test_y_raw_data = labels[split_idx:]"
   ]
  },
  {
   "cell_type": "code",
   "execution_count": 87,
   "metadata": {},
   "outputs": [
    {
     "data": {
      "text/plain": [
       "array([  3.6791153,  43.49763  ,  -8.094716 ,  12.79285  , -18.954952 ,\n",
       "        22.041622 , -36.941082 , -28.353394 , -10.202997 ,   4.0116863],\n",
       "      dtype=float32)"
      ]
     },
     "execution_count": 87,
     "metadata": {},
     "output_type": "execute_result"
    }
   ],
   "source": [
    "train_X_raw_data[0]"
   ]
  },
  {
   "cell_type": "code",
   "execution_count": 94,
   "metadata": {},
   "outputs": [
    {
     "data": {
      "text/html": [
       "<style>#sk-container-id-4 {color: black;background-color: white;}#sk-container-id-4 pre{padding: 0;}#sk-container-id-4 div.sk-toggleable {background-color: white;}#sk-container-id-4 label.sk-toggleable__label {cursor: pointer;display: block;width: 100%;margin-bottom: 0;padding: 0.3em;box-sizing: border-box;text-align: center;}#sk-container-id-4 label.sk-toggleable__label-arrow:before {content: \"▸\";float: left;margin-right: 0.25em;color: #696969;}#sk-container-id-4 label.sk-toggleable__label-arrow:hover:before {color: black;}#sk-container-id-4 div.sk-estimator:hover label.sk-toggleable__label-arrow:before {color: black;}#sk-container-id-4 div.sk-toggleable__content {max-height: 0;max-width: 0;overflow: hidden;text-align: left;background-color: #f0f8ff;}#sk-container-id-4 div.sk-toggleable__content pre {margin: 0.2em;color: black;border-radius: 0.25em;background-color: #f0f8ff;}#sk-container-id-4 input.sk-toggleable__control:checked~div.sk-toggleable__content {max-height: 200px;max-width: 100%;overflow: auto;}#sk-container-id-4 input.sk-toggleable__control:checked~label.sk-toggleable__label-arrow:before {content: \"▾\";}#sk-container-id-4 div.sk-estimator input.sk-toggleable__control:checked~label.sk-toggleable__label {background-color: #d4ebff;}#sk-container-id-4 div.sk-label input.sk-toggleable__control:checked~label.sk-toggleable__label {background-color: #d4ebff;}#sk-container-id-4 input.sk-hidden--visually {border: 0;clip: rect(1px 1px 1px 1px);clip: rect(1px, 1px, 1px, 1px);height: 1px;margin: -1px;overflow: hidden;padding: 0;position: absolute;width: 1px;}#sk-container-id-4 div.sk-estimator {font-family: monospace;background-color: #f0f8ff;border: 1px dotted black;border-radius: 0.25em;box-sizing: border-box;margin-bottom: 0.5em;}#sk-container-id-4 div.sk-estimator:hover {background-color: #d4ebff;}#sk-container-id-4 div.sk-parallel-item::after {content: \"\";width: 100%;border-bottom: 1px solid gray;flex-grow: 1;}#sk-container-id-4 div.sk-label:hover label.sk-toggleable__label {background-color: #d4ebff;}#sk-container-id-4 div.sk-serial::before {content: \"\";position: absolute;border-left: 1px solid gray;box-sizing: border-box;top: 0;bottom: 0;left: 50%;z-index: 0;}#sk-container-id-4 div.sk-serial {display: flex;flex-direction: column;align-items: center;background-color: white;padding-right: 0.2em;padding-left: 0.2em;position: relative;}#sk-container-id-4 div.sk-item {position: relative;z-index: 1;}#sk-container-id-4 div.sk-parallel {display: flex;align-items: stretch;justify-content: center;background-color: white;position: relative;}#sk-container-id-4 div.sk-item::before, #sk-container-id-4 div.sk-parallel-item::before {content: \"\";position: absolute;border-left: 1px solid gray;box-sizing: border-box;top: 0;bottom: 0;left: 50%;z-index: -1;}#sk-container-id-4 div.sk-parallel-item {display: flex;flex-direction: column;z-index: 1;position: relative;background-color: white;}#sk-container-id-4 div.sk-parallel-item:first-child::after {align-self: flex-end;width: 50%;}#sk-container-id-4 div.sk-parallel-item:last-child::after {align-self: flex-start;width: 50%;}#sk-container-id-4 div.sk-parallel-item:only-child::after {width: 0;}#sk-container-id-4 div.sk-dashed-wrapped {border: 1px dashed gray;margin: 0 0.4em 0.5em 0.4em;box-sizing: border-box;padding-bottom: 0.4em;background-color: white;}#sk-container-id-4 div.sk-label label {font-family: monospace;font-weight: bold;display: inline-block;line-height: 1.2em;}#sk-container-id-4 div.sk-label-container {text-align: center;}#sk-container-id-4 div.sk-container {/* jupyter's `normalize.less` sets `[hidden] { display: none; }` but bootstrap.min.css set `[hidden] { display: none !important; }` so we also need the `!important` here to be able to override the default hidden behavior on the sphinx rendered scikit-learn.org. See: https://github.com/scikit-learn/scikit-learn/issues/21755 */display: inline-block !important;position: relative;}#sk-container-id-4 div.sk-text-repr-fallback {display: none;}</style><div id=\"sk-container-id-4\" class=\"sk-top-container\"><div class=\"sk-text-repr-fallback\"><pre>KNeighborsClassifier(n_neighbors=3)</pre><b>In a Jupyter environment, please rerun this cell to show the HTML representation or trust the notebook. <br />On GitHub, the HTML representation is unable to render, please try loading this page with nbviewer.org.</b></div><div class=\"sk-container\" hidden><div class=\"sk-item\"><div class=\"sk-estimator sk-toggleable\"><input class=\"sk-toggleable__control sk-hidden--visually\" id=\"sk-estimator-id-4\" type=\"checkbox\" checked><label for=\"sk-estimator-id-4\" class=\"sk-toggleable__label sk-toggleable__label-arrow\">KNeighborsClassifier</label><div class=\"sk-toggleable__content\"><pre>KNeighborsClassifier(n_neighbors=3)</pre></div></div></div></div></div>"
      ],
      "text/plain": [
       "KNeighborsClassifier(n_neighbors=3)"
      ]
     },
     "execution_count": 94,
     "metadata": {},
     "output_type": "execute_result"
    }
   ],
   "source": [
    "num_neighbors = 3\n",
    "neigh = KNeighborsClassifier(n_neighbors=num_neighbors)\n",
    "neigh.fit(train_X_raw_data, train_y_raw_data)"
   ]
  },
  {
   "cell_type": "code",
   "execution_count": 95,
   "metadata": {},
   "outputs": [
    {
     "data": {
      "text/plain": [
       "56.164"
      ]
     },
     "execution_count": 95,
     "metadata": {},
     "output_type": "execute_result"
    }
   ],
   "source": [
    "round(neigh.score(test_X_raw_data, test_y_raw_data) * 100, 3)"
   ]
  },
  {
   "cell_type": "code",
   "execution_count": null,
   "metadata": {},
   "outputs": [],
   "source": []
  },
  {
   "cell_type": "code",
   "execution_count": 96,
   "metadata": {},
   "outputs": [
    {
     "name": "stdout",
     "output_type": "stream",
     "text": [
      "(581, 10)\n",
      "(146, 10)\n"
     ]
    }
   ],
   "source": [
    "# Run on CLS tokens\n",
    "split_idx = int(cls_tokens_pca_nonnan.shape[0] * 0.8)\n",
    "train_X_raw_data = cls_tokens_pca_nonnan[:split_idx]\n",
    "test_X_raw_data = cls_tokens_pca_nonnan[split_idx:]\n",
    "print(train_X_raw_data.shape)\n",
    "print(test_X_raw_data.shape)\n",
    "train_y_raw_data = labels[:split_idx]\n",
    "test_y_raw_data = labels[split_idx:]"
   ]
  },
  {
   "cell_type": "code",
   "execution_count": 97,
   "metadata": {},
   "outputs": [
    {
     "data": {
      "text/plain": [
       "array([-0.4117697 , -0.01193752, -0.03786373, -0.06954364, -0.15222041,\n",
       "        0.02873909, -0.01182826,  0.08061408, -0.08338942, -0.05359326],\n",
       "      dtype=float32)"
      ]
     },
     "execution_count": 97,
     "metadata": {},
     "output_type": "execute_result"
    }
   ],
   "source": [
    "train_X_raw_data[0]"
   ]
  },
  {
   "cell_type": "code",
   "execution_count": 101,
   "metadata": {},
   "outputs": [
    {
     "data": {
      "text/plain": [
       "50.685"
      ]
     },
     "execution_count": 101,
     "metadata": {},
     "output_type": "execute_result"
    }
   ],
   "source": [
    "num_neighbors = 20\n",
    "neigh = KNeighborsClassifier(n_neighbors=num_neighbors)\n",
    "neigh.fit(train_X_raw_data, train_y_raw_data)\n",
    "round(neigh.score(test_X_raw_data, test_y_raw_data) * 100, 3)"
   ]
  },
  {
   "cell_type": "code",
   "execution_count": null,
   "metadata": {},
   "outputs": [],
   "source": []
  },
  {
   "cell_type": "code",
   "execution_count": null,
   "metadata": {},
   "outputs": [],
   "source": []
  },
  {
   "cell_type": "markdown",
   "metadata": {},
   "source": [
    "## Run KNN Classifier on Depression_at_Baseline"
   ]
  },
  {
   "cell_type": "code",
   "execution_count": 15,
   "metadata": {},
   "outputs": [],
   "source": [
    "variable_of_interest = \"Depressed.At.Baseline\""
   ]
  },
  {
   "cell_type": "code",
   "execution_count": 16,
   "metadata": {},
   "outputs": [
    {
     "data": {
      "text/plain": [
       "Dataset({\n",
       "    features: ['Raw_Recording', 'All_Patient_All_Voxel_Normalized_Recording', 'Per_Patient_All_Voxel_Normalized_Recording', 'Per_Patient_Per_Voxel_Normalized_Recording', 'Per_Voxel_All_Patient_Normalized_Recording', 'Subtract_Mean_Normalized_Recording', 'Subtract_Mean_Divide_Global_STD_Normalized_Recording', 'Subtract_Mean_Divide_Global_99thPercent_Normalized_Recording', 'Filename', 'Patient ID', 'Order', 'eid', 'Gender', 'Age.At.MHQ', 'PHQ9.Severity', 'Depressed.At.Baseline', 'Neuroticism', 'Self.Harm.Ever', 'Not.Worth.Living', 'PCL.Score', 'GAD7.Severity'],\n",
       "    num_rows: 702\n",
       "})"
      ]
     },
     "execution_count": 16,
     "metadata": {},
     "output_type": "execute_result"
    }
   ],
   "source": [
    "# Select rows of concat_dataset where label is not nan\n",
    "full_label_list = concat_ds[variable_of_interest]\n",
    "non_nan_indices = [idx for idx in range(len(full_label_list)) if not math.isnan(full_label_list[idx])]\n",
    "# print(non_nan_indices[:10])\n",
    "# print(full_label_list[:10])\n",
    "non_nan_ds = concat_ds.select(non_nan_indices)\n",
    "non_nan_ds"
   ]
  },
  {
   "cell_type": "code",
   "execution_count": 17,
   "metadata": {},
   "outputs": [
    {
     "name": "stdout",
     "output_type": "stream",
     "text": [
      "(702, 10)\n",
      "(702, 10)\n"
     ]
    }
   ],
   "source": [
    "raw_data_pca_nonnan = raw_data_pca_reduced_10components[np.array(non_nan_indices)]\n",
    "print(raw_data_pca_nonnan.shape)\n",
    "cls_tokens_pca_nonnan = cls_tokens_pca_reduced_10_components[np.array(non_nan_indices)]\n",
    "print(cls_tokens_pca_nonnan.shape)"
   ]
  },
  {
   "cell_type": "code",
   "execution_count": 18,
   "metadata": {},
   "outputs": [
    {
     "data": {
      "text/plain": [
       "[0, 0, 0, 1, 0, 0, 0, 0, 0, 0]"
      ]
     },
     "execution_count": 18,
     "metadata": {},
     "output_type": "execute_result"
    }
   ],
   "source": [
    "labels = non_nan_ds[variable_of_interest]\n",
    "labels = [int(num) for num in labels]\n",
    "labels[:10]"
   ]
  },
  {
   "cell_type": "code",
   "execution_count": 19,
   "metadata": {},
   "outputs": [
    {
     "name": "stdout",
     "output_type": "stream",
     "text": [
      "(561, 10)\n",
      "(141, 10)\n"
     ]
    }
   ],
   "source": [
    "# Run on raw data\n",
    "split_idx = int(raw_data_pca_nonnan.shape[0] * 0.8)\n",
    "train_X_raw_data = raw_data_pca_nonnan[:split_idx]\n",
    "test_X_raw_data = raw_data_pca_nonnan[split_idx:]\n",
    "print(train_X_raw_data.shape)\n",
    "print(test_X_raw_data.shape)\n",
    "train_y_raw_data = labels[:split_idx]\n",
    "test_y_raw_data = labels[split_idx:]"
   ]
  },
  {
   "cell_type": "code",
   "execution_count": 21,
   "metadata": {},
   "outputs": [
    {
     "data": {
      "text/plain": [
       "array([  3.6791153,  43.49763  ,  -8.094716 ,  12.79285  , -18.954952 ,\n",
       "        22.041622 , -36.941082 , -28.353394 , -10.202997 ,   4.0116863],\n",
       "      dtype=float32)"
      ]
     },
     "execution_count": 21,
     "metadata": {},
     "output_type": "execute_result"
    }
   ],
   "source": [
    "train_X_raw_data[0]"
   ]
  },
  {
   "cell_type": "code",
   "execution_count": 25,
   "metadata": {},
   "outputs": [
    {
     "data": {
      "text/plain": [
       "82.27"
      ]
     },
     "execution_count": 25,
     "metadata": {},
     "output_type": "execute_result"
    }
   ],
   "source": [
    "num_neighbors = 20\n",
    "neigh = KNeighborsClassifier(n_neighbors=num_neighbors)\n",
    "neigh.fit(train_X_raw_data, train_y_raw_data)\n",
    "round(neigh.score(test_X_raw_data, test_y_raw_data) * 100, 3)"
   ]
  },
  {
   "cell_type": "code",
   "execution_count": 26,
   "metadata": {},
   "outputs": [
    {
     "name": "stdout",
     "output_type": "stream",
     "text": [
      "(561, 10)\n",
      "(141, 10)\n"
     ]
    }
   ],
   "source": [
    "# Run on CLS tokens\n",
    "split_idx = int(cls_tokens_pca_nonnan.shape[0] * 0.8)\n",
    "train_X_raw_data = cls_tokens_pca_nonnan[:split_idx]\n",
    "test_X_raw_data = cls_tokens_pca_nonnan[split_idx:]\n",
    "print(train_X_raw_data.shape)\n",
    "print(test_X_raw_data.shape)\n",
    "train_y_raw_data = labels[:split_idx]\n",
    "test_y_raw_data = labels[split_idx:]"
   ]
  },
  {
   "cell_type": "code",
   "execution_count": 27,
   "metadata": {},
   "outputs": [
    {
     "data": {
      "text/plain": [
       "array([-0.4117697 , -0.01193752, -0.03786373, -0.06954364, -0.15222041,\n",
       "        0.02873909, -0.01182826,  0.08061408, -0.08338942, -0.05359326],\n",
       "      dtype=float32)"
      ]
     },
     "execution_count": 27,
     "metadata": {},
     "output_type": "execute_result"
    }
   ],
   "source": [
    "train_X_raw_data[0]"
   ]
  },
  {
   "cell_type": "code",
   "execution_count": 31,
   "metadata": {},
   "outputs": [
    {
     "data": {
      "text/plain": [
       "82.27"
      ]
     },
     "execution_count": 31,
     "metadata": {},
     "output_type": "execute_result"
    }
   ],
   "source": [
    "num_neighbors = 20\n",
    "neigh = KNeighborsClassifier(n_neighbors=num_neighbors)\n",
    "neigh.fit(train_X_raw_data, train_y_raw_data)\n",
    "round(neigh.score(test_X_raw_data, test_y_raw_data) * 100, 3)"
   ]
  },
  {
   "cell_type": "code",
   "execution_count": null,
   "metadata": {},
   "outputs": [],
   "source": []
  },
  {
   "cell_type": "code",
   "execution_count": null,
   "metadata": {},
   "outputs": [],
   "source": []
  },
  {
   "cell_type": "markdown",
   "metadata": {},
   "source": [
    "## Run KNN on Self.Harm.Ever"
   ]
  },
  {
   "cell_type": "code",
   "execution_count": 50,
   "metadata": {},
   "outputs": [],
   "source": [
    "variable_of_interest = \"Self.Harm.Ever\""
   ]
  },
  {
   "cell_type": "code",
   "execution_count": 51,
   "metadata": {},
   "outputs": [
    {
     "data": {
      "text/plain": [
       "Dataset({\n",
       "    features: ['Raw_Recording', 'All_Patient_All_Voxel_Normalized_Recording', 'Per_Patient_All_Voxel_Normalized_Recording', 'Per_Patient_Per_Voxel_Normalized_Recording', 'Per_Voxel_All_Patient_Normalized_Recording', 'Subtract_Mean_Normalized_Recording', 'Subtract_Mean_Divide_Global_STD_Normalized_Recording', 'Subtract_Mean_Divide_Global_99thPercent_Normalized_Recording', 'Filename', 'Patient ID', 'Order', 'eid', 'Gender', 'Age.At.MHQ', 'PHQ9.Severity', 'Depressed.At.Baseline', 'Neuroticism', 'Self.Harm.Ever', 'Not.Worth.Living', 'PCL.Score', 'GAD7.Severity'],\n",
       "    num_rows: 725\n",
       "})"
      ]
     },
     "execution_count": 51,
     "metadata": {},
     "output_type": "execute_result"
    }
   ],
   "source": [
    "# Select rows of concat_dataset where label is not nan\n",
    "full_label_list = concat_ds[variable_of_interest]\n",
    "non_nan_indices = [idx for idx in range(len(full_label_list)) if not math.isnan(full_label_list[idx])]\n",
    "# print(non_nan_indices[:10])\n",
    "# print(full_label_list[:10])\n",
    "non_nan_ds = concat_ds.select(non_nan_indices)\n",
    "non_nan_ds"
   ]
  },
  {
   "cell_type": "code",
   "execution_count": 52,
   "metadata": {},
   "outputs": [
    {
     "name": "stdout",
     "output_type": "stream",
     "text": [
      "(725, 10)\n",
      "(725, 10)\n"
     ]
    }
   ],
   "source": [
    "raw_data_pca_nonnan = raw_data_pca_reduced_10components[np.array(non_nan_indices)]\n",
    "print(raw_data_pca_nonnan.shape)\n",
    "cls_tokens_pca_nonnan = cls_tokens_pca_reduced_10_components[np.array(non_nan_indices)]\n",
    "print(cls_tokens_pca_nonnan.shape)"
   ]
  },
  {
   "cell_type": "code",
   "execution_count": 53,
   "metadata": {},
   "outputs": [
    {
     "data": {
      "text/plain": [
       "[0, 0, 0, 1, 0, 0, 0, 0, 1, 0]"
      ]
     },
     "execution_count": 53,
     "metadata": {},
     "output_type": "execute_result"
    }
   ],
   "source": [
    "labels = non_nan_ds[variable_of_interest]\n",
    "labels = [int(num) for num in labels]\n",
    "labels[:10]"
   ]
  },
  {
   "cell_type": "code",
   "execution_count": 54,
   "metadata": {},
   "outputs": [
    {
     "name": "stdout",
     "output_type": "stream",
     "text": [
      "(580, 10)\n",
      "(145, 10)\n"
     ]
    }
   ],
   "source": [
    "# Run on CLS tokens\n",
    "split_idx = int(cls_tokens_pca_nonnan.shape[0] * 0.8)\n",
    "train_X_raw_data = cls_tokens_pca_nonnan[:split_idx]\n",
    "test_X_raw_data = cls_tokens_pca_nonnan[split_idx:]\n",
    "print(train_X_raw_data.shape)\n",
    "print(test_X_raw_data.shape)\n",
    "train_y_raw_data = labels[:split_idx]\n",
    "test_y_raw_data = labels[split_idx:]"
   ]
  },
  {
   "cell_type": "code",
   "execution_count": 55,
   "metadata": {},
   "outputs": [
    {
     "data": {
      "text/plain": [
       "array([-0.4117697 , -0.01193752, -0.03786373, -0.06954364, -0.15222041,\n",
       "        0.02873909, -0.01182826,  0.08061408, -0.08338942, -0.05359326],\n",
       "      dtype=float32)"
      ]
     },
     "execution_count": 55,
     "metadata": {},
     "output_type": "execute_result"
    }
   ],
   "source": [
    "train_X_raw_data[0]"
   ]
  },
  {
   "cell_type": "code",
   "execution_count": 56,
   "metadata": {},
   "outputs": [
    {
     "data": {
      "text/plain": [
       "95.862"
      ]
     },
     "execution_count": 56,
     "metadata": {},
     "output_type": "execute_result"
    }
   ],
   "source": [
    "num_neighbors = 20\n",
    "neigh = KNeighborsClassifier(n_neighbors=num_neighbors)\n",
    "neigh.fit(train_X_raw_data, train_y_raw_data)\n",
    "round(neigh.score(test_X_raw_data, test_y_raw_data) * 100, 3)"
   ]
  },
  {
   "cell_type": "code",
   "execution_count": 57,
   "metadata": {},
   "outputs": [
    {
     "name": "stdout",
     "output_type": "stream",
     "text": [
      "(580, 10)\n",
      "(145, 10)\n"
     ]
    }
   ],
   "source": [
    "# Run on raw data\n",
    "split_idx = int(raw_data_pca_nonnan.shape[0] * 0.8)\n",
    "train_X_raw_data = raw_data_pca_nonnan[:split_idx]\n",
    "test_X_raw_data = raw_data_pca_nonnan[split_idx:]\n",
    "print(train_X_raw_data.shape)\n",
    "print(test_X_raw_data.shape)\n",
    "train_y_raw_data = labels[:split_idx]\n",
    "test_y_raw_data = labels[split_idx:]"
   ]
  },
  {
   "cell_type": "code",
   "execution_count": 59,
   "metadata": {},
   "outputs": [
    {
     "data": {
      "text/plain": [
       "array([  3.6791153,  43.49763  ,  -8.094716 ,  12.79285  , -18.954952 ,\n",
       "        22.041622 , -36.941082 , -28.353394 , -10.202997 ,   4.0116863],\n",
       "      dtype=float32)"
      ]
     },
     "execution_count": 59,
     "metadata": {},
     "output_type": "execute_result"
    }
   ],
   "source": [
    "train_X_raw_data[0]"
   ]
  },
  {
   "cell_type": "code",
   "execution_count": 62,
   "metadata": {},
   "outputs": [
    {
     "data": {
      "text/plain": [
       "95.862"
      ]
     },
     "execution_count": 62,
     "metadata": {},
     "output_type": "execute_result"
    }
   ],
   "source": [
    "num_neighbors = 20\n",
    "neigh = KNeighborsClassifier(n_neighbors=num_neighbors)\n",
    "neigh.fit(train_X_raw_data, train_y_raw_data)\n",
    "round(neigh.score(test_X_raw_data, test_y_raw_data) * 100, 3)"
   ]
  },
  {
   "cell_type": "code",
   "execution_count": null,
   "metadata": {},
   "outputs": [],
   "source": []
  },
  {
   "cell_type": "code",
   "execution_count": null,
   "metadata": {},
   "outputs": [],
   "source": []
  },
  {
   "cell_type": "markdown",
   "metadata": {},
   "source": [
    "## Run KNN on Not.Worth.Living"
   ]
  },
  {
   "cell_type": "code",
   "execution_count": 63,
   "metadata": {},
   "outputs": [],
   "source": [
    "variable_of_interest = \"Not.Worth.Living\""
   ]
  },
  {
   "cell_type": "code",
   "execution_count": 64,
   "metadata": {},
   "outputs": [
    {
     "data": {
      "text/plain": [
       "Dataset({\n",
       "    features: ['Raw_Recording', 'All_Patient_All_Voxel_Normalized_Recording', 'Per_Patient_All_Voxel_Normalized_Recording', 'Per_Patient_Per_Voxel_Normalized_Recording', 'Per_Voxel_All_Patient_Normalized_Recording', 'Subtract_Mean_Normalized_Recording', 'Subtract_Mean_Divide_Global_STD_Normalized_Recording', 'Subtract_Mean_Divide_Global_99thPercent_Normalized_Recording', 'Filename', 'Patient ID', 'Order', 'eid', 'Gender', 'Age.At.MHQ', 'PHQ9.Severity', 'Depressed.At.Baseline', 'Neuroticism', 'Self.Harm.Ever', 'Not.Worth.Living', 'PCL.Score', 'GAD7.Severity'],\n",
       "    num_rows: 727\n",
       "})"
      ]
     },
     "execution_count": 64,
     "metadata": {},
     "output_type": "execute_result"
    }
   ],
   "source": [
    "# Select rows of concat_dataset where label is not nan\n",
    "full_label_list = concat_ds[variable_of_interest]\n",
    "non_nan_indices = [idx for idx in range(len(full_label_list)) if not math.isnan(full_label_list[idx])]\n",
    "# print(non_nan_indices[:10])\n",
    "# print(full_label_list[:10])\n",
    "non_nan_ds = concat_ds.select(non_nan_indices)\n",
    "non_nan_ds"
   ]
  },
  {
   "cell_type": "code",
   "execution_count": 65,
   "metadata": {},
   "outputs": [
    {
     "name": "stdout",
     "output_type": "stream",
     "text": [
      "(727, 10)\n",
      "(727, 10)\n"
     ]
    }
   ],
   "source": [
    "raw_data_pca_nonnan = raw_data_pca_reduced_10components[np.array(non_nan_indices)]\n",
    "print(raw_data_pca_nonnan.shape)\n",
    "cls_tokens_pca_nonnan = cls_tokens_pca_reduced_10_components[np.array(non_nan_indices)]\n",
    "print(cls_tokens_pca_nonnan.shape)"
   ]
  },
  {
   "cell_type": "code",
   "execution_count": 66,
   "metadata": {},
   "outputs": [
    {
     "data": {
      "text/plain": [
       "[0, 0, 0, 1, 1, 0, 1, 0, 0, 0]"
      ]
     },
     "execution_count": 66,
     "metadata": {},
     "output_type": "execute_result"
    }
   ],
   "source": [
    "labels = non_nan_ds[variable_of_interest]\n",
    "labels = [int(num) for num in labels]\n",
    "labels[:10]"
   ]
  },
  {
   "cell_type": "code",
   "execution_count": 67,
   "metadata": {},
   "outputs": [
    {
     "name": "stdout",
     "output_type": "stream",
     "text": [
      "(581, 10)\n",
      "(146, 10)\n"
     ]
    }
   ],
   "source": [
    "# Run on CLS tokens\n",
    "split_idx = int(cls_tokens_pca_nonnan.shape[0] * 0.8)\n",
    "train_X_raw_data = cls_tokens_pca_nonnan[:split_idx]\n",
    "test_X_raw_data = cls_tokens_pca_nonnan[split_idx:]\n",
    "print(train_X_raw_data.shape)\n",
    "print(test_X_raw_data.shape)\n",
    "train_y_raw_data = labels[:split_idx]\n",
    "test_y_raw_data = labels[split_idx:]"
   ]
  },
  {
   "cell_type": "code",
   "execution_count": 68,
   "metadata": {},
   "outputs": [
    {
     "data": {
      "text/plain": [
       "array([-0.4117697 , -0.01193752, -0.03786373, -0.06954364, -0.15222041,\n",
       "        0.02873909, -0.01182826,  0.08061408, -0.08338942, -0.05359326],\n",
       "      dtype=float32)"
      ]
     },
     "execution_count": 68,
     "metadata": {},
     "output_type": "execute_result"
    }
   ],
   "source": [
    "train_X_raw_data[0]"
   ]
  },
  {
   "cell_type": "code",
   "execution_count": 73,
   "metadata": {},
   "outputs": [
    {
     "data": {
      "text/plain": [
       "73.288"
      ]
     },
     "execution_count": 73,
     "metadata": {},
     "output_type": "execute_result"
    }
   ],
   "source": [
    "num_neighbors = 20\n",
    "neigh = KNeighborsClassifier(n_neighbors=num_neighbors)\n",
    "neigh.fit(train_X_raw_data, train_y_raw_data)\n",
    "round(neigh.score(test_X_raw_data, test_y_raw_data) * 100, 3)"
   ]
  },
  {
   "cell_type": "code",
   "execution_count": 74,
   "metadata": {},
   "outputs": [
    {
     "name": "stdout",
     "output_type": "stream",
     "text": [
      "(581, 10)\n",
      "(146, 10)\n"
     ]
    }
   ],
   "source": [
    "# Run on raw data\n",
    "split_idx = int(raw_data_pca_nonnan.shape[0] * 0.8)\n",
    "train_X_raw_data = raw_data_pca_nonnan[:split_idx]\n",
    "test_X_raw_data = raw_data_pca_nonnan[split_idx:]\n",
    "print(train_X_raw_data.shape)\n",
    "print(test_X_raw_data.shape)\n",
    "train_y_raw_data = labels[:split_idx]\n",
    "test_y_raw_data = labels[split_idx:]"
   ]
  },
  {
   "cell_type": "code",
   "execution_count": 78,
   "metadata": {},
   "outputs": [
    {
     "data": {
      "text/plain": [
       "71.233"
      ]
     },
     "execution_count": 78,
     "metadata": {},
     "output_type": "execute_result"
    }
   ],
   "source": [
    "num_neighbors = 20\n",
    "neigh = KNeighborsClassifier(n_neighbors=num_neighbors)\n",
    "neigh.fit(train_X_raw_data, train_y_raw_data)\n",
    "round(neigh.score(test_X_raw_data, test_y_raw_data) * 100, 3)"
   ]
  },
  {
   "cell_type": "code",
   "execution_count": null,
   "metadata": {},
   "outputs": [],
   "source": []
  },
  {
   "cell_type": "code",
   "execution_count": null,
   "metadata": {},
   "outputs": [],
   "source": []
  },
  {
   "cell_type": "code",
   "execution_count": null,
   "metadata": {},
   "outputs": [],
   "source": []
  },
  {
   "cell_type": "code",
   "execution_count": null,
   "metadata": {},
   "outputs": [],
   "source": []
  },
  {
   "cell_type": "code",
   "execution_count": null,
   "metadata": {
    "pycharm": {
     "name": "#%%\n"
    }
   },
   "outputs": [],
   "source": []
  }
 ],
 "metadata": {
  "kernelspec": {
   "display_name": "Python 3 (ipykernel)",
   "language": "python",
   "name": "python3"
  },
  "language_info": {
   "codemirror_mode": {
    "name": "ipython",
    "version": 3
   },
   "file_extension": ".py",
   "mimetype": "text/x-python",
   "name": "python",
   "nbconvert_exporter": "python",
   "pygments_lexer": "ipython3",
   "version": "3.8.16"
  }
 },
 "nbformat": 4,
 "nbformat_minor": 1
}
