{
 "cells": [
  {
   "cell_type": "code",
   "execution_count": 1,
   "metadata": {
    "pycharm": {
     "is_executing": true
    }
   },
   "outputs": [
    {
     "name": "stderr",
     "output_type": "stream",
     "text": [
      "/gpfs/gibbs/project/dijk/sr2464/conda_envs/brainlm/lib/python3.8/site-packages/tqdm/auto.py:21: TqdmWarning: IProgress not found. Please update jupyter and ipywidgets. See https://ipywidgets.readthedocs.io/en/stable/user_install.html\n",
      "  from .autonotebook import tqdm as notebook_tqdm\n"
     ]
    }
   ],
   "source": [
    "import os\n",
    "import math\n",
    "import statistics\n",
    "\n",
    "import umap\n",
    "import matplotlib.pyplot as plt\n",
    "import matplotlib.colors as mcol\n",
    "import seaborn as sns\n",
    "import numpy as np\n",
    "import pandas as pd\n",
    "from tqdm import tqdm\n",
    "from sklearn import svm\n",
    "from sklearn.preprocessing import StandardScaler\n",
    "from sklearn.model_selection import cross_val_score\n",
    "\n",
    "import torch\n",
    "import torch.nn as nn\n",
    "\n",
    "from datasets import load_from_disk, concatenate_datasets\n",
    "from brainlm_mae.modeling_brainlm import BrainLMForPretraining"
   ]
  },
  {
   "cell_type": "code",
   "execution_count": 2,
   "metadata": {},
   "outputs": [],
   "source": [
    "if not os.path.exists(\"inference_plots\"):\n",
    "    os.mkdir(\"inference_plots\")"
   ]
  },
  {
   "cell_type": "code",
   "execution_count": 3,
   "metadata": {},
   "outputs": [
    {
     "data": {
      "text/plain": [
       "device(type='cpu')"
      ]
     },
     "execution_count": 3,
     "metadata": {},
     "output_type": "execute_result"
    }
   ],
   "source": [
    "device = torch.device(\"cuda\" if torch.cuda.is_available() else \"cpu\")\n",
    "device"
   ]
  },
  {
   "cell_type": "code",
   "execution_count": null,
   "metadata": {
    "pycharm": {
     "name": "#%%\n"
    }
   },
   "outputs": [],
   "source": []
  },
  {
   "cell_type": "markdown",
   "metadata": {
    "pycharm": {
     "name": "#%%\n"
    }
   },
   "source": [
    "## Load Entire Dataset"
   ]
  },
  {
   "cell_type": "code",
   "execution_count": 4,
   "metadata": {
    "scrolled": false
   },
   "outputs": [
    {
     "name": "stdout",
     "output_type": "stream",
     "text": [
      "Dataset({\n",
      "    features: ['Raw_Recording', 'Voxelwise_RobustScaler_Normalized_Recording', 'Filename', 'Patient ID', 'Order', 'eid', 'Gender', 'Age.At.MHQ', 'PHQ9.Severity', 'Depressed.At.Baseline', 'Neuroticism', 'Self.Harm.Ever', 'Not.Worth.Living', 'PCL.Score', 'GAD7.Severity'],\n",
      "    num_rows: 61038\n",
      "})\n",
      "Dataset({\n",
      "    features: ['Raw_Recording', 'Voxelwise_RobustScaler_Normalized_Recording', 'Filename', 'Patient ID', 'Order', 'eid', 'Gender', 'Age.At.MHQ', 'PHQ9.Severity', 'Depressed.At.Baseline', 'Neuroticism', 'Self.Harm.Ever', 'Not.Worth.Living', 'PCL.Score', 'GAD7.Severity'],\n",
      "    num_rows: 7629\n",
      "})\n",
      "Dataset({\n",
      "    features: ['Raw_Recording', 'Voxelwise_RobustScaler_Normalized_Recording', 'Filename', 'Patient ID', 'Order', 'eid', 'Gender', 'Age.At.MHQ', 'PHQ9.Severity', 'Depressed.At.Baseline', 'Neuroticism', 'Self.Harm.Ever', 'Not.Worth.Living', 'PCL.Score', 'GAD7.Severity'],\n",
      "    num_rows: 7628\n",
      "})\n",
      "Dataset({\n",
      "    features: ['Index', 'X', 'Y', 'Z'],\n",
      "    num_rows: 424\n",
      "})\n"
     ]
    }
   ],
   "source": [
    "train_ds = load_from_disk(\"/home/sr2464/palmer_scratch/datasets/UKB_Large_rsfMRI_and_tffMRI_Arrow_WithRegression_v3_with_metadata/train_ukbiobank\")\n",
    "print(train_ds)\n",
    "val_ds = load_from_disk(\"/home/sr2464/palmer_scratch/datasets/UKB_Large_rsfMRI_and_tffMRI_Arrow_WithRegression_v3_with_metadata/val_ukbiobank\")\n",
    "print(val_ds)\n",
    "test_ds = load_from_disk(\"/home/sr2464/palmer_scratch/datasets/UKB_Large_rsfMRI_and_tffMRI_Arrow_WithRegression_v3_with_metadata/test_ukbiobank\")\n",
    "print(test_ds)\n",
    "coords_ds = load_from_disk(\"/home/sr2464/palmer_scratch/datasets/UKBioBank1000_Arrow_v4/Brain_Region_Coordinates\")\n",
    "print(coords_ds)"
   ]
  },
  {
   "cell_type": "code",
   "execution_count": 5,
   "metadata": {},
   "outputs": [
    {
     "data": {
      "text/plain": [
       "Dataset({\n",
       "    features: ['Raw_Recording', 'Voxelwise_RobustScaler_Normalized_Recording', 'Filename', 'Patient ID', 'Order', 'eid', 'Gender', 'Age.At.MHQ', 'PHQ9.Severity', 'Depressed.At.Baseline', 'Neuroticism', 'Self.Harm.Ever', 'Not.Worth.Living', 'PCL.Score', 'GAD7.Severity'],\n",
       "    num_rows: 76295\n",
       "})"
      ]
     },
     "execution_count": 5,
     "metadata": {},
     "output_type": "execute_result"
    }
   ],
   "source": [
    "concat_ds = concatenate_datasets([train_ds, val_ds, test_ds])\n",
    "concat_ds"
   ]
  },
  {
   "cell_type": "code",
   "execution_count": 6,
   "metadata": {},
   "outputs": [
    {
     "name": "stdout",
     "output_type": "stream",
     "text": [
      "1191089.dat_tf\n",
      "_tf\n",
      "18416.0\n",
      "1191089.0\n",
      "nan\n",
      "nan\n",
      "nan\n",
      "nan\n",
      "nan\n",
      "nan\n",
      "nan\n",
      "nan\n"
     ]
    }
   ],
   "source": [
    "example0 = concat_ds[10]\n",
    "print(example0['Filename'])\n",
    "print(example0['Patient ID'])\n",
    "print(example0['Order'])\n",
    "print(example0['eid'])\n",
    "print(example0['Gender'])\n",
    "print(example0['Age.At.MHQ'])\n",
    "print(example0['Depressed.At.Baseline'])\n",
    "print(example0['Neuroticism'])\n",
    "print(example0['Self.Harm.Ever'])\n",
    "print(example0['Not.Worth.Living'])\n",
    "print(example0['PCL.Score'])\n",
    "print(example0['GAD7.Severity'])"
   ]
  },
  {
   "cell_type": "code",
   "execution_count": null,
   "metadata": {},
   "outputs": [],
   "source": []
  },
  {
   "cell_type": "markdown",
   "metadata": {},
   "source": [
    "## Reload PCA components of CLS tokens and raw data"
   ]
  },
  {
   "cell_type": "code",
   "execution_count": 7,
   "metadata": {},
   "outputs": [
    {
     "data": {
      "text/plain": [
       "(76295, 512)"
      ]
     },
     "execution_count": 7,
     "metadata": {},
     "output_type": "execute_result"
    }
   ],
   "source": [
    "# Best BrainLM model so far: /home/mr2238/BrainLM/inference_plots/dataset_v3/2023-07-17-19_00_00_ckpt-500/\n",
    "#  all_cls_200recordinglength.npy\n",
    "#  pca_reduced_cls_tokens_200components.npy\n",
    "# Raw recordings:\n",
    "#  recordings normalized: in concat_ds, column \n",
    "#  PCA of raw recordings: /home/mr2238/BrainLM/inference_plots/dataset_v3/pca_reduced_raw_data_200length_200components.npy\n",
    "all_cls_tokens = np.load(\"/home/mr2238/BrainLM/inference_plots/dataset_v3/2023-07-17-19_00_00_ckpt-500/all_cls_200recordinglength.npy\")\n",
    "all_cls_tokens.shape"
   ]
  },
  {
   "cell_type": "code",
   "execution_count": 8,
   "metadata": {},
   "outputs": [
    {
     "data": {
      "text/plain": [
       "(76295, 200)"
      ]
     },
     "execution_count": 8,
     "metadata": {},
     "output_type": "execute_result"
    }
   ],
   "source": [
    "cls_token_pca_components = np.load(\"/home/mr2238/BrainLM/inference_plots/dataset_v3/2023-07-17-19_00_00_ckpt-500/pca_reduced_cls_tokens_200components.npy\")\n",
    "cls_token_pca_components.shape"
   ]
  },
  {
   "cell_type": "code",
   "execution_count": 9,
   "metadata": {},
   "outputs": [
    {
     "data": {
      "text/plain": [
       "Dataset({\n",
       "    features: ['Raw_Recording', 'Voxelwise_RobustScaler_Normalized_Recording', 'Filename', 'Patient ID', 'Order', 'eid', 'Gender', 'Age.At.MHQ', 'PHQ9.Severity', 'Depressed.At.Baseline', 'Neuroticism', 'Self.Harm.Ever', 'Not.Worth.Living', 'PCL.Score', 'GAD7.Severity', 'cls_token_pca_components'],\n",
       "    num_rows: 76295\n",
       "})"
      ]
     },
     "execution_count": 9,
     "metadata": {},
     "output_type": "execute_result"
    }
   ],
   "source": [
    "total_num_ex = cls_token_pca_components.shape[0]\n",
    "cls_token_pca_components_list = [cls_token_pca_components[idx] for idx in range(total_num_ex)]\n",
    "concat_ds = concat_ds.add_column(name=\"cls_token_pca_components\", column=cls_token_pca_components_list)\n",
    "concat_ds"
   ]
  },
  {
   "cell_type": "code",
   "execution_count": 10,
   "metadata": {},
   "outputs": [
    {
     "data": {
      "text/plain": [
       "Dataset({\n",
       "    features: ['Raw_Recording', 'Voxelwise_RobustScaler_Normalized_Recording', 'Filename', 'Patient ID', 'Order', 'eid', 'Gender', 'Age.At.MHQ', 'PHQ9.Severity', 'Depressed.At.Baseline', 'Neuroticism', 'Self.Harm.Ever', 'Not.Worth.Living', 'PCL.Score', 'GAD7.Severity', 'cls_token_pca_components', 'whole_cls_token'],\n",
       "    num_rows: 76295\n",
       "})"
      ]
     },
     "execution_count": 10,
     "metadata": {},
     "output_type": "execute_result"
    }
   ],
   "source": [
    "# Add whole CLS token to ds as well\n",
    "total_num_ex = all_cls_tokens.shape[0]\n",
    "all_cls_tokens_list = [all_cls_tokens[idx] for idx in range(total_num_ex)]\n",
    "concat_ds = concat_ds.add_column(name=\"whole_cls_token\", column=all_cls_tokens_list)\n",
    "concat_ds"
   ]
  },
  {
   "cell_type": "code",
   "execution_count": 11,
   "metadata": {},
   "outputs": [],
   "source": [
    "# recording_col_name = \"Subtract_Mean_Divide_Global_STD_Normalized_Recording\"\n",
    "# all_recordings = np.load(\"inference_plots/all_{}_490len.npy\".format(recording_col_name))\n",
    "# all_recordings.shape"
   ]
  },
  {
   "cell_type": "code",
   "execution_count": 12,
   "metadata": {},
   "outputs": [
    {
     "data": {
      "text/plain": [
       "(76295, 200)"
      ]
     },
     "execution_count": 12,
     "metadata": {},
     "output_type": "execute_result"
    }
   ],
   "source": [
    "recording_pca_components = np.load(\"/home/mr2238/BrainLM/inference_plots/dataset_v3/pca_reduced_raw_data_200length_200components.npy\")\n",
    "recording_pca_components.shape"
   ]
  },
  {
   "cell_type": "code",
   "execution_count": 13,
   "metadata": {},
   "outputs": [
    {
     "data": {
      "text/plain": [
       "Dataset({\n",
       "    features: ['Raw_Recording', 'Voxelwise_RobustScaler_Normalized_Recording', 'Filename', 'Patient ID', 'Order', 'eid', 'Gender', 'Age.At.MHQ', 'PHQ9.Severity', 'Depressed.At.Baseline', 'Neuroticism', 'Self.Harm.Ever', 'Not.Worth.Living', 'PCL.Score', 'GAD7.Severity', 'cls_token_pca_components', 'whole_cls_token', 'recording_pca_components'],\n",
       "    num_rows: 76295\n",
       "})"
      ]
     },
     "execution_count": 13,
     "metadata": {},
     "output_type": "execute_result"
    }
   ],
   "source": [
    "recording_pca_components_list = [recording_pca_components[idx] for idx in range(total_num_ex)]\n",
    "concat_ds = concat_ds.add_column(name=\"recording_pca_components\", column=recording_pca_components_list)\n",
    "concat_ds"
   ]
  },
  {
   "cell_type": "code",
   "execution_count": 14,
   "metadata": {},
   "outputs": [
    {
     "data": {
      "text/plain": [
       "(200,)"
      ]
     },
     "execution_count": 14,
     "metadata": {},
     "output_type": "execute_result"
    }
   ],
   "source": [
    "np.array(concat_ds[0][\"cls_token_pca_components\"], dtype=np.float32).shape"
   ]
  },
  {
   "cell_type": "code",
   "execution_count": 15,
   "metadata": {},
   "outputs": [
    {
     "name": "stdout",
     "output_type": "stream",
     "text": [
      "[-0.5865330696105957, -0.2947590947151184, 0.1324397772550583, -1.0456269979476929, 0.8647788166999817]\n",
      "[-27.499038696289062, 10.373053550720215, -30.58742332458496, -25.046045303344727, 29.680246353149414]\n"
     ]
    }
   ],
   "source": [
    "print(concat_ds[0][\"cls_token_pca_components\"][:5])\n",
    "print(concat_ds[0][\"recording_pca_components\"][:5])"
   ]
  },
  {
   "cell_type": "code",
   "execution_count": null,
   "metadata": {},
   "outputs": [],
   "source": []
  },
  {
   "cell_type": "code",
   "execution_count": null,
   "metadata": {},
   "outputs": [],
   "source": []
  },
  {
   "cell_type": "code",
   "execution_count": 16,
   "metadata": {},
   "outputs": [
    {
     "name": "stdout",
     "output_type": "stream",
     "text": [
      "[nan, nan, nan, 0.0, 1.0, 0.0, nan, nan, 0.0, 0.0]\n",
      "[nan, nan, nan, 52.0, 72.0, 75.0, nan, nan, 72.0, 63.0]\n",
      "[nan, nan, nan, 3.0, 1.0, 0.0, nan, nan, 0.0, 10.0]\n",
      "[nan, nan, nan, 0.0, 0.0, 1.0, nan, nan, 0.0, 1.0]\n",
      "[nan, nan, nan, 5.0, nan, 1.0, nan, nan, 4.0, nan]\n",
      "[nan, nan, nan, 0.0, 0.0, 0.0, nan, nan, 0.0, 0.0]\n",
      "[nan, nan, nan, 0.0, 1.0, 0.0, nan, nan, 0.0, 0.0]\n",
      "[nan, nan, nan, 7.0, 11.0, 7.0, nan, nan, 4.0, 14.0]\n",
      "[nan, nan, nan, 2.0, 3.0, 4.0, nan, nan, 0.0, 10.0]\n"
     ]
    }
   ],
   "source": [
    "print(concat_ds[\"Gender\"][:10])\n",
    "print(concat_ds[\"Age.At.MHQ\"][:10])\n",
    "print(concat_ds[\"PHQ9.Severity\"][:10])\n",
    "print(concat_ds[\"Depressed.At.Baseline\"][:10])\n",
    "print(concat_ds[\"Neuroticism\"][:10])\n",
    "print(concat_ds[\"Self.Harm.Ever\"][:10])\n",
    "print(concat_ds[\"Not.Worth.Living\"][:10])\n",
    "print(concat_ds[\"PCL.Score\"][:10])\n",
    "print(concat_ds[\"GAD7.Severity\"][:10])"
   ]
  },
  {
   "cell_type": "code",
   "execution_count": 17,
   "metadata": {
    "scrolled": true
   },
   "outputs": [
    {
     "name": "stdout",
     "output_type": "stream",
     "text": [
      "Gender: [ 0.  1. nan]\n",
      "Age.At.MHQ: [47. 48. 49. 50. 51. 52. 53. 54. 55. 56. 57. 58. 59. 60. 61. 62. 63. 64.\n",
      " 65. 66. 67. 68. 69. 70. 71. 72. 73. 74. 75. 76. 77. 78. 79. 80. nan]\n",
      "PHQ9.Severity: [ 0.  1.  2.  3.  4.  5.  6.  7.  8.  9. 10. 11. 12. 13. 14. 15. 16. 17.\n",
      " 18. 19. 20. 21. 22. 23. 24. 25. 26. 27. nan]\n",
      "Depressed.At.Baseline: [ 0.  1. nan]\n",
      "Neuroticism: [ 0.  1.  2.  3.  4.  5.  6.  7.  8.  9. 10. 11. 12. nan]\n",
      "Self.Harm.Ever: [ 0.  1. nan]\n",
      "Not.Worth.Living: [ 0.  1. nan]\n",
      "PCL.Score: [ 1.  2.  3.  4.  5.  6.  7.  8.  9. 10. 11. 12. 13. 14. 15. 16. 17. 18.\n",
      " 19. 20. 21. 22. 23. 24. 25. 26. 27. 28. 29. nan]\n",
      "GAD7.Severity: [ 0.  1.  2.  3.  4.  5.  6.  7.  8.  9. 10. 11. 12. 13. 14. 15. 16. 17.\n",
      " 18. 19. 20. 21. nan]\n"
     ]
    }
   ],
   "source": [
    "print(\"Gender:\", np.unique(np.array(concat_ds[\"Gender\"])))\n",
    "print(\"Age.At.MHQ:\", np.unique(np.array(concat_ds[\"Age.At.MHQ\"])))\n",
    "print(\"PHQ9.Severity:\", np.unique(np.array(concat_ds[\"PHQ9.Severity\"])))\n",
    "print(\"Depressed.At.Baseline:\", np.unique(np.array(concat_ds[\"Depressed.At.Baseline\"])))\n",
    "print(\"Neuroticism:\", np.unique(np.array(concat_ds[\"Neuroticism\"])))\n",
    "print(\"Self.Harm.Ever:\", np.unique(np.array(concat_ds[\"Self.Harm.Ever\"])))\n",
    "print(\"Not.Worth.Living:\", np.unique(np.array(concat_ds[\"Not.Worth.Living\"])))\n",
    "print(\"PCL.Score:\", np.unique(np.array(concat_ds[\"PCL.Score\"])))\n",
    "print(\"GAD7.Severity:\", np.unique(np.array(concat_ds[\"GAD7.Severity\"])))"
   ]
  },
  {
   "cell_type": "code",
   "execution_count": 18,
   "metadata": {},
   "outputs": [
    {
     "data": {
      "text/plain": [
       "(array([ 0.,  1., nan]), array([25965, 11191, 39139]))"
      ]
     },
     "execution_count": 18,
     "metadata": {},
     "output_type": "execute_result"
    }
   ],
   "source": [
    "np.unique(np.array(concat_ds[\"Not.Worth.Living\"]), return_counts=True)"
   ]
  },
  {
   "cell_type": "code",
   "execution_count": null,
   "metadata": {},
   "outputs": [],
   "source": []
  },
  {
   "cell_type": "markdown",
   "metadata": {},
   "source": [
    "## Run SVM Regression on continuous metadata variables"
   ]
  },
  {
   "cell_type": "code",
   "execution_count": 29,
   "metadata": {},
   "outputs": [],
   "source": [
    "def run_svm_regression(variable_of_interest):\n",
    "    assert variable_of_interest in [\"Age.At.MHQ\", \"PHQ9.Severity\", \"Neuroticism\", \"PCL.Score\", \"GAD7.Severity\"], \\\n",
    "        \"Please specify a metadata variable with a range of continuous values.\"\n",
    "    results = {}\n",
    "    \n",
    "    # Select out rows of concat_ds where we have a value for desired metadata variable\n",
    "    full_label_list = concat_ds[variable_of_interest]\n",
    "    non_nan_indices = [idx for idx in range(len(full_label_list)) if not math.isnan(full_label_list[idx])]\n",
    "    non_nan_ds = concat_ds.select(non_nan_indices)\n",
    "    \n",
    "    # Shuffle dataset reproducibly for train/test split, in case patients had some ordering in data\n",
    "    non_nan_ds = non_nan_ds.shuffle(seed=42)\n",
    "    \n",
    "    # Select a fifth of samples after shuffling\n",
    "#     total_samples = non_nan_ds.num_rows\n",
    "#     fifth_samples = total_samples // 5\n",
    "#     start_idx = fifth_samples * split\n",
    "#     end_idx = start_idx + fifth_samples\n",
    "#     split_indices = list(range(start_idx, end_idx))\n",
    "#     non_nan_ds = non_nan_ds.select(split_indices)\n",
    "    \n",
    "    # Get PCA components for raw data and CLS tokens after shuffling\n",
    "    raw_data_pca_nonnan = np.array(non_nan_ds[\"recording_pca_components\"], dtype=np.float32)\n",
    "    cls_token_pca_nonnan = np.array(non_nan_ds[\"cls_token_pca_components\"], dtype=np.float32)\n",
    "    whole_cls_token = np.array(non_nan_ds[\"whole_cls_token\"], dtype=np.float32)\n",
    "    \n",
    "    # Get labels\n",
    "    labels = non_nan_ds[variable_of_interest]\n",
    "    labels = [int(num) for num in labels]\n",
    "    \n",
    "    # Z-score normalize labels for regression\n",
    "    z_score_transform = StandardScaler()\n",
    "    labels_normalized_np = z_score_transform.fit_transform(np.expand_dims(np.array(labels), axis=1))\n",
    "    labels_normalized_np = np.squeeze(labels_normalized_np, axis=1)\n",
    "    labels_normalized = labels_normalized_np.tolist()\n",
    "    \n",
    "    #--- Fit MLP on Raw Data PCA Components ---#\n",
    "    regr = svm.SVR()\n",
    "    scores = cross_val_score(regr, raw_data_pca_nonnan, labels_normalized, cv=5, \n",
    "                             scoring=\"neg_mean_squared_error\")\n",
    "    scores = [-1 * num for num in scores]\n",
    "    results[\"Raw_Data_PCA\"] = scores\n",
    "    \n",
    "    print(f\"Raw Data PCA Components MSE: {statistics.mean(scores):.3f} +/- {statistics.stdev(scores):.3f}\")\n",
    "    \n",
    "    #--- Fit MLP on CLS Token PCA Components ---#\n",
    "    regr = svm.SVR()\n",
    "    scores = cross_val_score(regr, cls_token_pca_nonnan, labels_normalized, cv=5, \n",
    "                             scoring=\"neg_mean_squared_error\")\n",
    "    scores = [-1 * num for num in scores]\n",
    "    results[\"CLS_Token_PCA\"] = scores\n",
    "    print(f\"CLS Token PCA Component MSE: {statistics.mean(scores):.3f} +/- {statistics.stdev(scores):.3f}\")\n",
    "    \n",
    "    #--- Fit MLP on Whole CLS Tokens ---#\n",
    "    regr = svm.SVR()\n",
    "    scores = cross_val_score(regr, whole_cls_token, labels_normalized, cv=5, \n",
    "                             scoring=\"neg_mean_squared_error\")\n",
    "    scores = [-1 * num for num in scores]\n",
    "    results[\"Whole_CLS_Token\"] = scores\n",
    "    print(f\"Whole CLS Token MSE: {statistics.mean(scores):.3f} +/- {statistics.stdev(scores):.3f}\")\n",
    "    \n",
    "    return results"
   ]
  },
  {
   "cell_type": "code",
   "execution_count": 30,
   "metadata": {
    "scrolled": true
   },
   "outputs": [
    {
     "name": "stderr",
     "output_type": "stream",
     "text": [
      "Loading cached shuffled indices for dataset at /home/sr2464/palmer_scratch/datasets/UKB_Large_rsfMRI_and_tffMRI_Arrow_WithRegression_v3_with_metadata/train_ukbiobank/cache-d8ca8d5320239fd9.arrow\n"
     ]
    },
    {
     "name": "stdout",
     "output_type": "stream",
     "text": [
      "Raw Data PCA Components MSE: 0.797 +/- 0.011\n",
      "CLS Token PCA Component MSE: 0.776 +/- 0.013\n",
      "Whole CLS Token MSE: 0.812 +/- 0.013\n"
     ]
    }
   ],
   "source": [
    "metadata_variable = \"Age.At.MHQ\"\n",
    "phq9_results = run_svm_regression(metadata_variable)"
   ]
  },
  {
   "cell_type": "code",
   "execution_count": 31,
   "metadata": {},
   "outputs": [
    {
     "name": "stderr",
     "output_type": "stream",
     "text": [
      "Loading cached shuffled indices for dataset at /home/sr2464/palmer_scratch/datasets/UKB_Large_rsfMRI_and_tffMRI_Arrow_WithRegression_v3_with_metadata/train_ukbiobank/cache-d8ca8d5320239fd9.arrow\n"
     ]
    },
    {
     "name": "stdout",
     "output_type": "stream",
     "text": [
      "Raw Data PCA Components MSE: 1.075 +/- 0.049\n",
      "CLS Token PCA Component MSE: 1.096 +/- 0.050\n",
      "Whole CLS Token MSE: 1.092 +/- 0.051\n"
     ]
    }
   ],
   "source": [
    "metadata_variable = \"PHQ9.Severity\"\n",
    "phq9_results = run_svm_regression(metadata_variable)"
   ]
  },
  {
   "cell_type": "code",
   "execution_count": null,
   "metadata": {},
   "outputs": [
    {
     "name": "stderr",
     "output_type": "stream",
     "text": [
      "Loading cached shuffled indices for dataset at /home/sr2464/palmer_scratch/datasets/UKB_Large_rsfMRI_and_tffMRI_Arrow_WithRegression_v3_with_metadata/train_ukbiobank/cache-d8ca8d5320239fd9.arrow\n"
     ]
    },
    {
     "name": "stdout",
     "output_type": "stream",
     "text": [
      "Raw Data PCA Components MSE: 1.110 +/- 0.040\n",
      "CLS Token PCA Component MSE: 1.204 +/- 0.040\n"
     ]
    }
   ],
   "source": [
    "metadata_variable = \"PCL.Score\"\n",
    "phq9_results = run_svm_regression(metadata_variable)"
   ]
  },
  {
   "cell_type": "code",
   "execution_count": null,
   "metadata": {},
   "outputs": [],
   "source": [
    "metadata_variable = \"GAD7.Severity\"\n",
    "phq9_results = run_svm_regression(metadata_variable)"
   ]
  },
  {
   "cell_type": "code",
   "execution_count": null,
   "metadata": {},
   "outputs": [],
   "source": []
  },
  {
   "cell_type": "code",
   "execution_count": null,
   "metadata": {},
   "outputs": [],
   "source": []
  },
  {
   "cell_type": "code",
   "execution_count": null,
   "metadata": {},
   "outputs": [],
   "source": []
  },
  {
   "cell_type": "code",
   "execution_count": null,
   "metadata": {},
   "outputs": [],
   "source": []
  },
  {
   "cell_type": "code",
   "execution_count": null,
   "metadata": {},
   "outputs": [],
   "source": []
  }
 ],
 "metadata": {
  "kernelspec": {
   "display_name": "Python 3 (ipykernel)",
   "language": "python",
   "name": "python3"
  },
  "language_info": {
   "codemirror_mode": {
    "name": "ipython",
    "version": 3
   },
   "file_extension": ".py",
   "mimetype": "text/x-python",
   "name": "python",
   "nbconvert_exporter": "python",
   "pygments_lexer": "ipython3",
   "version": "3.8.16"
  }
 },
 "nbformat": 4,
 "nbformat_minor": 1
}
